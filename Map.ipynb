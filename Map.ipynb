{
  "nbformat": 4,
  "nbformat_minor": 0,
  "metadata": {
    "colab": {
      "provenance": []
    },
    "kernelspec": {
      "name": "python3",
      "display_name": "Python 3"
    },
    "language_info": {
      "name": "python"
    }
  },
  "cells": [
    {
      "cell_type": "code",
      "execution_count": null,
      "metadata": {
        "id": "ASZWz31Ut64x",
        "colab": {
          "base_uri": "https://localhost:8080/"
        },
        "outputId": "ceae73b6-b732-4bf1-83c9-e2037c8211fc"
      },
      "outputs": [
        {
          "output_type": "stream",
          "name": "stdout",
          "text": [
            "Original list:  (1, 2, 3, 4, 5, 6, 7)\n",
            "\n",
            "Triple of said list numbers:\n",
            "[3, 6, 9, 12, 15, 18, 21]\n"
          ]
        }
      ],
      "source": [
        "# Exercise 1\n",
        "# Write a Python program to triple all numbers in a given list of integers. Use python map\n",
        "\n",
        "nums = (1,2,3,4,5,6,7)\n",
        "print(\"Original list: \", nums)\n",
        "result = map(lambda x: x + x + x, nums)\n",
        "print(\"\\nTriple of said list numbers:\")\n",
        "print(list(result))"
      ]
    },
    {
      "cell_type": "code",
      "source": [
        "# Exercise 2\n",
        "# Write a Python program to add three given lists using Python map and lambda\n",
        "\n",
        "nums1 = [1,2,3]\n",
        "nums2 = [4,5,6]\n",
        "nums3 = [7,8,9]\n",
        "print(\"Original list: \")\n",
        "print(nums1)\n",
        "print(nums2)\n",
        "print(nums3)\n",
        "result = map(lambda x,y,z: x + y + z, nums1, nums2, nums3)\n",
        "print(\"\\nNew list after adding above three lists:\")\n",
        "print(list(result))\n",
        "\n"
      ],
      "metadata": {
        "colab": {
          "base_uri": "https://localhost:8080/"
        },
        "id": "OZ4_dzGip1Cp",
        "outputId": "e7e6ec64-1425-4739-bca0-00e653bbc8ec"
      },
      "execution_count": 4,
      "outputs": [
        {
          "output_type": "stream",
          "name": "stdout",
          "text": [
            "Original list: \n",
            "[1, 2, 3]\n",
            "[4, 5, 6]\n",
            "[7, 8, 9]\n",
            "\n",
            "New list after adding above three lists:\n",
            "[12, 15, 18]\n"
          ]
        }
      ]
    },
    {
      "cell_type": "code",
      "source": [
        "# Exercise 3\n",
        "# Write a Python program to listify the list of given strings individually using Python map.\n",
        "color = ['Red', 'Blue', 'Black', 'White', 'Pink']\n",
        "print(\"Original list: \")\n",
        "print(color)\n",
        "print(\"\\nAfter listify the list of strings are:\")\n",
        "result = list(map(list, color))\n",
        "print(result)\n",
        "\n"
      ],
      "metadata": {
        "colab": {
          "base_uri": "https://localhost:8080/"
        },
        "id": "51NeEVd2r50B",
        "outputId": "d16dc11a-2a27-4c08-a68a-1c05974f8ef0"
      },
      "execution_count": 5,
      "outputs": [
        {
          "output_type": "stream",
          "name": "stdout",
          "text": [
            "Original list: \n",
            "['Red', 'Blue', 'Black', 'White', 'Pink']\n",
            "\n",
            "After listify the list of strings are:\n",
            "[['R', 'e', 'd'], ['B', 'l', 'u', 'e'], ['B', 'l', 'a', 'c', 'k'], ['W', 'h', 'i', 't', 'e'], ['P', 'i', 'n', 'k']]\n"
          ]
        }
      ]
    },
    {
      "cell_type": "code",
      "source": [
        "# Exercise 4\n",
        "# Write a Python program to square the elemeents of a list using the map() function.\n",
        "nums = [4,5,2,9]\n",
        "print(\"Original List: \", nums)\n",
        "result = map(lambda x: x ** 2, nums)\n",
        "print(\"Square the elements of the said list using map():\")\n",
        "print(list(result))"
      ],
      "metadata": {
        "colab": {
          "base_uri": "https://localhost:8080/"
        },
        "id": "DMpFqcOFxBzO",
        "outputId": "6f825b3a-8ce3-4e6d-83c8-1d337b324c80"
      },
      "execution_count": 2,
      "outputs": [
        {
          "output_type": "stream",
          "name": "stdout",
          "text": [
            "Original List:  [4, 5, 2, 9]\n",
            "Square the elements of the said list using map():\n",
            "[16, 25, 4, 81]\n"
          ]
        }
      ]
    },
    {
      "cell_type": "code",
      "source": [
        "# Exercise 5\n",
        "# Write a Python program to create a list containing the power of said number in bases raised to the corresponding number in the index using Python map.\n",
        "\n",
        "# pow() is given to map two list objects, one for each base and index parameter.\n",
        "\n",
        "bases_num = [10,20,30,40,50,60,70,80,90,100]\n",
        "index = [1,2,3,4,5,6,7,8,9,10]\n",
        "print(\"Base numbers and index:\")\n",
        "print(bases_num)\n",
        "print(index)\n",
        "result = list(map(pow, bases_num, index))\n",
        "print(\"\\nPower of said number in bases raised to the corresponding number in the index:\")\n",
        "print(result)"
      ],
      "metadata": {
        "colab": {
          "base_uri": "https://localhost:8080/"
        },
        "id": "A2ebYAnv6co6",
        "outputId": "5b9e6bad-e182-46f1-87a3-4717635eabf0"
      },
      "execution_count": 6,
      "outputs": [
        {
          "output_type": "stream",
          "name": "stdout",
          "text": [
            "Base numbers and index:\n",
            "[10, 20, 30, 40, 50, 60, 70, 80, 90, 100]\n",
            "[1, 2, 3, 4, 5, 6, 7, 8, 9, 10]\n",
            "\n",
            "Power of said number in bases raised to the corresponding number in the index:\n",
            "[10, 400, 27000, 2560000, 312500000, 46656000000, 8235430000000, 1677721600000000, 387420489000000000, 100000000000000000000]\n"
          ]
        }
      ]
    },
    {
      "cell_type": "code",
      "source": [
        "# Exercise 6\n",
        "# Write a Python program to convert all the characters into uppercase and lowercase and eliminate\n",
        "# duplicate function.\n",
        "\n",
        "def change_cases(s):\n",
        "  return str(s).upper(), str(s).lower()\n",
        "\n",
        "chrars = {'a', 'b', 'E', 'f', 'a', 'i', 'o', 'U', 'a'}\n",
        "print(\"Original Characters:\\n\", chrars)\n",
        "result = map(change_cases, chrars)\n",
        "print(\"\\nAfter converting above characters in upper and lower cases and eliminating duplicate letters:\")\n",
        "print(set(result))"
      ],
      "metadata": {
        "colab": {
          "base_uri": "https://localhost:8080/"
        },
        "id": "8Aad5fczOpQC",
        "outputId": "3d37b796-b4ac-4a67-e15c-fc0f93514169"
      },
      "execution_count": 1,
      "outputs": [
        {
          "output_type": "stream",
          "name": "stdout",
          "text": [
            "Original Characters:\n",
            " {'U', 'o', 'i', 'b', 'f', 'E', 'a'}\n",
            "\n",
            "After converting above characters in upper and lower cases and eliminating duplicate letters:\n",
            "{('F', 'f'), ('B', 'b'), ('O', 'o'), ('I', 'i'), ('U', 'u'), ('A', 'a'), ('E', 'e')}\n"
          ]
        }
      ]
    },
    {
      "cell_type": "code",
      "source": [
        "# Exercise 7\n",
        "# Write a Python program to add two given lists and find the difference between them. Use the map() function\n",
        "\n",
        "def addition_subtraction(x,y):\n",
        "  return x + y, x - y\n",
        "nums1 = [6, 5, 3, 9]\n",
        "nums2 = [0, 1, 7, 7]\n",
        "print(\"Original lists:\")\n",
        "print(nums1)\n",
        "print(nums2)\n",
        "result = map(addition_subtraction, nums1, nums2)\n",
        "print(\"\\nResult:\")\n",
        "print(list(result))"
      ],
      "metadata": {
        "colab": {
          "base_uri": "https://localhost:8080/"
        },
        "id": "wJ4FrjaDRTyP",
        "outputId": "f55aa859-1788-46ee-b65a-cdf67b75ac06"
      },
      "execution_count": 5,
      "outputs": [
        {
          "output_type": "stream",
          "name": "stdout",
          "text": [
            "Original lists:\n",
            "[6, 5, 3, 9]\n",
            "[0, 1, 7, 7]\n",
            "\n",
            "Result:\n",
            "[(6, 6), (6, 4), (10, -4), (16, 2)]\n"
          ]
        }
      ]
    },
    {
      "cell_type": "code",
      "source": [
        "# Exercise 8\n",
        "# Write a Python program to convert a given list of integers and a tuple of integers into a given list of strings.\n",
        "\n",
        "nums_list = [1,2,3,4]\n",
        "nums_tuple = (0,1,2,3)\n",
        "print(\"Original list and tuple:\")\n",
        "print(nums_list)\n",
        "print(nums_tuple)\n",
        "result_list = list(map(str, nums_list))\n",
        "result_tuple = list(map(str, nums_tuple))\n",
        "print(\"\\nList of strings:\")\n",
        "print(result_list)\n",
        "print(\"\\nTuple of strings:\")\n",
        "print(result_tuple)"
      ],
      "metadata": {
        "colab": {
          "base_uri": "https://localhost:8080/"
        },
        "id": "XZzxS--_RT5Q",
        "outputId": "4881476c-9e0f-4023-a6f9-c072905990fc"
      },
      "execution_count": 6,
      "outputs": [
        {
          "output_type": "stream",
          "name": "stdout",
          "text": [
            "Original list and tuple:\n",
            "[1, 2, 3, 4]\n",
            "(0, 1, 2, 3)\n",
            "\n",
            "List of strings:\n",
            "['1', '2', '3', '4']\n",
            "\n",
            "Tuple of strings:\n",
            "['0', '1', '2', '3']\n"
          ]
        }
      ]
    },
    {
      "cell_type": "code",
      "source": [
        "# Exercise 9\n",
        "# Write a Python program to create a new list taking specific elements from a tuple and convert a string value to an integer.\n",
        "\n",
        "student_data  = [('Alberto Franco','15/05/2002','35kg'), ('Gino Mcneill','17/05/2002','37kg'), ('Ryan Parkes','16/02/1999', '39kg'), ('Eesha Hinton','25/09/1998', '35kg')]\n",
        "print(\"Original data:\")\n",
        "print(student_data)\n",
        "students_data_name = list(map(lambda x:x[0], student_data))\n",
        "students_data_dob = list(map(lambda x:x[1], student_data))\n",
        "students_data_weight = list(map(lambda x:int(x[2][:-2]), student_data))\n",
        "print(\"\\nStudent name:\")\n",
        "print(students_data_name)\n",
        "print(\"Student name:\")\n",
        "print(students_data_dob)\n",
        "print(\"Student weight:\")\n",
        "print(students_data_weight)"
      ],
      "metadata": {
        "colab": {
          "base_uri": "https://localhost:8080/"
        },
        "id": "BVdr75b5UP7P",
        "outputId": "84128686-edb9-4b3c-bc66-2ddec46d9890"
      },
      "execution_count": 7,
      "outputs": [
        {
          "output_type": "stream",
          "name": "stdout",
          "text": [
            "Original data:\n",
            "[('Alberto Franco', '15/05/2002', '35kg'), ('Gino Mcneill', '17/05/2002', '37kg'), ('Ryan Parkes', '16/02/1999', '39kg'), ('Eesha Hinton', '25/09/1998', '35kg')]\n",
            "\n",
            "Student name:\n",
            "['Alberto Franco', 'Gino Mcneill', 'Ryan Parkes', 'Eesha Hinton']\n",
            "Student name:\n",
            "['15/05/2002', '17/05/2002', '16/02/1999', '25/09/1998']\n",
            "Student weight:\n",
            "[35, 37, 39, 35]\n"
          ]
        }
      ]
    },
    {
      "cell_type": "code",
      "source": [
        "# Exercise 10\n",
        "# Write a Python program to compute the sum of elements of an array of integers. Use the map() function\n",
        "\n",
        "from array import array\n",
        "def array_sum(nums_arr):\n",
        "  sum_n = 0\n",
        "  for n in nums_arr:\n",
        "    sum_n += n\n",
        "  return sum_n\n",
        "\n",
        "nums = array('i', [1, 2, 3, 4, 5, -15])\n",
        "print(\"Original array:\",nums)\n",
        "nums_arr = list(map(int, nums))\n",
        "result = array_sum(nums_arr)\n",
        "print(\"Sum of all elements of the said array:\")\n",
        "print(result)"
      ],
      "metadata": {
        "colab": {
          "base_uri": "https://localhost:8080/"
        },
        "id": "YhFXcHPaUbbc",
        "outputId": "e70c732d-3cd5-4f1e-ca0f-d0d7165fdf06"
      },
      "execution_count": 8,
      "outputs": [
        {
          "output_type": "stream",
          "name": "stdout",
          "text": [
            "Original array: array('i', [1, 2, 3, 4, 5, -15])\n",
            "Sum of all elements of the said array:\n",
            "0\n"
          ]
        }
      ]
    },
    {
      "cell_type": "code",
      "source": [
        "# Exercise 11\n",
        "# Write a Python program to count the same pair in two given lists. Use map() function\n",
        "\n",
        "from operator import eq\n",
        "def count_same_pair(nums1, nums2):\n",
        "    result = sum(map(eq, nums1, nums2))\n",
        "    return result\n",
        "\n",
        "nums1 = [1,2,3,4,5,6,7,8]\n",
        "nums2 = [2,2,3,1,2,6,7,9]\n",
        "print(\"Original lists:\")\n",
        "print(nums1)\n",
        "print(nums2)\n",
        "print(\"\\nNumber of same pair of the said two given lists:\")\n",
        "print(count_same_pair(nums1, nums2))"
      ],
      "metadata": {
        "colab": {
          "base_uri": "https://localhost:8080/"
        },
        "id": "0JEsWaF8VRkx",
        "outputId": "6c1c82bc-ca47-48d5-c9fc-3ed165c941a6"
      },
      "execution_count": 9,
      "outputs": [
        {
          "output_type": "stream",
          "name": "stdout",
          "text": [
            "Original lists:\n",
            "[1, 2, 3, 4, 5, 6, 7, 8]\n",
            "[2, 2, 3, 1, 2, 6, 7, 9]\n",
            "\n",
            "Number of same pair of the said two given lists:\n",
            "4\n"
          ]
        }
      ]
    },
    {
      "cell_type": "code",
      "source": [
        "# Exercise 12\n",
        "# Write a Python program to compute the square of the first N Fibonacci numbers, using the map function and generate a list of the numbers.\n",
        "\n",
        "import itertools\n",
        "n = 10\n",
        "def fibonacci_nums(x=0, y=1):\n",
        "    yield x\n",
        "    while True:\n",
        "        yield y\n",
        "        x, y = y, x + y\n",
        "print(\"First 10 Fibonacci numbers:\")\n",
        "result = list(itertools.islice(fibonacci_nums(), n))\n",
        "print(result)\n",
        "square = lambda x: x * x\n",
        "print(\"\\nAfter squaring said numbers of the list:\")\n",
        "print(list(map(square, result)))"
      ],
      "metadata": {
        "colab": {
          "base_uri": "https://localhost:8080/"
        },
        "id": "y-clKXv1V58G",
        "outputId": "43058d67-c4a1-4462-e087-f0b4acc1736b"
      },
      "execution_count": 10,
      "outputs": [
        {
          "output_type": "stream",
          "name": "stdout",
          "text": [
            "First 10 Fibonacci numbers:\n",
            "[0, 1, 1, 2, 3, 5, 8, 13, 21, 34]\n",
            "\n",
            "After squaring said numbers of the list:\n",
            "[0, 1, 1, 4, 9, 25, 64, 169, 441, 1156]\n"
          ]
        }
      ]
    },
    {
      "cell_type": "code",
      "source": [
        "# Exercise 13\n",
        "# Write a Python program to find the ratio of positive numbers, negative numbers and zeroes in an array of integers.\n",
        "\n",
        "from array import array\n",
        "\n",
        "def plusMinus(nums):\n",
        "    n = len(nums)\n",
        "    n1 = n2 = n3 = 0\n",
        "\n",
        "    for x in nums:\n",
        "        if x > 0:\n",
        "            n1 += 1\n",
        "        elif x < 0:\n",
        "            n2 += 1\n",
        "        else:\n",
        "            n3 += 1\n",
        "\n",
        "    return round(n1/n,2), round(n2/n,2), round(n3/n,2)\n",
        "\n",
        "nums = array('i', [0, 1, 2, -1, -5, 6, 0, -3, -2, 3, 4, 6, 8])\n",
        "print(\"Original array:\",nums)\n",
        "nums_arr = list(map(int, nums))\n",
        "result = plusMinus(nums_arr)\n",
        "print(\"Ratio of positive numbers, negative numbers and zeroes:\")\n",
        "print(result)\n",
        "nums = array('i', [2, 1, 2, -1, -5, 6, 4, -3, -2, 3, 4, 6, 8])\n",
        "print(\"\\nOriginal array:\",nums)\n",
        "nums_arr = list(map(int, nums))\n",
        "result = plusMinus(nums_arr)\n",
        "print(\"Ratio of positive numbers, negative numbers and zeroes:\")\n",
        "print(result)"
      ],
      "metadata": {
        "colab": {
          "base_uri": "https://localhost:8080/"
        },
        "id": "M7hiewoiWyVV",
        "outputId": "f058e215-29ea-4e2a-ab0f-0a26d073bbe6"
      },
      "execution_count": 11,
      "outputs": [
        {
          "output_type": "stream",
          "name": "stdout",
          "text": [
            "Original array: array('i', [0, 1, 2, -1, -5, 6, 0, -3, -2, 3, 4, 6, 8])\n",
            "Ratio of positive numbers, negative numbers and zeroes:\n",
            "(0.54, 0.31, 0.15)\n",
            "\n",
            "Original array: array('i', [2, 1, 2, -1, -5, 6, 4, -3, -2, 3, 4, 6, 8])\n",
            "Ratio of positive numbers, negative numbers and zeroes:\n",
            "(0.69, 0.31, 0.0)\n"
          ]
        }
      ]
    },
    {
      "cell_type": "code",
      "source": [
        "# Exercise 14\n",
        "# Write a Python program to interleave two lists into another list randomly. Use the map() function.\n",
        "\n",
        "import random\n",
        "def randomly_interleave(nums1, nums2):\n",
        "    result =  list(map(next, random.sample([iter(nums1)]*len(nums1) + [iter(nums2)]*len(nums2), len(nums1)+len(nums2))))\n",
        "    return result\n",
        "nums1 = [1,2,7,8,3,7]\n",
        "nums2 = [4,3,8,9,4,3,8,9]\n",
        "print(\"Original lists:\")\n",
        "print(nums1)\n",
        "print(nums2)\n",
        "print(\"\\nInterleave two given list into another list randomly:\")\n",
        "print(randomly_interleave(nums1, nums2))"
      ],
      "metadata": {
        "colab": {
          "base_uri": "https://localhost:8080/"
        },
        "id": "Dy1S4lmNXizb",
        "outputId": "88471fdd-8f34-464b-c832-d18d8a2593b3"
      },
      "execution_count": 12,
      "outputs": [
        {
          "output_type": "stream",
          "name": "stdout",
          "text": [
            "Original lists:\n",
            "[1, 2, 7, 8, 3, 7]\n",
            "[4, 3, 8, 9, 4, 3, 8, 9]\n",
            "\n",
            "Interleave two given list into another list randomly:\n",
            "[4, 1, 3, 8, 9, 2, 4, 3, 7, 8, 3, 7, 8, 9]\n"
          ]
        }
      ]
    },
    {
      "cell_type": "code",
      "source": [
        "# Exercise 15\n",
        "# Write a Python program to split a given dictionary of lists into list of dictionaries using the map function.\n",
        "\n",
        "def list_of_dicts(marks):\n",
        "    result = map(dict, zip(*[[(key, val) for val in value] for key, value in marks.items()]))\n",
        "    return list(result)\n",
        "marks = {'Science': [88, 89, 62, 95], 'Language': [77, 78, 84, 80]}\n",
        "print(\"Original dictionary of lists:\")\n",
        "print(marks)\n",
        "print(\"\\nSplit said dictionary of lists into list of dictionaries:\")\n",
        "print(list_of_dicts(marks))"
      ],
      "metadata": {
        "colab": {
          "base_uri": "https://localhost:8080/"
        },
        "id": "T5K46HcXYI0I",
        "outputId": "fb1be019-18fd-478d-8742-b04211d080cd"
      },
      "execution_count": 13,
      "outputs": [
        {
          "output_type": "stream",
          "name": "stdout",
          "text": [
            "Original dictionary of lists:\n",
            "{'Science': [88, 89, 62, 95], 'Language': [77, 78, 84, 80]}\n",
            "\n",
            "Split said dictionary of lists into list of dictionaries:\n",
            "[{'Science': 88, 'Language': 77}, {'Science': 89, 'Language': 78}, {'Science': 62, 'Language': 84}, {'Science': 95, 'Language': 80}]\n"
          ]
        }
      ]
    },
    {
      "cell_type": "code",
      "source": [
        "# Exercise 16\n",
        "# Write a Python program to convert a given list of strings into a list of lists using the map function.\n",
        "\n",
        "def strings_to_listOflists(str):\n",
        "    result = map(list, str)\n",
        "    return list(result)\n",
        "\n",
        "colors = [\"Red\", \"Green\", \"Black\", \"Orange\"]\n",
        "print('Original list of strings:')\n",
        "print(colors)\n",
        "print(\"\\nConvert the said list of strings into list of lists:\")\n",
        "print(strings_to_listOflists(colors))"
      ],
      "metadata": {
        "colab": {
          "base_uri": "https://localhost:8080/"
        },
        "id": "2TBYVzZtYPvB",
        "outputId": "5188268c-bee5-4068-ecef-655fff104293"
      },
      "execution_count": 14,
      "outputs": [
        {
          "output_type": "stream",
          "name": "stdout",
          "text": [
            "Original list of strings:\n",
            "['Red', 'Green', 'Black', 'Orange']\n",
            "\n",
            "Convert the said list of strings into list of lists:\n",
            "[['R', 'e', 'd'], ['G', 'r', 'e', 'e', 'n'], ['B', 'l', 'a', 'c', 'k'], ['O', 'r', 'a', 'n', 'g', 'e']]\n"
          ]
        }
      ]
    },
    {
      "cell_type": "code",
      "source": [
        "# Exercise 17\n",
        "# Write a Python program to convert a given list of tuples to a list of strings using the map function.\n",
        "\n",
        "def tuples_to_list_string(lst):\n",
        "    result = list(map(' '.join, lst))\n",
        "    return result\n",
        "colors = [('red', 'pink'), ('white', 'black'), ('orange', 'green')]\n",
        "print(\"Original list of tuples:\")\n",
        "print(colors)\n",
        "print(\"\\nConvert the said list of tuples to a list of strings:\")\n",
        "print(tuples_to_list_string(colors))\n",
        "names = [('Sheridan','Gentry'), ('Laila','Mckee'), ('Ahsan','Rivas'), ('Conna','Gonzalez')]\n",
        "print(\"\\nOriginal list of tuples:\")\n",
        "print(names)\n",
        "print(\"\\nConvert the said list of tuples to a list of strings:\")\n",
        "print(tuples_to_list_string(names))"
      ],
      "metadata": {
        "colab": {
          "base_uri": "https://localhost:8080/"
        },
        "id": "ANUmFOA3YZqX",
        "outputId": "5c6b8aa0-278f-4d2e-c686-6c2213a9af9d"
      },
      "execution_count": 15,
      "outputs": [
        {
          "output_type": "stream",
          "name": "stdout",
          "text": [
            "Original list of tuples:\n",
            "[('red', 'pink'), ('white', 'black'), ('orange', 'green')]\n",
            "\n",
            "Convert the said list of tuples to a list of strings:\n",
            "['red pink', 'white black', 'orange green']\n",
            "\n",
            "Original list of tuples:\n",
            "[('Sheridan', 'Gentry'), ('Laila', 'Mckee'), ('Ahsan', 'Rivas'), ('Conna', 'Gonzalez')]\n",
            "\n",
            "Convert the said list of tuples to a list of strings:\n",
            "['Sheridan Gentry', 'Laila Mckee', 'Ahsan Rivas', 'Conna Gonzalez']\n"
          ]
        }
      ]
    },
    {
      "cell_type": "code",
      "source": [],
      "metadata": {
        "id": "ukLq3BpDYgX-"
      },
      "execution_count": null,
      "outputs": []
    }
  ]
}