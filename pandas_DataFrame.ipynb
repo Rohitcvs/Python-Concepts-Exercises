{
  "nbformat": 4,
  "nbformat_minor": 0,
  "metadata": {
    "colab": {
      "provenance": [],
      "authorship_tag": "ABX9TyNCBL1Ra1a+ytJ7mrLlNWVZ",
      "include_colab_link": true
    },
    "kernelspec": {
      "name": "python3",
      "display_name": "Python 3"
    },
    "language_info": {
      "name": "python"
    }
  },
  "cells": [
    {
      "cell_type": "markdown",
      "metadata": {
        "id": "view-in-github",
        "colab_type": "text"
      },
      "source": [
        "<a href=\"https://colab.research.google.com/github/Rohitcvs/Python-Concepts-Exercises/blob/main/pandas_DataFrame.ipynb\" target=\"_parent\"><img src=\"https://colab.research.google.com/assets/colab-badge.svg\" alt=\"Open In Colab\"/></a>"
      ]
    },
    {
      "cell_type": "code",
      "execution_count": null,
      "metadata": {
        "colab": {
          "base_uri": "https://localhost:8080/"
        },
        "id": "VHHWpLadKoDV",
        "outputId": "3db524cc-37b8-4490-8908-16ebeaffebab"
      },
      "outputs": [
        {
          "output_type": "stream",
          "name": "stdout",
          "text": [
            "    X   Y   Z\n",
            "0  78  84  86\n",
            "1  85  94  97\n",
            "2  96  89  96\n",
            "3  80  83  72\n",
            "4  86  86  83\n"
          ]
        }
      ],
      "source": [
        "# Exercise 1\n",
        "# Write a Pandas program to create a dataframe from a dictionary and display it\n",
        "# Sample data: {'X':[78,85,96,80,86],'Y':[84,94,89,83,86],'Z':[86,97,96,72,83]}\n",
        "\n",
        "import pandas as pd\n",
        "df = pd.DataFrame({'X':[78,85,96,80,86],'Y':[84,94,89,83,86],'Z':[86,97,96,72,83]})\n",
        "print(df)"
      ]
    },
    {
      "cell_type": "code",
      "source": [
        "# Exercise 2\n",
        "# Write a Pandas program to create and display a DataFrame from a specified dictionary data\n",
        "# which has the index labels\n",
        "\n",
        "import pandas as pd\n",
        "import numpy as np\n",
        "\n",
        "exam_data = {'name':['Anastasia','Dima','Katherine','James','Emily','Michael','Matthew','Laura','Kevin','Jonas'],\n",
        "             'score': [12.5, 9, 16.5, np.nan, 9, 20, 14.5, np.nan, 8, 19],\n",
        "             'attempts': [1, 3, 2, 3, 2, 3, 1, 1, 2, 1],\n",
        "             'qualify': ['yes', 'no', 'yes', 'no', 'no', 'yes', 'yes', 'no', 'no', 'yes']}\n",
        "labels = ['a', 'b', 'c', 'd', 'e', 'f', 'g', 'h', 'i', 'j']\n",
        "df = pd.DataFrame(exam_data, index = labels)\n",
        "print(df)"
      ],
      "metadata": {
        "colab": {
          "base_uri": "https://localhost:8080/"
        },
        "id": "nD59hZW-L29Z",
        "outputId": "5d96cdc3-c09e-44ed-af34-cd2ef4e1189d"
      },
      "execution_count": null,
      "outputs": [
        {
          "output_type": "stream",
          "name": "stdout",
          "text": [
            "        name  score  attempts qualify\n",
            "a  Anastasia   12.5         1     yes\n",
            "b       Dima    9.0         3      no\n",
            "c  Katherine   16.5         2     yes\n",
            "d      James    NaN         3      no\n",
            "e      Emily    9.0         2      no\n",
            "f    Michael   20.0         3     yes\n",
            "g    Matthew   14.5         1     yes\n",
            "h      Laura    NaN         1      no\n",
            "i      Kevin    8.0         2      no\n",
            "j      Jonas   19.0         1     yes\n"
          ]
        }
      ]
    },
    {
      "cell_type": "code",
      "source": [
        "# Exercise 3\n",
        "# Write a Pandas program to display a summary of the basic information about a specified\n",
        "# DataFrame and its data\n",
        "\n",
        "import pandas as pd\n",
        "import numpy as np\n",
        "\n",
        "exam_data = {'name': ['Anastasia', 'Dima', 'Katherine', 'James', 'Emily', 'Michael', 'Matthew', 'Laura', 'Kevin', 'Jonas'],\n",
        "             'score': [12.5, 9, 16.5, np.nan, 9, 20, 14.5, np.nan, 8, 19],\n",
        "             'attempts': [1, 3, 2, 3, 2, 3, 1, 1, 2, 1],\n",
        "             'qualify': ['yes', 'no', 'yes', 'no', 'no', 'yes', 'yes', 'no', 'no', 'yes']}\n",
        "labels = ['a', 'b', 'c', 'd', 'e', 'f', 'g', 'h', 'i', 'j']\n",
        "df = pd.DataFrame(exam_data, index = labels)\n",
        "print(df.info())"
      ],
      "metadata": {
        "colab": {
          "base_uri": "https://localhost:8080/"
        },
        "id": "GgvUpT_PObSB",
        "outputId": "2b1b413f-4b16-4f97-a0a0-f6cef478d62e"
      },
      "execution_count": null,
      "outputs": [
        {
          "output_type": "stream",
          "name": "stdout",
          "text": [
            "<class 'pandas.core.frame.DataFrame'>\n",
            "Index: 10 entries, a to j\n",
            "Data columns (total 4 columns):\n",
            " #   Column    Non-Null Count  Dtype  \n",
            "---  ------    --------------  -----  \n",
            " 0   name      10 non-null     object \n",
            " 1   score     8 non-null      float64\n",
            " 2   attempts  10 non-null     int64  \n",
            " 3   qualify   10 non-null     object \n",
            "dtypes: float64(1), int64(1), object(2)\n",
            "memory usage: 400.0+ bytes\n",
            "None\n"
          ]
        }
      ]
    },
    {
      "cell_type": "code",
      "source": [
        "# Exercise 4\n",
        "# Write a Pandas program to get the first 3 rows of a given DataFrame.\n",
        "\n",
        "import pandas as pd\n",
        "import numpy as np\n",
        "\n",
        "exam_data = {'name': ['Anastasia', 'Dima', 'Katherine', 'James', 'Emily', 'Michael', 'Matthew', 'Laura', 'Kevin', 'Jonas'],\n",
        "             'score': [12.5, 9, 16.5, np.nan, 9, 20, 14.5, np.nan, 8, 19],\n",
        "             'attempts': [1, 3, 2, 3, 2, 3, 1, 1, 2, 1],\n",
        "             'qualify': ['yes', 'no', 'yes', 'no', 'no', 'yes', 'yes', 'no', 'no', 'yes']}\n",
        "labels = ['a', 'b', 'c', 'd', 'e', 'f', 'g', 'h', 'i', 'j']\n",
        "df = pd.DataFrame(exam_data, index = labels)\n",
        "df1 = df.head(3)\n",
        "print(\"First three rows of the data frame:\")\n",
        "print(df1)"
      ],
      "metadata": {
        "colab": {
          "base_uri": "https://localhost:8080/"
        },
        "id": "Jom5s3enSEgm",
        "outputId": "445d373b-287a-4622-801b-f1b7a55f9f09"
      },
      "execution_count": null,
      "outputs": [
        {
          "output_type": "stream",
          "name": "stdout",
          "text": [
            "First three rows of the data frame:\n",
            "        name  score  attempts qualify\n",
            "a  Anastasia   12.5         1     yes\n",
            "b       Dima    9.0         3      no\n",
            "c  Katherine   16.5         2     yes\n"
          ]
        }
      ]
    },
    {
      "cell_type": "code",
      "source": [
        "# Exercise 5\n",
        "# Write a Pandas program to select the 'name' and 'score' columns from the following DataFrame.\n",
        "\n",
        "import pandas as pd\n",
        "import numpy as np\n",
        "\n",
        "exam_data = {'name': ['Anastasia', 'Dima', 'Katherine', 'James', 'Emily', 'Michael', 'Matthew', 'Laura', 'Kevin', 'Jonas'],\n",
        "'score': [12.5, 9, 16.5, np.nan, 9, 20, 14.5, np.nan, 8, 19],\n",
        "'attempts': [1, 3, 2, 3, 2, 3, 1, 1, 2, 1],\n",
        "'qualify': ['yes', 'no', 'yes', 'no', 'no', 'yes', 'yes', 'no', 'no', 'yes']}\n",
        "\n",
        "labels = ['a', 'b', 'c', 'd', 'e', 'f', 'g', 'h', 'i', 'j']\n",
        "\n",
        "print(\"Select specific columns:\")\n",
        "print(df[['name', 'score']])\n",
        "\n",
        "\n"
      ],
      "metadata": {
        "colab": {
          "base_uri": "https://localhost:8080/"
        },
        "id": "9GQ0fqpwUFcn",
        "outputId": "3e62e6c0-5427-45b5-c202-0980626ea33a"
      },
      "execution_count": null,
      "outputs": [
        {
          "output_type": "stream",
          "name": "stdout",
          "text": [
            "Select specific columns:\n",
            "        name  score\n",
            "a  Anastasia   12.5\n",
            "b       Dima    9.0\n",
            "c  Katherine   16.5\n",
            "d      James    NaN\n",
            "e      Emily    9.0\n",
            "f    Michael   20.0\n",
            "g    Matthew   14.5\n",
            "h      Laura    NaN\n",
            "i      Kevin    8.0\n",
            "j      Jonas   19.0\n"
          ]
        }
      ]
    },
    {
      "cell_type": "code",
      "source": [
        "# Exercise 6\n",
        "# Write a Pandas program to select the specified columns and rows from a given DataFrame\n",
        "# Select 'name' and 'score' columsns in rows 1, 3, 5, 6 from the following data frame.\n",
        "\n",
        "import pandas as pd\n",
        "import numpy as np\n",
        "\n",
        "exam_data  = {'name': ['Anastasia', 'Dima', 'Katherine', 'James', 'Emily', 'Michael', 'Matthew', 'Laura', 'Kevin', 'Jonas'],\n",
        "        'score': [12.5, 9, 16.5, np.nan, 9, 20, 14.5, np.nan, 8, 19],\n",
        "        'attempts': [1, 3, 2, 3, 2, 3, 1, 1, 2, 1],\n",
        "        'qualify': ['yes', 'no', 'yes', 'no', 'no', 'yes', 'yes', 'no', 'no', 'yes']}\n",
        "labels = ['a', 'b', 'c', 'd', 'e', 'f', 'g', 'h', 'i', 'j']\n",
        "\n",
        "df = pd.DataFrame(exam_data, index = labels)\n",
        "print(\"Select specific columns and rows:\")\n",
        "#print(df.iloc[[1, 3, 5, 6], [0, 1]])\n",
        "print(df.loc[['a', 'c', 'e', 'f'], ['name', 'score']])\n"
      ],
      "metadata": {
        "colab": {
          "base_uri": "https://localhost:8080/"
        },
        "id": "jbG8qrwJWCpZ",
        "outputId": "7cc9fbb2-a0e1-4807-d880-f3007e6caa9b"
      },
      "execution_count": null,
      "outputs": [
        {
          "output_type": "stream",
          "name": "stdout",
          "text": [
            "Select specific columns and rows:\n",
            "        name  score\n",
            "a  Anastasia   12.5\n",
            "c  Katherine   16.5\n",
            "e      Emily    9.0\n",
            "f    Michael   20.0\n"
          ]
        }
      ]
    },
    {
      "cell_type": "code",
      "source": [
        "# Exercise 7\n",
        "# Write a Pandas program to select the rows where the number of attempts in the examination\n",
        "# is greater than 2\n",
        "\n",
        "import numpy as np\n",
        "import pandas as pd\n",
        "\n",
        "exam_data  = {'name': ['Anastasia', 'Dima', 'Katherine', 'James', 'Emily', 'Michael', 'Matthew', 'Laura', 'Kevin', 'Jonas'],\n",
        "        'score': [12.5, 9, 16.5, np.nan, 9, 20, 14.5, np.nan, 8, 19],\n",
        "        'attempts' : [1, 3, 2, 3, 2, 3, 1, 1, 2, 1],\n",
        "        'qualify': ['yes', 'no', 'yes', 'no', 'no', 'yes', 'yes', 'no', 'no', 'yes']}\n",
        "labels = ['a', 'b', 'c', 'd', 'e', 'f', 'g', 'h', 'i', 'j']\n",
        "\n",
        "df = pd.DataFrame(exam_data, index = labels)\n",
        "print(\"Number of attempts in the examination greater than 2:\")\n",
        "print(df[df['attempts'] > 2])\n",
        "print(df['attempts'] > 2)\n",
        "\n",
        "\n",
        "\n"
      ],
      "metadata": {
        "colab": {
          "base_uri": "https://localhost:8080/"
        },
        "id": "EOu57NPgXDRC",
        "outputId": "4fa2a6df-4eac-41bc-a199-77bb30a1b47f"
      },
      "execution_count": null,
      "outputs": [
        {
          "output_type": "stream",
          "name": "stdout",
          "text": [
            "Number of attempts in the examination greater than 2:\n",
            "      name  score  attempts qualify\n",
            "b     Dima    9.0         3      no\n",
            "d    James    NaN         3      no\n",
            "f  Michael   20.0         3     yes\n",
            "a    False\n",
            "b     True\n",
            "c    False\n",
            "d     True\n",
            "e    False\n",
            "f     True\n",
            "g    False\n",
            "h    False\n",
            "i    False\n",
            "j    False\n",
            "Name: attempts, dtype: bool\n"
          ]
        }
      ]
    },
    {
      "cell_type": "code",
      "source": [
        "# Exercise 8\n",
        "# Write a Pandas program to count the number of rows and columns of a DataFrame.\n",
        "\n",
        "import pandas as pd\n",
        "import numpy as np\n",
        "exam_data  = {'name': ['Anastasia', 'Dima', 'Katherine', 'James', 'Emily', 'Michael', 'Matthew', 'Laura', 'Kevin', 'Jonas'],\n",
        "        'score': [12.5, 9, 16.5, np.nan, 9, 20, 14.5, np.nan, 8, 19],\n",
        "        'attempts': [1, 3, 2, 3, 2, 3, 1, 1, 2, 1],\n",
        "        'qualify': ['yes', 'no', 'yes', 'no', 'no', 'yes', 'yes', 'no', 'no', 'yes']}\n",
        "labels = ['a', 'b', 'c', 'd', 'e', 'f', 'g', 'h', 'i', 'j']\n",
        "df = pd.DataFrame(exam_data, index = labels)\n",
        "total_rows = len(df.axes[0])\n",
        "total_columns = len(df.axes[1])\n",
        "print(\"Number of Rows: \" + str(total_rows))\n",
        "print(\"Number of Columns: \" + str(total_columns))\n",
        "df.shape\n",
        "\n",
        "\n",
        "\n"
      ],
      "metadata": {
        "colab": {
          "base_uri": "https://localhost:8080/"
        },
        "id": "V4E0s53TYLbd",
        "outputId": "3cf5bfc2-8273-4794-9310-09c50ab2f631"
      },
      "execution_count": null,
      "outputs": [
        {
          "output_type": "stream",
          "name": "stdout",
          "text": [
            "Number of Rows: 10\n",
            "Number of Columns: 4\n"
          ]
        },
        {
          "output_type": "execute_result",
          "data": {
            "text/plain": [
              "(10, 4)"
            ]
          },
          "metadata": {},
          "execution_count": 8
        }
      ]
    },
    {
      "cell_type": "code",
      "source": [
        "df.index"
      ],
      "metadata": {
        "colab": {
          "base_uri": "https://localhost:8080/"
        },
        "id": "M-WHpaurRt7Q",
        "outputId": "084ac880-d764-41dc-ea3e-d8a0cb5c25f3"
      },
      "execution_count": null,
      "outputs": [
        {
          "output_type": "execute_result",
          "data": {
            "text/plain": [
              "Index(['a', 'b', 'c', 'd', 'e', 'f', 'g', 'h', 'i', 'j'], dtype='object')"
            ]
          },
          "metadata": {},
          "execution_count": 15
        }
      ]
    },
    {
      "cell_type": "code",
      "source": [
        "len(df.index)"
      ],
      "metadata": {
        "colab": {
          "base_uri": "https://localhost:8080/"
        },
        "id": "8j4qXFdURyUT",
        "outputId": "a8fde87a-0687-4ac8-d3c7-82a55fc8a40b"
      },
      "execution_count": null,
      "outputs": [
        {
          "output_type": "execute_result",
          "data": {
            "text/plain": [
              "10"
            ]
          },
          "metadata": {},
          "execution_count": 16
        }
      ]
    },
    {
      "cell_type": "code",
      "source": [
        "df.columns"
      ],
      "metadata": {
        "colab": {
          "base_uri": "https://localhost:8080/"
        },
        "id": "my_ald3hR6HK",
        "outputId": "34311587-6482-40f3-8adb-a63accbca31b"
      },
      "execution_count": null,
      "outputs": [
        {
          "output_type": "execute_result",
          "data": {
            "text/plain": [
              "Index(['name', 'score', 'attempts', 'qualify'], dtype='object')"
            ]
          },
          "metadata": {},
          "execution_count": 17
        }
      ]
    },
    {
      "cell_type": "code",
      "source": [
        "len(df.columns)"
      ],
      "metadata": {
        "colab": {
          "base_uri": "https://localhost:8080/"
        },
        "id": "ecUiC2OuR6PR",
        "outputId": "6a9220e3-1b04-4f8f-ad66-60807e554629"
      },
      "execution_count": null,
      "outputs": [
        {
          "output_type": "execute_result",
          "data": {
            "text/plain": [
              "4"
            ]
          },
          "metadata": {},
          "execution_count": 18
        }
      ]
    },
    {
      "cell_type": "code",
      "source": [
        "df.shape[0]"
      ],
      "metadata": {
        "colab": {
          "base_uri": "https://localhost:8080/"
        },
        "id": "nX05CJ4yROZ0",
        "outputId": "7b2bcfce-7e20-4c02-84c9-198a91ee5790"
      },
      "execution_count": null,
      "outputs": [
        {
          "output_type": "execute_result",
          "data": {
            "text/plain": [
              "10"
            ]
          },
          "metadata": {},
          "execution_count": 14
        }
      ]
    },
    {
      "cell_type": "code",
      "source": [
        "a = (10, 4)\n",
        "\n"
      ],
      "metadata": {
        "id": "RZEhRtTaQ1I7"
      },
      "execution_count": null,
      "outputs": []
    },
    {
      "cell_type": "code",
      "source": [
        "print(a)"
      ],
      "metadata": {
        "colab": {
          "base_uri": "https://localhost:8080/"
        },
        "id": "fmPfFIufQ8BV",
        "outputId": "90a4992c-dc17-4e2e-fe49-89c594853d90"
      },
      "execution_count": null,
      "outputs": [
        {
          "output_type": "stream",
          "name": "stdout",
          "text": [
            "(10, 4)\n"
          ]
        }
      ]
    },
    {
      "cell_type": "code",
      "source": [
        "a[0]"
      ],
      "metadata": {
        "colab": {
          "base_uri": "https://localhost:8080/"
        },
        "id": "NjhkkxeiRD-8",
        "outputId": "8ef58250-3545-49ee-d7a8-ed9491490268"
      },
      "execution_count": null,
      "outputs": [
        {
          "output_type": "execute_result",
          "data": {
            "text/plain": [
              "10"
            ]
          },
          "metadata": {},
          "execution_count": 12
        }
      ]
    },
    {
      "cell_type": "code",
      "source": [
        "# Exercise 9\n",
        "# Write a Pandas program to select the rows where the score is missing, i.e is NaN.\n",
        "\n",
        "import pandas as pd\n",
        "import numpy as np\n",
        "exam_data  = {'name': ['Anastasia', 'Dima', 'Katherine', 'James', 'Emily', 'Michael', 'Matthew', 'Laura', 'Kevin', 'Jonas'],\n",
        "        'score': [12.5, 9, 16.5, np.nan, 9, 20, 14.5, np.nan, 8, 19],\n",
        "        'attempts': [1, 3, 2, 3, 2, 3, 1, 1, 2, 1],\n",
        "        'qualify': ['yes', 'no', 'yes', 'no', 'no', 'yes', 'yes', 'no', 'no', 'yes']}\n",
        "labels = ['a', 'b', 'c', 'd', 'e', 'f', 'g', 'h', 'i', 'j']\n",
        "\n",
        "df = pd.DataFrame(exam_data, index = labels)\n",
        "print(\"Rows where score is missing:\")\n",
        "print(df[df['score'].isnull()])\n"
      ],
      "metadata": {
        "colab": {
          "base_uri": "https://localhost:8080/"
        },
        "id": "mHKfMG0ZZfjo",
        "outputId": "f7966eb5-4b5a-4eeb-ab1a-03e78a366b8a"
      },
      "execution_count": null,
      "outputs": [
        {
          "output_type": "stream",
          "name": "stdout",
          "text": [
            "Rows where score is missing:\n",
            "    name  score  attempts qualify\n",
            "d  James    NaN         3      no\n",
            "h  Laura    NaN         1      no\n"
          ]
        }
      ]
    },
    {
      "cell_type": "code",
      "source": [
        "# Exercise 10\n",
        "# Write a Pandas program to select the rows where the score is between 15 and 20 (inclusive)\n",
        "\n",
        "import pandas as pd\n",
        "import numpy as np\n",
        "exam_data  = {'name': ['Anastasia', 'Dima', 'Katherine', 'James', 'Emily', 'Michael', 'Matthew', 'Laura', 'Kevin', 'Jonas'],\n",
        "        'score': [12.5, 9, 16.5, np.nan, 9, 20, 14.5, np.nan, 8, 19],\n",
        "        'attempts': [1, 3, 2, 3, 2, 3, 1, 1, 2, 1],\n",
        "        'qualify': ['yes', 'no', 'yes', 'no', 'no', 'yes', 'yes', 'no', 'no', 'yes']}\n",
        "labels = ['a', 'b', 'c', 'd', 'e', 'f', 'g', 'h', 'i', 'j']\n",
        "\n",
        "df = pd.DataFrame(exam_data, index = labels)\n",
        "print(\"Rows where score between 15 and 20 (inclusive):\")\n",
        "print(df[df['score'].between(15, 20)])\n",
        "\n",
        "\n",
        "\n"
      ],
      "metadata": {
        "colab": {
          "base_uri": "https://localhost:8080/"
        },
        "id": "NcPFMfooa9GE",
        "outputId": "638af955-18e8-49a3-a25a-8f398ea7d244"
      },
      "execution_count": null,
      "outputs": [
        {
          "output_type": "stream",
          "name": "stdout",
          "text": [
            "Rows where score between 15 and 20 (inclusive):\n",
            "        name  score  attempts qualify\n",
            "c  Katherine   16.5         2     yes\n",
            "f    Michael   20.0         3     yes\n",
            "j      Jonas   19.0         1     yes\n"
          ]
        }
      ]
    },
    {
      "cell_type": "code",
      "source": [
        "print(df[(df['score'] > 15) & (df['score'] < 21)])"
      ],
      "metadata": {
        "colab": {
          "base_uri": "https://localhost:8080/"
        },
        "id": "Kw3NNVZgS04b",
        "outputId": "f3747d95-9be1-450a-ba67-1c7fa69fecdc"
      },
      "execution_count": null,
      "outputs": [
        {
          "output_type": "stream",
          "name": "stdout",
          "text": [
            "        name  score  attempts qualify\n",
            "c  Katherine   16.5         2     yes\n",
            "f    Michael   20.0         3     yes\n",
            "j      Jonas   19.0         1     yes\n"
          ]
        }
      ]
    },
    {
      "cell_type": "code",
      "source": [
        "# Exercise 11\n",
        "# Write a Pandas program to select the rows where number of attempts in the examination is\n",
        "# less than 2 and score greater than 15\n",
        "\n",
        "import pandas as pd\n",
        "import numpy as np\n",
        "exam_data  = {'name': ['Anastasia', 'Dima', 'Katherine', 'James', 'Emily', 'Michael', 'Matthew', 'Laura', 'Kevin', 'Jonas'],\n",
        "        'score': [12.5, 9, 16.5, np.nan, 9, 20, 14.5, np.nan, 8, 19],\n",
        "        'attempts': [1, 3, 2, 3, 2, 3, 1, 1, 2, 1],\n",
        "        'qualify': ['yes', 'no', 'yes', 'no', 'no', 'yes', 'yes', 'no', 'no', 'yes']}\n",
        "labels = ['a', 'b', 'c', 'd', 'e', 'f', 'g', 'h', 'i', 'j']\n",
        "df = pd.DataFrame(exam_data, index = labels)\n",
        "print(\"Number of attempts in the examination is less than 2 and score greater than 15:\")\n",
        "print(df[(df['attempts'] < 2) & (df['score'] > 15)])\n"
      ],
      "metadata": {
        "colab": {
          "base_uri": "https://localhost:8080/"
        },
        "id": "o86APRBFbqZb",
        "outputId": "54609ba9-fb9d-4f12-cb37-7d64c99481e3"
      },
      "execution_count": null,
      "outputs": [
        {
          "output_type": "stream",
          "name": "stdout",
          "text": [
            "Number of attempts in the examination is less than 2 and score greater than 15:\n",
            "    name  score  attempts qualify\n",
            "j  Jonas   19.0         1     yes\n"
          ]
        }
      ]
    },
    {
      "cell_type": "code",
      "source": [
        "# Exercise 12\n",
        "# Write a Pandas program to change the score in row 'd' to 11.5.\n",
        "\n",
        "import pandas as pd\n",
        "import numpy as np\n",
        "exam_data  = {'name': ['Anastasia', 'Dima', 'Katherine', 'James', 'Emily', 'Michael', 'Matthew', 'Laura', 'Kevin', 'Jonas'],\n",
        "        'score': [12.5, 9, 16.5, np.nan, 9, 20, 14.5, np.nan, 8, 19],\n",
        "        'attempts': [1, 3, 2, 3, 2, 3, 1, 1, 2, 1],\n",
        "        'qualify': ['yes', 'no', 'yes', 'no', 'no', 'yes', 'yes', 'no', 'no', 'yes']}\n",
        "labels = ['a', 'b', 'c', 'd', 'e', 'f', 'g', 'h', 'i', 'j']\n",
        "\n",
        "df = pd.DataFrame(exam_data, index = labels)\n",
        "print(\"\\nOriginal data frame:\")\n",
        "print(df)\n",
        "print(\"\\nChange the score in row 'd' to 11.5:\")\n",
        "df.loc['d', 'score'] = 11.5\n",
        "print(df)\n"
      ],
      "metadata": {
        "colab": {
          "base_uri": "https://localhost:8080/"
        },
        "id": "HrddoXRTcNX9",
        "outputId": "a792dedd-fc9c-4bb5-8b0d-da8fd04cc039"
      },
      "execution_count": null,
      "outputs": [
        {
          "output_type": "stream",
          "name": "stdout",
          "text": [
            "\n",
            "Original data frame:\n",
            "        name  score  attempts qualify\n",
            "a  Anastasia   12.5         1     yes\n",
            "b       Dima    9.0         3      no\n",
            "c  Katherine   16.5         2     yes\n",
            "d      James    NaN         3      no\n",
            "e      Emily    9.0         2      no\n",
            "f    Michael   20.0         3     yes\n",
            "g    Matthew   14.5         1     yes\n",
            "h      Laura    NaN         1      no\n",
            "i      Kevin    8.0         2      no\n",
            "j      Jonas   19.0         1     yes\n",
            "\n",
            "Change the score in row 'd' to 11.5:\n",
            "        name  score  attempts qualify\n",
            "a  Anastasia   12.5         1     yes\n",
            "b       Dima    9.0         3      no\n",
            "c  Katherine   16.5         2     yes\n",
            "d      James   11.5         3      no\n",
            "e      Emily    9.0         2      no\n",
            "f    Michael   20.0         3     yes\n",
            "g    Matthew   14.5         1     yes\n",
            "h      Laura    NaN         1      no\n",
            "i      Kevin    8.0         2      no\n",
            "j      Jonas   19.0         1     yes\n"
          ]
        }
      ]
    },
    {
      "cell_type": "code",
      "source": [
        "# Exercise 13\n",
        "# Write a Pandas program to calculate the sum of the examination attempts by the students.\n",
        "\n",
        "import pandas as pd\n",
        "import numpy as np\n",
        "exam_data  = {'name': ['Anastasia', 'Dima', 'Katherine', 'James', 'Emily', 'Michael', 'Matthew', 'Laura', 'Kevin', 'Jonas'],\n",
        "        'score': [12.5, 9, 16.5, np.nan, 9, 20, 14.5, np.nan, 8, 19],\n",
        "        'attempts': [1, 3, 2, 3, 2, 3, 1, 1, 2, 1],\n",
        "        'qualify': ['yes', 'no', 'yes', 'no', 'no', 'yes', 'yes', 'no', 'no', 'yes']}\n",
        "labels = ['a', 'b', 'c', 'd', 'e', 'f', 'g', 'h', 'i', 'j']\n",
        "\n",
        "df = pd.DataFrame(exam_data, index = labels)\n",
        "print(\"Sum of the examination attempts by the students:\")\n",
        "print(df['attempts'].sum())"
      ],
      "metadata": {
        "colab": {
          "base_uri": "https://localhost:8080/"
        },
        "id": "UxMbsbd2dSGN",
        "outputId": "6e8e4bc7-b87b-4906-c26b-9307b0c92b58"
      },
      "execution_count": null,
      "outputs": [
        {
          "output_type": "stream",
          "name": "stdout",
          "text": [
            "\n",
            "Sum of the examination attempts by the students:\n",
            "19\n"
          ]
        }
      ]
    },
    {
      "cell_type": "code",
      "source": [
        "# Exercise 14\n",
        "# Write a Pandas program to calculate the mean of all students scores. Data is stored in\n",
        "# a dataframe.\n",
        "\n",
        "import pandas as pd\n",
        "import numpy as np\n",
        "exam_data  = {'name': ['Anastasia', 'Dima', 'Katherine', 'James', 'Emily', 'Michael', 'Matthew', 'Laura', 'Kevin', 'Jonas'],\n",
        "        'score': [12.5, 9, 16.5, np.nan, 9, 20, 14.5, np.nan, 8, 19],\n",
        "        'attempts': [1, 3, 2, 3, 2, 3, 1, 1, 2, 1],\n",
        "        'qualify': ['yes', 'no', 'yes', 'no', 'no', 'yes', 'yes', 'no', 'no', 'yes']}\n",
        "labels = ['a', 'b', 'c', 'd', 'e', 'f', 'g', 'h', 'i', 'j']\n",
        "\n",
        "df = pd.DataFrame(exam_data, index = labels)\n",
        "print(\"\\nMean score for each different student in data frame:\")\n",
        "print(df['score'].mean())\n"
      ],
      "metadata": {
        "colab": {
          "base_uri": "https://localhost:8080/"
        },
        "id": "7inEGro7dx8T",
        "outputId": "c748332d-bc7e-4858-ec06-26a5607d0ec3"
      },
      "execution_count": null,
      "outputs": [
        {
          "output_type": "stream",
          "name": "stdout",
          "text": [
            "\n",
            "Mean score for each different student in data frame:\n",
            "13.5625\n"
          ]
        }
      ]
    },
    {
      "cell_type": "code",
      "source": [
        "# Exercise 15\n",
        "# Write a Pandas program to append a new row 'k' to DataFrame with given values for each column.\n",
        "# Now delete the new row and return the original data frame.\n",
        "\n",
        "import pandas as pd\n",
        "import numpy as np\n",
        "exam_data  = {'name': ['Anastasia', 'Dima', 'Katherine', 'James', 'Emily', 'Michael', 'Matthew', 'Laura', 'Kevin', 'Jonas'],\n",
        "        'score': [12.5, 9, 16.5, np.nan, 9, 20, 14.5, np.nan, 8, 19],\n",
        "        'attempts': [1, 3, 2, 3, 2, 3, 1, 1, 2, 1],\n",
        "        'qualify': ['yes', 'no', 'yes', 'no', 'no', 'yes', 'yes', 'no', 'no', 'yes']}\n",
        "labels = ['a', 'b', 'c', 'd', 'e', 'f', 'g', 'h', 'i', 'j']\n",
        "df = pd.DataFrame(exam_data, index = labels)\n",
        "print(\"Original rows:\")\n",
        "print(df)\n",
        "print(\"\\nAppend a new row:\")\n",
        "df.loc['k'] = ['Suresh', 15.5, 1, 'yes']\n",
        "print(\"Print all records after insert a new record:\")\n",
        "print(df)\n",
        "print(\"\\nDelete the new roe and display the original rows:\")\n",
        "df = df.drop('k')\n",
        "print(df)\n"
      ],
      "metadata": {
        "colab": {
          "base_uri": "https://localhost:8080/"
        },
        "id": "VwVeruMmezG_",
        "outputId": "a7ab1aec-6fc9-4f93-fde7-8cb08e09c6ec"
      },
      "execution_count": null,
      "outputs": [
        {
          "output_type": "stream",
          "name": "stdout",
          "text": [
            "Original rows:\n",
            "        name  score  attempts qualify\n",
            "a  Anastasia   12.5         1     yes\n",
            "b       Dima    9.0         3      no\n",
            "c  Katherine   16.5         2     yes\n",
            "d      James    NaN         3      no\n",
            "e      Emily    9.0         2      no\n",
            "f    Michael   20.0         3     yes\n",
            "g    Matthew   14.5         1     yes\n",
            "h      Laura    NaN         1      no\n",
            "i      Kevin    8.0         2      no\n",
            "j      Jonas   19.0         1     yes\n",
            "\n",
            "Append a new row:\n",
            "Print all records after insert a new record:\n",
            "        name  score  attempts qualify\n",
            "a  Anastasia   12.5         1     yes\n",
            "b       Dima    9.0         3      no\n",
            "c  Katherine   16.5         2     yes\n",
            "d      James    NaN         3      no\n",
            "e      Emily    9.0         2      no\n",
            "f    Michael   20.0         3     yes\n",
            "g    Matthew   14.5         1     yes\n",
            "h      Laura    NaN         1      no\n",
            "i      Kevin    8.0         2      no\n",
            "j      Jonas   19.0         1     yes\n",
            "k     Suresh   15.5         1     yes\n",
            "\n",
            "Delete the new roe and display the original rows:\n",
            "        name  score  attempts qualify\n",
            "a  Anastasia   12.5         1     yes\n",
            "b       Dima    9.0         3      no\n",
            "c  Katherine   16.5         2     yes\n",
            "d      James    NaN         3      no\n",
            "e      Emily    9.0         2      no\n",
            "f    Michael   20.0         3     yes\n",
            "g    Matthew   14.5         1     yes\n",
            "h      Laura    NaN         1      no\n",
            "i      Kevin    8.0         2      no\n",
            "j      Jonas   19.0         1     yes\n"
          ]
        }
      ]
    },
    {
      "cell_type": "code",
      "source": [
        "print(df)"
      ],
      "metadata": {
        "colab": {
          "base_uri": "https://localhost:8080/"
        },
        "id": "Ky0WL28JU6YU",
        "outputId": "bef96ce9-77e8-4d5e-a2aa-ff9c22b25487"
      },
      "execution_count": null,
      "outputs": [
        {
          "output_type": "stream",
          "name": "stdout",
          "text": [
            "        name  score  attempts qualify\n",
            "a  Anastasia   12.5         1     yes\n",
            "b       Dima    9.0         3      no\n",
            "c  Katherine   16.5         2     yes\n",
            "d      James    NaN         3      no\n",
            "e      Emily    9.0         2      no\n",
            "f    Michael   20.0         3     yes\n",
            "g    Matthew   14.5         1     yes\n",
            "h      Laura    NaN         1      no\n",
            "i      Kevin    8.0         2      no\n",
            "j      Jonas   19.0         1     yes\n"
          ]
        }
      ]
    },
    {
      "cell_type": "code",
      "source": [
        "df = df.drop('i')\n",
        "print(df)"
      ],
      "metadata": {
        "colab": {
          "base_uri": "https://localhost:8080/",
          "height": 339
        },
        "id": "ljWEP3irVBLJ",
        "outputId": "1d8797fd-761f-476d-a9c8-742ca862b09e"
      },
      "execution_count": null,
      "outputs": [
        {
          "output_type": "error",
          "ename": "KeyError",
          "evalue": "ignored",
          "traceback": [
            "\u001b[0;31m---------------------------------------------------------------------------\u001b[0m",
            "\u001b[0;31mKeyError\u001b[0m                                  Traceback (most recent call last)",
            "\u001b[0;32m<ipython-input-31-a4c787c3467e>\u001b[0m in \u001b[0;36m<cell line: 1>\u001b[0;34m()\u001b[0m\n\u001b[0;32m----> 1\u001b[0;31m \u001b[0mdf\u001b[0m \u001b[0;34m=\u001b[0m \u001b[0mdf\u001b[0m\u001b[0;34m.\u001b[0m\u001b[0mdrop\u001b[0m\u001b[0;34m(\u001b[0m\u001b[0;34m'i'\u001b[0m\u001b[0;34m)\u001b[0m\u001b[0;34m\u001b[0m\u001b[0;34m\u001b[0m\u001b[0m\n\u001b[0m\u001b[1;32m      2\u001b[0m \u001b[0mprint\u001b[0m\u001b[0;34m(\u001b[0m\u001b[0mdf\u001b[0m\u001b[0;34m)\u001b[0m\u001b[0;34m\u001b[0m\u001b[0;34m\u001b[0m\u001b[0m\n",
            "\u001b[0;32m/usr/local/lib/python3.10/dist-packages/pandas/util/_decorators.py\u001b[0m in \u001b[0;36mwrapper\u001b[0;34m(*args, **kwargs)\u001b[0m\n\u001b[1;32m    329\u001b[0m                     \u001b[0mstacklevel\u001b[0m\u001b[0;34m=\u001b[0m\u001b[0mfind_stack_level\u001b[0m\u001b[0;34m(\u001b[0m\u001b[0;34m)\u001b[0m\u001b[0;34m,\u001b[0m\u001b[0;34m\u001b[0m\u001b[0;34m\u001b[0m\u001b[0m\n\u001b[1;32m    330\u001b[0m                 )\n\u001b[0;32m--> 331\u001b[0;31m             \u001b[0;32mreturn\u001b[0m \u001b[0mfunc\u001b[0m\u001b[0;34m(\u001b[0m\u001b[0;34m*\u001b[0m\u001b[0margs\u001b[0m\u001b[0;34m,\u001b[0m \u001b[0;34m**\u001b[0m\u001b[0mkwargs\u001b[0m\u001b[0;34m)\u001b[0m\u001b[0;34m\u001b[0m\u001b[0;34m\u001b[0m\u001b[0m\n\u001b[0m\u001b[1;32m    332\u001b[0m \u001b[0;34m\u001b[0m\u001b[0m\n\u001b[1;32m    333\u001b[0m         \u001b[0;31m# error: \"Callable[[VarArg(Any), KwArg(Any)], Any]\" has no\u001b[0m\u001b[0;34m\u001b[0m\u001b[0;34m\u001b[0m\u001b[0m\n",
            "\u001b[0;32m/usr/local/lib/python3.10/dist-packages/pandas/core/frame.py\u001b[0m in \u001b[0;36mdrop\u001b[0;34m(self, labels, axis, index, columns, level, inplace, errors)\u001b[0m\n\u001b[1;32m   5397\u001b[0m                 \u001b[0mweight\u001b[0m  \u001b[0;36m1.0\u001b[0m     \u001b[0;36m0.8\u001b[0m\u001b[0;34m\u001b[0m\u001b[0;34m\u001b[0m\u001b[0m\n\u001b[1;32m   5398\u001b[0m         \"\"\"\n\u001b[0;32m-> 5399\u001b[0;31m         return super().drop(\n\u001b[0m\u001b[1;32m   5400\u001b[0m             \u001b[0mlabels\u001b[0m\u001b[0;34m=\u001b[0m\u001b[0mlabels\u001b[0m\u001b[0;34m,\u001b[0m\u001b[0;34m\u001b[0m\u001b[0;34m\u001b[0m\u001b[0m\n\u001b[1;32m   5401\u001b[0m             \u001b[0maxis\u001b[0m\u001b[0;34m=\u001b[0m\u001b[0maxis\u001b[0m\u001b[0;34m,\u001b[0m\u001b[0;34m\u001b[0m\u001b[0;34m\u001b[0m\u001b[0m\n",
            "\u001b[0;32m/usr/local/lib/python3.10/dist-packages/pandas/util/_decorators.py\u001b[0m in \u001b[0;36mwrapper\u001b[0;34m(*args, **kwargs)\u001b[0m\n\u001b[1;32m    329\u001b[0m                     \u001b[0mstacklevel\u001b[0m\u001b[0;34m=\u001b[0m\u001b[0mfind_stack_level\u001b[0m\u001b[0;34m(\u001b[0m\u001b[0;34m)\u001b[0m\u001b[0;34m,\u001b[0m\u001b[0;34m\u001b[0m\u001b[0;34m\u001b[0m\u001b[0m\n\u001b[1;32m    330\u001b[0m                 )\n\u001b[0;32m--> 331\u001b[0;31m             \u001b[0;32mreturn\u001b[0m \u001b[0mfunc\u001b[0m\u001b[0;34m(\u001b[0m\u001b[0;34m*\u001b[0m\u001b[0margs\u001b[0m\u001b[0;34m,\u001b[0m \u001b[0;34m**\u001b[0m\u001b[0mkwargs\u001b[0m\u001b[0;34m)\u001b[0m\u001b[0;34m\u001b[0m\u001b[0;34m\u001b[0m\u001b[0m\n\u001b[0m\u001b[1;32m    332\u001b[0m \u001b[0;34m\u001b[0m\u001b[0m\n\u001b[1;32m    333\u001b[0m         \u001b[0;31m# error: \"Callable[[VarArg(Any), KwArg(Any)], Any]\" has no\u001b[0m\u001b[0;34m\u001b[0m\u001b[0;34m\u001b[0m\u001b[0m\n",
            "\u001b[0;32m/usr/local/lib/python3.10/dist-packages/pandas/core/generic.py\u001b[0m in \u001b[0;36mdrop\u001b[0;34m(self, labels, axis, index, columns, level, inplace, errors)\u001b[0m\n\u001b[1;32m   4503\u001b[0m         \u001b[0;32mfor\u001b[0m \u001b[0maxis\u001b[0m\u001b[0;34m,\u001b[0m \u001b[0mlabels\u001b[0m \u001b[0;32min\u001b[0m \u001b[0maxes\u001b[0m\u001b[0;34m.\u001b[0m\u001b[0mitems\u001b[0m\u001b[0;34m(\u001b[0m\u001b[0;34m)\u001b[0m\u001b[0;34m:\u001b[0m\u001b[0;34m\u001b[0m\u001b[0;34m\u001b[0m\u001b[0m\n\u001b[1;32m   4504\u001b[0m             \u001b[0;32mif\u001b[0m \u001b[0mlabels\u001b[0m \u001b[0;32mis\u001b[0m \u001b[0;32mnot\u001b[0m \u001b[0;32mNone\u001b[0m\u001b[0;34m:\u001b[0m\u001b[0;34m\u001b[0m\u001b[0;34m\u001b[0m\u001b[0m\n\u001b[0;32m-> 4505\u001b[0;31m                 \u001b[0mobj\u001b[0m \u001b[0;34m=\u001b[0m \u001b[0mobj\u001b[0m\u001b[0;34m.\u001b[0m\u001b[0m_drop_axis\u001b[0m\u001b[0;34m(\u001b[0m\u001b[0mlabels\u001b[0m\u001b[0;34m,\u001b[0m \u001b[0maxis\u001b[0m\u001b[0;34m,\u001b[0m \u001b[0mlevel\u001b[0m\u001b[0;34m=\u001b[0m\u001b[0mlevel\u001b[0m\u001b[0;34m,\u001b[0m \u001b[0merrors\u001b[0m\u001b[0;34m=\u001b[0m\u001b[0merrors\u001b[0m\u001b[0;34m)\u001b[0m\u001b[0;34m\u001b[0m\u001b[0;34m\u001b[0m\u001b[0m\n\u001b[0m\u001b[1;32m   4506\u001b[0m \u001b[0;34m\u001b[0m\u001b[0m\n\u001b[1;32m   4507\u001b[0m         \u001b[0;32mif\u001b[0m \u001b[0minplace\u001b[0m\u001b[0;34m:\u001b[0m\u001b[0;34m\u001b[0m\u001b[0;34m\u001b[0m\u001b[0m\n",
            "\u001b[0;32m/usr/local/lib/python3.10/dist-packages/pandas/core/generic.py\u001b[0m in \u001b[0;36m_drop_axis\u001b[0;34m(self, labels, axis, level, errors, only_slice)\u001b[0m\n\u001b[1;32m   4544\u001b[0m                 \u001b[0mnew_axis\u001b[0m \u001b[0;34m=\u001b[0m \u001b[0maxis\u001b[0m\u001b[0;34m.\u001b[0m\u001b[0mdrop\u001b[0m\u001b[0;34m(\u001b[0m\u001b[0mlabels\u001b[0m\u001b[0;34m,\u001b[0m \u001b[0mlevel\u001b[0m\u001b[0;34m=\u001b[0m\u001b[0mlevel\u001b[0m\u001b[0;34m,\u001b[0m \u001b[0merrors\u001b[0m\u001b[0;34m=\u001b[0m\u001b[0merrors\u001b[0m\u001b[0;34m)\u001b[0m\u001b[0;34m\u001b[0m\u001b[0;34m\u001b[0m\u001b[0m\n\u001b[1;32m   4545\u001b[0m             \u001b[0;32melse\u001b[0m\u001b[0;34m:\u001b[0m\u001b[0;34m\u001b[0m\u001b[0;34m\u001b[0m\u001b[0m\n\u001b[0;32m-> 4546\u001b[0;31m                 \u001b[0mnew_axis\u001b[0m \u001b[0;34m=\u001b[0m \u001b[0maxis\u001b[0m\u001b[0;34m.\u001b[0m\u001b[0mdrop\u001b[0m\u001b[0;34m(\u001b[0m\u001b[0mlabels\u001b[0m\u001b[0;34m,\u001b[0m \u001b[0merrors\u001b[0m\u001b[0;34m=\u001b[0m\u001b[0merrors\u001b[0m\u001b[0;34m)\u001b[0m\u001b[0;34m\u001b[0m\u001b[0;34m\u001b[0m\u001b[0m\n\u001b[0m\u001b[1;32m   4547\u001b[0m             \u001b[0mindexer\u001b[0m \u001b[0;34m=\u001b[0m \u001b[0maxis\u001b[0m\u001b[0;34m.\u001b[0m\u001b[0mget_indexer\u001b[0m\u001b[0;34m(\u001b[0m\u001b[0mnew_axis\u001b[0m\u001b[0;34m)\u001b[0m\u001b[0;34m\u001b[0m\u001b[0;34m\u001b[0m\u001b[0m\n\u001b[1;32m   4548\u001b[0m \u001b[0;34m\u001b[0m\u001b[0m\n",
            "\u001b[0;32m/usr/local/lib/python3.10/dist-packages/pandas/core/indexes/base.py\u001b[0m in \u001b[0;36mdrop\u001b[0;34m(self, labels, errors)\u001b[0m\n\u001b[1;32m   6932\u001b[0m         \u001b[0;32mif\u001b[0m \u001b[0mmask\u001b[0m\u001b[0;34m.\u001b[0m\u001b[0many\u001b[0m\u001b[0;34m(\u001b[0m\u001b[0;34m)\u001b[0m\u001b[0;34m:\u001b[0m\u001b[0;34m\u001b[0m\u001b[0;34m\u001b[0m\u001b[0m\n\u001b[1;32m   6933\u001b[0m             \u001b[0;32mif\u001b[0m \u001b[0merrors\u001b[0m \u001b[0;34m!=\u001b[0m \u001b[0;34m\"ignore\"\u001b[0m\u001b[0;34m:\u001b[0m\u001b[0;34m\u001b[0m\u001b[0;34m\u001b[0m\u001b[0m\n\u001b[0;32m-> 6934\u001b[0;31m                 \u001b[0;32mraise\u001b[0m \u001b[0mKeyError\u001b[0m\u001b[0;34m(\u001b[0m\u001b[0;34mf\"{list(labels[mask])} not found in axis\"\u001b[0m\u001b[0;34m)\u001b[0m\u001b[0;34m\u001b[0m\u001b[0;34m\u001b[0m\u001b[0m\n\u001b[0m\u001b[1;32m   6935\u001b[0m             \u001b[0mindexer\u001b[0m \u001b[0;34m=\u001b[0m \u001b[0mindexer\u001b[0m\u001b[0;34m[\u001b[0m\u001b[0;34m~\u001b[0m\u001b[0mmask\u001b[0m\u001b[0;34m]\u001b[0m\u001b[0;34m\u001b[0m\u001b[0;34m\u001b[0m\u001b[0m\n\u001b[1;32m   6936\u001b[0m         \u001b[0;32mreturn\u001b[0m \u001b[0mself\u001b[0m\u001b[0;34m.\u001b[0m\u001b[0mdelete\u001b[0m\u001b[0;34m(\u001b[0m\u001b[0mindexer\u001b[0m\u001b[0;34m)\u001b[0m\u001b[0;34m\u001b[0m\u001b[0;34m\u001b[0m\u001b[0m\n",
            "\u001b[0;31mKeyError\u001b[0m: \"['i'] not found in axis\""
          ]
        }
      ]
    },
    {
      "cell_type": "code",
      "source": [
        "df = df.drop(['qualify'], axis = 1)\n"
      ],
      "metadata": {
        "id": "lzdjACsjVfXJ"
      },
      "execution_count": null,
      "outputs": []
    },
    {
      "cell_type": "code",
      "source": [
        "df"
      ],
      "metadata": {
        "id": "MoMaUOYuWuMf",
        "outputId": "7c73fb83-657a-4793-bce1-7d4642c53778",
        "colab": {
          "base_uri": "https://localhost:8080/",
          "height": 363
        }
      },
      "execution_count": null,
      "outputs": [
        {
          "output_type": "execute_result",
          "data": {
            "text/plain": [
              "        name  score  attempts\n",
              "a  Anastasia   12.5         1\n",
              "b       Dima    9.0         3\n",
              "c  Katherine   16.5         2\n",
              "d      James    NaN         3\n",
              "e      Emily    9.0         2\n",
              "f    Michael   20.0         3\n",
              "g    Matthew   14.5         1\n",
              "h      Laura    NaN         1\n",
              "i      Kevin    8.0         2\n",
              "j      Jonas   19.0         1"
            ],
            "text/html": [
              "\n",
              "\n",
              "  <div id=\"df-e1e5a2aa-b37c-4130-b6cb-bed8e087b6a4\">\n",
              "    <div class=\"colab-df-container\">\n",
              "      <div>\n",
              "<style scoped>\n",
              "    .dataframe tbody tr th:only-of-type {\n",
              "        vertical-align: middle;\n",
              "    }\n",
              "\n",
              "    .dataframe tbody tr th {\n",
              "        vertical-align: top;\n",
              "    }\n",
              "\n",
              "    .dataframe thead th {\n",
              "        text-align: right;\n",
              "    }\n",
              "</style>\n",
              "<table border=\"1\" class=\"dataframe\">\n",
              "  <thead>\n",
              "    <tr style=\"text-align: right;\">\n",
              "      <th></th>\n",
              "      <th>name</th>\n",
              "      <th>score</th>\n",
              "      <th>attempts</th>\n",
              "    </tr>\n",
              "  </thead>\n",
              "  <tbody>\n",
              "    <tr>\n",
              "      <th>a</th>\n",
              "      <td>Anastasia</td>\n",
              "      <td>12.5</td>\n",
              "      <td>1</td>\n",
              "    </tr>\n",
              "    <tr>\n",
              "      <th>b</th>\n",
              "      <td>Dima</td>\n",
              "      <td>9.0</td>\n",
              "      <td>3</td>\n",
              "    </tr>\n",
              "    <tr>\n",
              "      <th>c</th>\n",
              "      <td>Katherine</td>\n",
              "      <td>16.5</td>\n",
              "      <td>2</td>\n",
              "    </tr>\n",
              "    <tr>\n",
              "      <th>d</th>\n",
              "      <td>James</td>\n",
              "      <td>NaN</td>\n",
              "      <td>3</td>\n",
              "    </tr>\n",
              "    <tr>\n",
              "      <th>e</th>\n",
              "      <td>Emily</td>\n",
              "      <td>9.0</td>\n",
              "      <td>2</td>\n",
              "    </tr>\n",
              "    <tr>\n",
              "      <th>f</th>\n",
              "      <td>Michael</td>\n",
              "      <td>20.0</td>\n",
              "      <td>3</td>\n",
              "    </tr>\n",
              "    <tr>\n",
              "      <th>g</th>\n",
              "      <td>Matthew</td>\n",
              "      <td>14.5</td>\n",
              "      <td>1</td>\n",
              "    </tr>\n",
              "    <tr>\n",
              "      <th>h</th>\n",
              "      <td>Laura</td>\n",
              "      <td>NaN</td>\n",
              "      <td>1</td>\n",
              "    </tr>\n",
              "    <tr>\n",
              "      <th>i</th>\n",
              "      <td>Kevin</td>\n",
              "      <td>8.0</td>\n",
              "      <td>2</td>\n",
              "    </tr>\n",
              "    <tr>\n",
              "      <th>j</th>\n",
              "      <td>Jonas</td>\n",
              "      <td>19.0</td>\n",
              "      <td>1</td>\n",
              "    </tr>\n",
              "  </tbody>\n",
              "</table>\n",
              "</div>\n",
              "      <button class=\"colab-df-convert\" onclick=\"convertToInteractive('df-e1e5a2aa-b37c-4130-b6cb-bed8e087b6a4')\"\n",
              "              title=\"Convert this dataframe to an interactive table.\"\n",
              "              style=\"display:none;\">\n",
              "\n",
              "  <svg xmlns=\"http://www.w3.org/2000/svg\" height=\"24px\"viewBox=\"0 0 24 24\"\n",
              "       width=\"24px\">\n",
              "    <path d=\"M0 0h24v24H0V0z\" fill=\"none\"/>\n",
              "    <path d=\"M18.56 5.44l.94 2.06.94-2.06 2.06-.94-2.06-.94-.94-2.06-.94 2.06-2.06.94zm-11 1L8.5 8.5l.94-2.06 2.06-.94-2.06-.94L8.5 2.5l-.94 2.06-2.06.94zm10 10l.94 2.06.94-2.06 2.06-.94-2.06-.94-.94-2.06-.94 2.06-2.06.94z\"/><path d=\"M17.41 7.96l-1.37-1.37c-.4-.4-.92-.59-1.43-.59-.52 0-1.04.2-1.43.59L10.3 9.45l-7.72 7.72c-.78.78-.78 2.05 0 2.83L4 21.41c.39.39.9.59 1.41.59.51 0 1.02-.2 1.41-.59l7.78-7.78 2.81-2.81c.8-.78.8-2.07 0-2.86zM5.41 20L4 18.59l7.72-7.72 1.47 1.35L5.41 20z\"/>\n",
              "  </svg>\n",
              "      </button>\n",
              "\n",
              "\n",
              "\n",
              "    <div id=\"df-92a26839-3a4f-49c2-8266-7ac5a5f8848f\">\n",
              "      <button class=\"colab-df-quickchart\" onclick=\"quickchart('df-92a26839-3a4f-49c2-8266-7ac5a5f8848f')\"\n",
              "              title=\"Suggest charts.\"\n",
              "              style=\"display:none;\">\n",
              "\n",
              "<svg xmlns=\"http://www.w3.org/2000/svg\" height=\"24px\"viewBox=\"0 0 24 24\"\n",
              "     width=\"24px\">\n",
              "    <g>\n",
              "        <path d=\"M19 3H5c-1.1 0-2 .9-2 2v14c0 1.1.9 2 2 2h14c1.1 0 2-.9 2-2V5c0-1.1-.9-2-2-2zM9 17H7v-7h2v7zm4 0h-2V7h2v10zm4 0h-2v-4h2v4z\"/>\n",
              "    </g>\n",
              "</svg>\n",
              "      </button>\n",
              "    </div>\n",
              "\n",
              "<style>\n",
              "  .colab-df-quickchart {\n",
              "    background-color: #E8F0FE;\n",
              "    border: none;\n",
              "    border-radius: 50%;\n",
              "    cursor: pointer;\n",
              "    display: none;\n",
              "    fill: #1967D2;\n",
              "    height: 32px;\n",
              "    padding: 0 0 0 0;\n",
              "    width: 32px;\n",
              "  }\n",
              "\n",
              "  .colab-df-quickchart:hover {\n",
              "    background-color: #E2EBFA;\n",
              "    box-shadow: 0px 1px 2px rgba(60, 64, 67, 0.3), 0px 1px 3px 1px rgba(60, 64, 67, 0.15);\n",
              "    fill: #174EA6;\n",
              "  }\n",
              "\n",
              "  [theme=dark] .colab-df-quickchart {\n",
              "    background-color: #3B4455;\n",
              "    fill: #D2E3FC;\n",
              "  }\n",
              "\n",
              "  [theme=dark] .colab-df-quickchart:hover {\n",
              "    background-color: #434B5C;\n",
              "    box-shadow: 0px 1px 3px 1px rgba(0, 0, 0, 0.15);\n",
              "    filter: drop-shadow(0px 1px 2px rgba(0, 0, 0, 0.3));\n",
              "    fill: #FFFFFF;\n",
              "  }\n",
              "</style>\n",
              "\n",
              "    <script>\n",
              "      async function quickchart(key) {\n",
              "        const containerElement = document.querySelector('#' + key);\n",
              "        const charts = await google.colab.kernel.invokeFunction(\n",
              "            'suggestCharts', [key], {});\n",
              "      }\n",
              "    </script>\n",
              "\n",
              "      <script>\n",
              "\n",
              "function displayQuickchartButton(domScope) {\n",
              "  let quickchartButtonEl =\n",
              "    domScope.querySelector('#df-92a26839-3a4f-49c2-8266-7ac5a5f8848f button.colab-df-quickchart');\n",
              "  quickchartButtonEl.style.display =\n",
              "    google.colab.kernel.accessAllowed ? 'block' : 'none';\n",
              "}\n",
              "\n",
              "        displayQuickchartButton(document);\n",
              "      </script>\n",
              "      <style>\n",
              "    .colab-df-container {\n",
              "      display:flex;\n",
              "      flex-wrap:wrap;\n",
              "      gap: 12px;\n",
              "    }\n",
              "\n",
              "    .colab-df-convert {\n",
              "      background-color: #E8F0FE;\n",
              "      border: none;\n",
              "      border-radius: 50%;\n",
              "      cursor: pointer;\n",
              "      display: none;\n",
              "      fill: #1967D2;\n",
              "      height: 32px;\n",
              "      padding: 0 0 0 0;\n",
              "      width: 32px;\n",
              "    }\n",
              "\n",
              "    .colab-df-convert:hover {\n",
              "      background-color: #E2EBFA;\n",
              "      box-shadow: 0px 1px 2px rgba(60, 64, 67, 0.3), 0px 1px 3px 1px rgba(60, 64, 67, 0.15);\n",
              "      fill: #174EA6;\n",
              "    }\n",
              "\n",
              "    [theme=dark] .colab-df-convert {\n",
              "      background-color: #3B4455;\n",
              "      fill: #D2E3FC;\n",
              "    }\n",
              "\n",
              "    [theme=dark] .colab-df-convert:hover {\n",
              "      background-color: #434B5C;\n",
              "      box-shadow: 0px 1px 3px 1px rgba(0, 0, 0, 0.15);\n",
              "      filter: drop-shadow(0px 1px 2px rgba(0, 0, 0, 0.3));\n",
              "      fill: #FFFFFF;\n",
              "    }\n",
              "  </style>\n",
              "\n",
              "      <script>\n",
              "        const buttonEl =\n",
              "          document.querySelector('#df-e1e5a2aa-b37c-4130-b6cb-bed8e087b6a4 button.colab-df-convert');\n",
              "        buttonEl.style.display =\n",
              "          google.colab.kernel.accessAllowed ? 'block' : 'none';\n",
              "\n",
              "        async function convertToInteractive(key) {\n",
              "          const element = document.querySelector('#df-e1e5a2aa-b37c-4130-b6cb-bed8e087b6a4');\n",
              "          const dataTable =\n",
              "            await google.colab.kernel.invokeFunction('convertToInteractive',\n",
              "                                                     [key], {});\n",
              "          if (!dataTable) return;\n",
              "\n",
              "          const docLinkHtml = 'Like what you see? Visit the ' +\n",
              "            '<a target=\"_blank\" href=https://colab.research.google.com/notebooks/data_table.ipynb>data table notebook</a>'\n",
              "            + ' to learn more about interactive tables.';\n",
              "          element.innerHTML = '';\n",
              "          dataTable['output_type'] = 'display_data';\n",
              "          await google.colab.output.renderOutput(dataTable, element);\n",
              "          const docLink = document.createElement('div');\n",
              "          docLink.innerHTML = docLinkHtml;\n",
              "          element.appendChild(docLink);\n",
              "        }\n",
              "      </script>\n",
              "    </div>\n",
              "  </div>\n"
            ]
          },
          "metadata": {},
          "execution_count": 34
        }
      ]
    },
    {
      "cell_type": "code",
      "source": [
        "# Exercise 16\n",
        "# Write a Pandas program to sort the dataframe first by 'name' in descending order,\n",
        "# then by 'score' in ascending order.\n",
        "\n",
        "import pandas as pd\n",
        "import numpy as np\n",
        "exam_data  = {'name': ['Anastasia', 'Dima', 'Katherine', 'James', 'Emily', 'Michael', 'Matthew', 'Laura', 'Kevin', 'Jonas'],\n",
        "        'score': [12.5, 9, 16.5, np.nan, 9, 20, 14.5, np.nan, 8, 19],\n",
        "        'attempts': [1, 3, 2, 3, 2, 3, 1, 1, 2, 1],\n",
        "        'qualify': ['yes', 'no', 'yes', 'no', 'no', 'yes', 'yes', 'no', 'no', 'yes']}\n",
        "labels = ['a', 'b', 'c', 'd', 'e', 'f', 'g', 'h', 'i', 'j']\n",
        "df = pd.DataFrame(exam_data, index = labels)\n",
        "print(\"Original rows:\")\n",
        "print(df)\n",
        "# df = df.sort_values(by = ['name', 'score'], ascending = [False, True])\n",
        "df = df.sort_values(by = 'score', ascending = True)\n",
        "print(\"Sort the data frame first by 'name' in descending order, then by 'score' in ascending order:\")\n",
        "print(df)\n"
      ],
      "metadata": {
        "colab": {
          "base_uri": "https://localhost:8080/"
        },
        "id": "18ePPnUVg74H",
        "outputId": "5681383e-fe60-430d-c87f-01a55e473454"
      },
      "execution_count": 47,
      "outputs": [
        {
          "output_type": "stream",
          "name": "stdout",
          "text": [
            "Original rows:\n",
            "        name  score  attempts qualify\n",
            "a  Anastasia   12.5         1     yes\n",
            "b       Dima    9.0         3      no\n",
            "c  Katherine   16.5         2     yes\n",
            "d      James    NaN         3      no\n",
            "e      Emily    9.0         2      no\n",
            "f    Michael   20.0         3     yes\n",
            "g    Matthew   14.5         1     yes\n",
            "h      Laura    NaN         1      no\n",
            "i      Kevin    8.0         2      no\n",
            "j      Jonas   19.0         1     yes\n",
            "Sort the data frame first by 'name' in descending order, then by 'score' in ascending order:\n",
            "        name  score  attempts qualify\n",
            "i      Kevin    8.0         2      no\n",
            "b       Dima    9.0         3      no\n",
            "e      Emily    9.0         2      no\n",
            "a  Anastasia   12.5         1     yes\n",
            "g    Matthew   14.5         1     yes\n",
            "c  Katherine   16.5         2     yes\n",
            "j      Jonas   19.0         1     yes\n",
            "f    Michael   20.0         3     yes\n",
            "d      James    NaN         3      no\n",
            "h      Laura    NaN         1      no\n"
          ]
        }
      ]
    },
    {
      "cell_type": "code",
      "source": [],
      "metadata": {
        "id": "wFkWcvrAhZO_"
      },
      "execution_count": null,
      "outputs": []
    },
    {
      "cell_type": "code",
      "source": [
        "# Exercise 17\n",
        "# Write a Pandas program to delete the 'attempts' column from the DataFrame\n",
        "\n",
        "import pandas as pd\n",
        "import numpy as np\n",
        "exam_data  = {'name': ['Anastasia', 'Dima', 'Katherine', 'James', 'Emily', 'Michael', 'Matthew', 'Laura', 'Kevin', 'Jonas'],\n",
        "        'score': [12.5, 9, 16.5, np.nan, 9, 20, 14.5, np.nan, 8, 19],\n",
        "        'attempts': [1, 3, 2, 3, 2, 3, 1, 1, 2, 1],\n",
        "        'qualify': ['yes', 'no', 'yes', 'no', 'no', 'yes', 'yes', 'no', 'no', 'yes']}\n",
        "labels = ['a', 'b', 'c', 'd', 'e', 'f', 'g', 'h', 'i', 'j']\n",
        "df = pd.DataFrame(exam_data, index = labels)\n",
        "print(\"Original rows:\")\n",
        "print(df)\n",
        "print(\"\\nDelete the 'attempts' column from the data frame:\")\n",
        "df = df.drop(['attempts'], axis = 1)\n",
        "print(df)\n",
        "\n"
      ],
      "metadata": {
        "colab": {
          "base_uri": "https://localhost:8080/"
        },
        "id": "ijOKl1NmngXE",
        "outputId": "e6b6ad57-6f18-46b4-cd72-c7982e9dc4db"
      },
      "execution_count": 50,
      "outputs": [
        {
          "output_type": "stream",
          "name": "stdout",
          "text": [
            "Original rows:\n",
            "        name  score  attempts qualify\n",
            "a  Anastasia   12.5         1     yes\n",
            "b       Dima    9.0         3      no\n",
            "c  Katherine   16.5         2     yes\n",
            "d      James    NaN         3      no\n",
            "e      Emily    9.0         2      no\n",
            "f    Michael   20.0         3     yes\n",
            "g    Matthew   14.5         1     yes\n",
            "h      Laura    NaN         1      no\n",
            "i      Kevin    8.0         2      no\n",
            "j      Jonas   19.0         1     yes\n",
            "\n",
            "Delete the 'attempts' column from the data frame:\n",
            "        name  score qualify\n",
            "a  Anastasia   12.5     yes\n",
            "b       Dima    9.0      no\n",
            "c  Katherine   16.5     yes\n",
            "d      James    NaN      no\n",
            "e      Emily    9.0      no\n",
            "f    Michael   20.0     yes\n",
            "g    Matthew   14.5     yes\n",
            "h      Laura    NaN      no\n",
            "i      Kevin    8.0      no\n",
            "j      Jonas   19.0     yes\n"
          ]
        }
      ]
    },
    {
      "cell_type": "code",
      "source": [
        "# Exercise 18\n",
        "# Write a Pandas program to change the name 'James' to 'Suresh' in name column of the data frame\n",
        "\n",
        "import pandas as pd\n",
        "import numpy as np\n",
        "exam_data  = {'name': ['Anastasia', 'Dima', 'Katherine', 'James', 'Emily', 'Michael', 'Matthew', 'Laura', 'Kevin', 'Jonas'],\n",
        "        'score': [12.5, 9, 16.5, np.nan, 9, 20, 14.5, np.nan, 8, 19],\n",
        "        'attempts': [1, 3, 2, 3, 2, 3, 1, 1, 2, 1],\n",
        "        'qualify': ['yes', 'no', 'yes', 'no', 'no', 'yes', 'yes', 'no', 'no', 'yes']}\n",
        "labels = ['a', 'b', 'c', 'd', 'e', 'f', 'g', 'h', 'i', 'j']\n",
        "df = pd.DataFrame(exam_data, index = labels)\n",
        "print(\"Original rows:\")\n",
        "print(df)\n",
        "print(\"\\nChange the name 'James' to 'Suresh':\")\n",
        "df['name'] = df['name'].map({'James': 'Su'})\n",
        "print(df)\n",
        "\n",
        "\n"
      ],
      "metadata": {
        "colab": {
          "base_uri": "https://localhost:8080/"
        },
        "id": "lKdV0ArypM7j",
        "outputId": "caff65e9-47c0-40ed-fc18-652545b8a533"
      },
      "execution_count": 51,
      "outputs": [
        {
          "output_type": "stream",
          "name": "stdout",
          "text": [
            "Original rows:\n",
            "        name  score  attempts qualify\n",
            "a  Anastasia   12.5         1     yes\n",
            "b       Dima    9.0         3      no\n",
            "c  Katherine   16.5         2     yes\n",
            "d      James    NaN         3      no\n",
            "e      Emily    9.0         2      no\n",
            "f    Michael   20.0         3     yes\n",
            "g    Matthew   14.5         1     yes\n",
            "h      Laura    NaN         1      no\n",
            "i      Kevin    8.0         2      no\n",
            "j      Jonas   19.0         1     yes\n",
            "\n",
            "Change the name 'James' to 'Suresh':\n",
            "     name  score  attempts qualify\n",
            "a     NaN   12.5         1     yes\n",
            "b     NaN    9.0         3      no\n",
            "c     NaN   16.5         2     yes\n",
            "d  Suresh    NaN         3      no\n",
            "e     NaN    9.0         2      no\n",
            "f     NaN   20.0         3     yes\n",
            "g     NaN   14.5         1     yes\n",
            "h     NaN    NaN         1      no\n",
            "i     NaN    8.0         2      no\n",
            "j     NaN   19.0         1     yes\n"
          ]
        }
      ]
    },
    {
      "cell_type": "code",
      "source": [
        "# Exercise 19\n",
        "# Write a Pandas program to replace the 'qualify' column contains the values 'yes'\n",
        "# and 'no' with True and False\n",
        "\n",
        "def function(T):\n",
        "  if T == 'yes':\n",
        "    return True\n",
        "  else:\n",
        "    return False\n",
        "import numpy as np\n",
        "import pandas as pd\n",
        "exam_data  = {'name': ['Anastasia', 'Dima', 'Katherine', 'James', 'Emily', 'Michael', 'Matthew', 'Laura', 'Kevin', 'Jonas'],\n",
        "        'score': [12.5, 9, 16.5, np.nan, 9, 20, 14.5, np.nan, 8, 19],\n",
        "        'attempts': [1, 3, 2, 3, 2, 3, 1, 1, 2, 1],\n",
        "        'qualify': ['yes', 'no', 'yes', 'no', 'no', 'yes', 'yes', 'no', 'no', 'yes']}\n",
        "labels = ['a', 'b', 'c', 'd', 'e', 'f', 'g', 'h', 'i', 'j']\n",
        "df = pd.DataFrame(exam_data, index = labels)\n",
        "print(\"Original rows:\")\n",
        "print(df)\n",
        "print(\"\\nReplace the 'qualify' column contains the values 'yes' and 'no' with True and False:\")\n",
        "df['qualify'] = df['qualify'].apply(function)\n",
        "print(df)\n"
      ],
      "metadata": {
        "colab": {
          "base_uri": "https://localhost:8080/"
        },
        "id": "uf6-SMGxq86-",
        "outputId": "07ee2391-f685-40b8-8c47-fad329b56168"
      },
      "execution_count": 2,
      "outputs": [
        {
          "output_type": "stream",
          "name": "stdout",
          "text": [
            "Original rows:\n",
            "        name  score  attempts qualify\n",
            "a  Anastasia   12.5         1     yes\n",
            "b       Dima    9.0         3      no\n",
            "c  Katherine   16.5         2     yes\n",
            "d      James    NaN         3      no\n",
            "e      Emily    9.0         2      no\n",
            "f    Michael   20.0         3     yes\n",
            "g    Matthew   14.5         1     yes\n",
            "h      Laura    NaN         1      no\n",
            "i      Kevin    8.0         2      no\n",
            "j      Jonas   19.0         1     yes\n",
            "\n",
            "Replace the 'qualify' column contains the values 'yes' and 'no' with True and False:\n",
            "        name  score  attempts  qualify\n",
            "a  Anastasia   12.5         1     True\n",
            "b       Dima    9.0         3    False\n",
            "c  Katherine   16.5         2     True\n",
            "d      James    NaN         3    False\n",
            "e      Emily    9.0         2    False\n",
            "f    Michael   20.0         3     True\n",
            "g    Matthew   14.5         1     True\n",
            "h      Laura    NaN         1    False\n",
            "i      Kevin    8.0         2    False\n",
            "j      Jonas   19.0         1     True\n"
          ]
        }
      ]
    },
    {
      "cell_type": "code",
      "source": [
        "# Exercise 61\n",
        "# Write a Pandas program to rename columns in a DataFrame.\n",
        "import pandas as pd\n",
        "d = {'col1': [1, 2, 3], 'col2': [4, 5, 6], 'col3': [7, 8, 9]}\n",
        "df = pd.DataFrame(data=d)\n",
        "print(\"Original DataFrame\")\n",
        "print(df)\n",
        "df.columns = ['Column1', 'Column2', 'Column3']\n",
        "df = df.rename(columns={'col1': 'Column1', 'col2': 'Column2', 'col3': 'Column3'})\n",
        "print(\"New DataFrame after renaming columns:\")\n",
        "print(df)"
      ],
      "metadata": {
        "colab": {
          "base_uri": "https://localhost:8080/"
        },
        "id": "GWrE8tgjuilL",
        "outputId": "b923fa6e-e99c-4c1d-8d71-51f007126494"
      },
      "execution_count": 5,
      "outputs": [
        {
          "output_type": "stream",
          "name": "stdout",
          "text": [
            "Original DataFrame\n",
            "   col1  col2  col3\n",
            "0     1     4     7\n",
            "1     2     5     8\n",
            "2     3     6     9\n",
            "New DataFrame after renaming columns:\n",
            "   Column1  Column2  Column3\n",
            "0        1        4        7\n",
            "1        2        5        8\n",
            "2        3        6        9\n"
          ]
        }
      ]
    },
    {
      "cell_type": "code",
      "source": [
        "df.columns"
      ],
      "metadata": {
        "colab": {
          "base_uri": "https://localhost:8080/"
        },
        "id": "g4F_vUxSmMhw",
        "outputId": "b9699ab9-ddc9-49f1-a51a-19fe5c6c2328"
      },
      "execution_count": 6,
      "outputs": [
        {
          "output_type": "execute_result",
          "data": {
            "text/plain": [
              "Index(['Column1', 'Column2', 'Column3'], dtype='object')"
            ]
          },
          "metadata": {},
          "execution_count": 6
        }
      ]
    },
    {
      "cell_type": "code",
      "source": [
        "df.columns = [\"name\", \"age\", \"height\"]\n",
        "print(df)"
      ],
      "metadata": {
        "colab": {
          "base_uri": "https://localhost:8080/"
        },
        "id": "b8I05N9vmpf2",
        "outputId": "7e820704-f2a1-4d54-cab7-8a45711de5f7"
      },
      "execution_count": 9,
      "outputs": [
        {
          "output_type": "stream",
          "name": "stdout",
          "text": [
            "   name  age  height\n",
            "0     1    4       7\n",
            "1     2    5       8\n",
            "2     3    6       9\n"
          ]
        }
      ]
    },
    {
      "cell_type": "code",
      "source": [
        "# Exercise 20\n",
        "# Write a Pandas program to insert a new column in existing DataFrame\n",
        "\n",
        "import pandas as pd\n",
        "import numpy as np\n",
        "exam_data  = {'name': ['Anastasia', 'Dima', 'Katherine', 'James', 'Emily', 'Michael', 'Matthew', 'Laura', 'Kevin', 'Jonas'],\n",
        "        'score': [12.5, 9, 16.5, np.nan, 9, 20, 14.5, np.nan, 8, 19],\n",
        "        'attempts': [1, 3, 2, 3, 2, 3, 1, 1, 2, 1],\n",
        "        'qualify': ['yes', 'no', 'yes', 'no', 'no', 'yes', 'yes', 'no', 'no', 'yes']}\n",
        "labels = ['a', 'b', 'c', 'd', 'e', 'f', 'g', 'h', 'i', 'j']\n",
        "df = pd.DataFrame(exam_data, index = labels)\n",
        "print(\"Original rows:\")\n",
        "print(df)\n",
        "color = ['Red', 'Blue', 'Orange', 'Red', 'White', 'White', 'Blue', 'Green', 'Green', 'Red']\n",
        "df['color'] = color\n",
        "print(\"\\nNew DataFrame after inserting the 'color' column\")\n",
        "print(df)\n"
      ],
      "metadata": {
        "colab": {
          "base_uri": "https://localhost:8080/"
        },
        "id": "yjBegJ69v1nE",
        "outputId": "b7700aa7-a2b4-498f-f211-113399a37f8b"
      },
      "execution_count": null,
      "outputs": [
        {
          "output_type": "stream",
          "name": "stdout",
          "text": [
            "Original rows:\n",
            "        name  score  attempts qualify\n",
            "a  Anastasia   12.5         1     yes\n",
            "b       Dima    9.0         3      no\n",
            "c  Katherine   16.5         2     yes\n",
            "d      James    NaN         3      no\n",
            "e      Emily    9.0         2      no\n",
            "f    Michael   20.0         3     yes\n",
            "g    Matthew   14.5         1     yes\n",
            "h      Laura    NaN         1      no\n",
            "i      Kevin    8.0         2      no\n",
            "j      Jonas   19.0         1     yes\n",
            "\n",
            "New DataFrame after inserting the 'color' column\n",
            "        name  score  attempts qualify   color\n",
            "a  Anastasia   12.5         1     yes     Red\n",
            "b       Dima    9.0         3      no    Blue\n",
            "c  Katherine   16.5         2     yes  Orange\n",
            "d      James    NaN         3      no     Red\n",
            "e      Emily    9.0         2      no   White\n",
            "f    Michael   20.0         3     yes   White\n",
            "g    Matthew   14.5         1     yes    Blue\n",
            "h      Laura    NaN         1      no   Green\n",
            "i      Kevin    8.0         2      no   Green\n",
            "j      Jonas   19.0         1     yes     Red\n"
          ]
        }
      ]
    },
    {
      "cell_type": "code",
      "source": [
        "# Exercise 21\n",
        "# Write a Pandas program to iterate over rows in a DataFrame\n",
        "\n",
        "import pandas as pd\n",
        "exam_data = [{'name':'Anastasia', 'score':12.5}, {'name':'Dima', 'score':9}, {'name':'Katherine', 'score':16.5}]\n",
        "df = pd.DataFrame(exam_data)\n",
        "for index, row in df.iterrows():\n",
        "  print(row['name'], row['score'])"
      ],
      "metadata": {
        "colab": {
          "base_uri": "https://localhost:8080/"
        },
        "id": "c3pa4ramy0bb",
        "outputId": "56fe91cb-2497-4ce2-89fc-c3bbb6903655"
      },
      "execution_count": null,
      "outputs": [
        {
          "output_type": "stream",
          "name": "stdout",
          "text": [
            "Anastasia 12.5\n",
            "Dima 9.0\n",
            "Katherine 16.5\n"
          ]
        }
      ]
    },
    {
      "cell_type": "code",
      "source": [
        "# Exercise 22\n",
        "# Write a Pandas program to get list from DataFrame column headers\n",
        "\n",
        "import pandas as pd\n",
        "import numpy as np\n",
        "exam_data  = {'name': ['Anastasia', 'Dima', 'Katherine', 'James', 'Emily', 'Michael', 'Matthew', 'Laura', 'Kevin', 'Jonas'],\n",
        "        'score': [12.5, 9, 16.5, np.nan, 9, 20, 14.5, np.nan, 8, 19],\n",
        "        'attempts': [1, 3, 2, 3, 2, 3, 1, 1, 2, 1],\n",
        "        'qualify': ['yes', 'no', 'yes', 'no', 'no', 'yes', 'yes', 'no', 'no', 'yes']}\n",
        "labels = ['a', 'b', 'c', 'd', 'e', 'f', 'g', 'h', 'i', 'j']\n",
        "df = pd.DataFrame(exam_data, index = labels)\n",
        "print(list(df.columns.values))"
      ],
      "metadata": {
        "colab": {
          "base_uri": "https://localhost:8080/"
        },
        "id": "RzQZQkfD0Y9Q",
        "outputId": "8bfe3d30-3113-4436-cf3a-10a543fe6d7b"
      },
      "execution_count": null,
      "outputs": [
        {
          "output_type": "stream",
          "name": "stdout",
          "text": [
            "['name', 'score', 'attempts', 'qualify']\n"
          ]
        }
      ]
    },
    {
      "cell_type": "code",
      "source": [
        "# Exercise 23\n",
        "# Write a Pandas program to rename columns of a given DataFrame\n",
        "import pandas as pd\n",
        "d = {'col1': [1, 2, 3], 'col2': [4, 5, 6], 'col3': [7, 8, 9]}\n",
        "df = pd.DataFrame(data = d)\n",
        "print(\"Original DataFrame\")\n",
        "print(df)\n",
        "df = df.rename(columns = {'col1': 'Column1', 'col2': 'Column2', 'col3': 'Column3'})\n",
        "print(\"New DataFrame after renaming columns:\")\n",
        "print(df)"
      ],
      "metadata": {
        "colab": {
          "base_uri": "https://localhost:8080/"
        },
        "id": "M81fXy0e08hQ",
        "outputId": "c3331608-765f-4ad0-e70e-df026f77bc4f"
      },
      "execution_count": null,
      "outputs": [
        {
          "output_type": "stream",
          "name": "stdout",
          "text": [
            "Original DataFrame\n",
            "   col1  col2  col3\n",
            "0     1     4     7\n",
            "1     2     5     8\n",
            "2     3     6     9\n",
            "New DataFrame after renaming columns:\n",
            "   Column1  Column2  Column3\n",
            "0        1        4        7\n",
            "1        2        5        8\n",
            "2        3        6        9\n"
          ]
        }
      ]
    },
    {
      "cell_type": "code",
      "source": [
        "# Exercise 24\n",
        "# Write a Pandas program to select rows from a given DataFrame based on values in some columns.\n",
        "\n",
        "import pandas as pd\n",
        "d = {'col1': [1, 4, 3, 4, 5], 'col2': [4, 5, 6, 7, 8], 'col3': [7, 8, 9, 0, 1]}\n",
        "df = pd.DataFrame(data = d)\n",
        "print(\"Original DataFrame\")\n",
        "print(df)\n",
        "print(\"Rows for colum1 value == 4\")\n",
        "print(df.loc[df['col1'] == 4])"
      ],
      "metadata": {
        "colab": {
          "base_uri": "https://localhost:8080/"
        },
        "id": "sp8udCgi5n5V",
        "outputId": "f8eeef03-b3c8-4ce1-d716-129e2c68798e"
      },
      "execution_count": null,
      "outputs": [
        {
          "output_type": "stream",
          "name": "stdout",
          "text": [
            "Original DataFrame\n",
            "   col1  col2  col3\n",
            "0     1     4     7\n",
            "1     4     5     8\n",
            "2     3     6     9\n",
            "3     4     7     0\n",
            "4     5     8     1\n",
            "Rows for colum1 value == 4\n",
            "   col1  col2  col3\n",
            "1     4     5     8\n",
            "3     4     7     0\n"
          ]
        }
      ]
    },
    {
      "cell_type": "code",
      "source": [
        "# Exercise 25\n",
        "# Write a Pandas program to change the order of a DataFrame columns\n",
        "\n",
        "import pandas as pd\n",
        "d = {'col1': [1, 4, 3, 4, 5], 'col2': [4, 5, 6, 7, 8], 'col3': [7, 8, 9, 0, 1]}\n",
        "df = pd.DataFrame(data = d)\n",
        "print(\"After altering col1 and col3\")\n",
        "df = df[['col3', 'col2', 'col1']]\n",
        "print(df)"
      ],
      "metadata": {
        "colab": {
          "base_uri": "https://localhost:8080/"
        },
        "id": "dVSOreWi7S1r",
        "outputId": "26e63f8e-ce54-48b6-87c3-77595261db6c"
      },
      "execution_count": null,
      "outputs": [
        {
          "output_type": "stream",
          "name": "stdout",
          "text": [
            "Original DataFrame\n",
            "   col1  col2  col3\n",
            "0     1     4     7\n",
            "1     4     5     8\n",
            "2     3     6     9\n",
            "3     4     7     0\n",
            "4     5     8     1\n",
            "After altering col1 and col3\n",
            "   col3  col2  col1\n",
            "0     7     4     1\n",
            "1     8     5     4\n",
            "2     9     6     3\n",
            "3     0     7     4\n",
            "4     1     8     5\n"
          ]
        }
      ]
    },
    {
      "cell_type": "code",
      "source": [
        "# Exercise 26\n",
        "# Write a Pandas program to add one row in an existing DataFrame\n",
        "\n",
        "import pandas as pd\n",
        "d = {'col1': [1, 4, 3, 4, 5], 'col2': [4, 5, 6, 7, 8], 'col3': [7, 8, 9, 0, 1]}\n",
        "df = pd.DataFrame(data=d)\n",
        "print(\"Original DataFrame\")\n",
        "print(df)\n",
        "print(\"After add one row:\")\n",
        "df2 = {'col1': 10, 'col2': 11, 'col3': 12}\n",
        "df = df.append(df2, ignore_index = True)\n",
        "print(df)"
      ],
      "metadata": {
        "colab": {
          "base_uri": "https://localhost:8080/"
        },
        "id": "VquNqKm496zr",
        "outputId": "9b6e3242-fe77-421e-877f-8e0c921ba750"
      },
      "execution_count": null,
      "outputs": [
        {
          "output_type": "stream",
          "name": "stdout",
          "text": [
            "Original DataFrame\n",
            "   col1  col2  col3\n",
            "0     1     4     7\n",
            "1     4     5     8\n",
            "2     3     6     9\n",
            "3     4     7     0\n",
            "4     5     8     1\n",
            "After add one row:\n",
            "   col1  col2  col3\n",
            "0     1     4     7\n",
            "1     4     5     8\n",
            "2     3     6     9\n",
            "3     4     7     0\n",
            "4     5     8     1\n",
            "5    10    11    12\n"
          ]
        },
        {
          "output_type": "stream",
          "name": "stderr",
          "text": [
            "<ipython-input-65-6594ff5b7eca>:11: FutureWarning: The frame.append method is deprecated and will be removed from pandas in a future version. Use pandas.concat instead.\n",
            "  df = df.append(df2, ignore_index = True)\n"
          ]
        }
      ]
    },
    {
      "cell_type": "code",
      "source": [
        "# Exercise 27\n",
        "# Write a Pandas program to write a DataFrame to CSV file using tab separator.\n",
        "\n",
        "import pandas as pd\n",
        "import numpy as np\n",
        "d = {'col1': [1, 4, 3, 4, 5], 'col2': [4, 5, 6, 7, 8], 'col3': [7, 8, 9, 0, 1]}\n",
        "df = pd.DataFrame(data=d)\n",
        "print(\"Original DataFrame\")\n",
        "print(df)\n",
        "print('Data from new_file.csv file:')\n",
        "df.to_csv('new_file.csv', sep='\\t', index=False)\n",
        "new_df = pd.read_csv('new_file.csv')\n",
        "print(new_df)"
      ],
      "metadata": {
        "id": "12WrlefW-4D0",
        "colab": {
          "base_uri": "https://localhost:8080/"
        },
        "outputId": "9ed6fb63-f167-4221-e2d4-585cb729fbf3"
      },
      "execution_count": 10,
      "outputs": [
        {
          "output_type": "stream",
          "name": "stdout",
          "text": [
            "Original DataFrame\n",
            "   col1  col2  col3\n",
            "0     1     4     7\n",
            "1     4     5     8\n",
            "2     3     6     9\n",
            "3     4     7     0\n",
            "4     5     8     1\n",
            "Data from new_file.csv file:\n",
            "  col1\\tcol2\\tcol3\n",
            "0          1\\t4\\t7\n",
            "1          4\\t5\\t8\n",
            "2          3\\t6\\t9\n",
            "3          4\\t7\\t0\n",
            "4          5\\t8\\t1\n"
          ]
        }
      ]
    },
    {
      "cell_type": "code",
      "source": [
        "# Exercise 28\n",
        "# Write a Pandas program to select a row of series/dataframe by given integer index.\n",
        "\n",
        "import pandas as pd\n",
        "import numpy as np\n",
        "d = {'col1': [1 , 4, 3, 4, 5], 'col2': [4, 5, 6, 7, 8], 'col3': [7, 8, 9, 0, 1]}\n",
        "df = pd.DataFrame(data = d)\n",
        "print(\"Original DataFrame\")\n",
        "print(df)\n",
        "result = df.iloc[[2]]\n",
        "print(\"Index-2: Details\")\n",
        "print(result)"
      ],
      "metadata": {
        "colab": {
          "base_uri": "https://localhost:8080/"
        },
        "id": "l2ck8wNOB0R2",
        "outputId": "d717fa9d-4cbd-4890-b882-97c8b9f4e88b"
      },
      "execution_count": null,
      "outputs": [
        {
          "output_type": "stream",
          "name": "stdout",
          "text": [
            "Original DataFrame\n",
            "   col1  col2  col3\n",
            "0     1     4     7\n",
            "1     4     5     8\n",
            "2     3     6     9\n",
            "3     4     7     0\n",
            "4     5     8     1\n",
            "Index-2: Details\n",
            "   col1  col2  col3\n",
            "2     3     6     9\n"
          ]
        }
      ]
    },
    {
      "cell_type": "code",
      "source": [
        "# Exercise 29\n",
        "# Write a Pandas program to count city wise number of people from a given of data set (city, name of the person).\n",
        "\n",
        "import pandas as pd\n",
        "df1 = pd.DataFrame({'name': ['Anastasia', 'Dima', 'Katherine', 'James', 'Emily', 'Michael', 'Matthew', 'Laura', 'Kevin', 'Jonas'],\n",
        "'city': ['California', 'Los Angeles', 'California', 'California', 'California', 'Los Angeles', 'Los Angeles', 'Georgia', 'Georgia', 'Los Angeles']})\n",
        "g1 = df1.groupby([\"city\"]).size().reset_index(name='Number of people')\n",
        "print(g1)"
      ],
      "metadata": {
        "colab": {
          "base_uri": "https://localhost:8080/"
        },
        "id": "R6cnlNQqCeeo",
        "outputId": "980e370e-4355-4f18-c847-5395026ff423"
      },
      "execution_count": null,
      "outputs": [
        {
          "output_type": "stream",
          "name": "stdout",
          "text": [
            "          city  Number of people\n",
            "0   California                 4\n",
            "1      Georgia                 2\n",
            "2  Los Angeles                 4\n"
          ]
        }
      ]
    },
    {
      "cell_type": "code",
      "source": [
        "# Exercise 30\n",
        "# Write a Pandas program to widen output display to see more columns\n",
        "\n",
        "import pandas as pd\n",
        "import numpy as np\n",
        "d = {'col1': [1, 4, 3, 4, 5], 'col2': [4, 5, 6, 7, 8], 'col3': [7, 8, 9, 0, 1]}\n",
        "df = pd.DataFrame(data = d)\n",
        "pd.set_option(\"display.max_rows\", 500)\n",
        "pd.set_option(\"display.max_columns\", 500)\n",
        "pd.set_option(\"display.width\", 1000)\n",
        "print(\"Original DataFrame\")\n",
        "print(df)"
      ],
      "metadata": {
        "colab": {
          "base_uri": "https://localhost:8080/"
        },
        "id": "KtO3Yg7mCukn",
        "outputId": "ad5feb40-a693-4b93-ccdd-178e2b00b533"
      },
      "execution_count": null,
      "outputs": [
        {
          "output_type": "stream",
          "name": "stdout",
          "text": [
            "Original DataFrame\n",
            "   col1  col2  col3\n",
            "0     1     4     7\n",
            "1     4     5     8\n",
            "2     3     6     9\n",
            "3     4     7     0\n",
            "4     5     8     1\n"
          ]
        }
      ]
    },
    {
      "cell_type": "code",
      "source": [
        "# Exercise 31\n",
        "# Write a Pandas program to replace all the NaN values with Zero's in a column of a dataframe.\n",
        "\n",
        "import pandas as pd\n",
        "import numpy as np\n",
        "exam_data = {'name': ['Anastasia', 'Dima', 'Katherine', 'James', 'Emily', 'Michael', 'Matthew', 'Laura', 'Kevin', 'Jonas'],\n",
        "        'score': [12.5, 9, 16.5, np.nan, 9, 20, 14.5, np.nan, 8, 19],\n",
        "        'attempts': [1, 3, 2, 3, 2, 3, 1, 1, 2, 1],\n",
        "        'qualify': ['yes', 'no', 'yes', 'no', 'no', 'yes', 'yes', 'no', 'no', 'yes']}\n",
        "df = pd.DataFrame(exam_data)\n",
        "print(\"Original DataFrame\")\n",
        "print(df)\n",
        "df = df.fillna(0)\n",
        "print(\"\\nNew DataFrame replacing all Nan with 0:\")\n",
        "print(df)\n"
      ],
      "metadata": {
        "colab": {
          "base_uri": "https://localhost:8080/"
        },
        "id": "ZhkSzQXfYX2X",
        "outputId": "f4a189e9-41f4-4234-91de-b36a49657b31"
      },
      "execution_count": 1,
      "outputs": [
        {
          "output_type": "stream",
          "name": "stdout",
          "text": [
            "Original DataFrame\n",
            "        name  score  attempts qualify\n",
            "0  Anastasia   12.5         1     yes\n",
            "1       Dima    9.0         3      no\n",
            "2  Katherine   16.5         2     yes\n",
            "3      James    NaN         3      no\n",
            "4      Emily    9.0         2      no\n",
            "5    Michael   20.0         3     yes\n",
            "6    Matthew   14.5         1     yes\n",
            "7      Laura    NaN         1      no\n",
            "8      Kevin    8.0         2      no\n",
            "9      Jonas   19.0         1     yes\n",
            "\n",
            "New DataFrame replacing all Nan with 0:\n",
            "        name  score  attempts qualify\n",
            "0  Anastasia   12.5         1     yes\n",
            "1       Dima    9.0         3      no\n",
            "2  Katherine   16.5         2     yes\n",
            "3      James    0.0         3      no\n",
            "4      Emily    9.0         2      no\n",
            "5    Michael   20.0         3     yes\n",
            "6    Matthew   14.5         1     yes\n",
            "7      Laura    0.0         1      no\n",
            "8      Kevin    8.0         2      no\n",
            "9      Jonas   19.0         1     yes\n"
          ]
        }
      ]
    },
    {
      "cell_type": "code",
      "source": [
        "# Exercise 32\n",
        "# Write a Pandas program to convert index in a column of the given dataframe.\n",
        "\n",
        "import pandas as pd\n",
        "import numpy as np\n",
        "exam_data = {'name': ['Anastasia', 'Dima', 'Katherine', 'James', 'Emily', 'Michael', 'Matthew', 'Laura', 'Kevin', 'Jonas'],\n",
        "        'score': [12.5, 9, 16.5, np.nan, 9, 20, 14.5, np.nan, 8, 19],\n",
        "        'attempts': [1, 3, 2, 3, 2, 3, 1, 1, 2, 1],\n",
        "        'qualify': ['yes', 'no', 'yes', 'no', 'no', 'yes', 'yes', 'no', 'no', 'yes']}\n",
        "df = pd.DataFrame(exam_data)\n",
        "print(\"Original DataFrame\")\n",
        "print(df)\n",
        "print(\"\\nAfter converting index in a column:\")\n",
        "df.reset_index(level=0, inplace=True)\n",
        "print(df)\n",
        "print(\"\\nHiding index:\")\n",
        "print( df.to_string(index=False))"
      ],
      "metadata": {
        "colab": {
          "base_uri": "https://localhost:8080/"
        },
        "id": "O90553xzcAgN",
        "outputId": "32e6f036-a8fc-4090-c594-c69e3763bb42"
      },
      "execution_count": 2,
      "outputs": [
        {
          "output_type": "stream",
          "name": "stdout",
          "text": [
            "Original DataFrame\n",
            "        name  score  attempts qualify\n",
            "0  Anastasia   12.5         1     yes\n",
            "1       Dima    9.0         3      no\n",
            "2  Katherine   16.5         2     yes\n",
            "3      James    NaN         3      no\n",
            "4      Emily    9.0         2      no\n",
            "5    Michael   20.0         3     yes\n",
            "6    Matthew   14.5         1     yes\n",
            "7      Laura    NaN         1      no\n",
            "8      Kevin    8.0         2      no\n",
            "9      Jonas   19.0         1     yes\n",
            "\n",
            "After converting index in a column:\n",
            "   index       name  score  attempts qualify\n",
            "0      0  Anastasia   12.5         1     yes\n",
            "1      1       Dima    9.0         3      no\n",
            "2      2  Katherine   16.5         2     yes\n",
            "3      3      James    NaN         3      no\n",
            "4      4      Emily    9.0         2      no\n",
            "5      5    Michael   20.0         3     yes\n",
            "6      6    Matthew   14.5         1     yes\n",
            "7      7      Laura    NaN         1      no\n",
            "8      8      Kevin    8.0         2      no\n",
            "9      9      Jonas   19.0         1     yes\n",
            "\n",
            "Hiding index:\n",
            " index      name  score  attempts qualify\n",
            "     0 Anastasia   12.5         1     yes\n",
            "     1      Dima    9.0         3      no\n",
            "     2 Katherine   16.5         2     yes\n",
            "     3     James    NaN         3      no\n",
            "     4     Emily    9.0         2      no\n",
            "     5   Michael   20.0         3     yes\n",
            "     6   Matthew   14.5         1     yes\n",
            "     7     Laura    NaN         1      no\n",
            "     8     Kevin    8.0         2      no\n",
            "     9     Jonas   19.0         1     yes\n"
          ]
        }
      ]
    },
    {
      "cell_type": "code",
      "source": [
        "# Exercise 33\n",
        "# Write a Pandas program to set a given value for particular cell in DataFrame using index value.\n",
        "\n",
        "import pandas as pd\n",
        "import numpy as np\n",
        "exam_data = {'name': ['Anastasia', 'Dima', 'Katherine', 'James', 'Emily', 'Michael', 'Matthew', 'Laura', 'Kevin', 'Jonas'],\n",
        "        'score': [12.5, 9, 16.5, np.nan, 9, 20, 14.5, np.nan, 8, 19],\n",
        "        'attempts': [1, 3, 2, 3, 2, 3, 1, 1, 2, 1],\n",
        "        'qualify': ['yes', 'no', 'yes', 'no', 'no', 'yes', 'yes', 'no', 'no', 'yes']}\n",
        "df = pd.DataFrame(exam_data)\n",
        "print(\"Original DataFrame\")\n",
        "print(df)\n",
        "print(\"\\nSet a given value for particular cell in the DataFrame\")\n",
        "df.at[8, 'score'] = 10.2\n",
        "print(df)\n"
      ],
      "metadata": {
        "colab": {
          "base_uri": "https://localhost:8080/"
        },
        "id": "cBvC_6V8chYY",
        "outputId": "c56dfff3-ae61-4971-b46a-1023bd6373fa"
      },
      "execution_count": 6,
      "outputs": [
        {
          "output_type": "stream",
          "name": "stdout",
          "text": [
            "Original DataFrame\n",
            "        name  score  attempts qualify\n",
            "0  Anastasia   12.5         1     yes\n",
            "1       Dima    9.0         3      no\n",
            "2  Katherine   16.5         2     yes\n",
            "3      James    NaN         3      no\n",
            "4      Emily    9.0         2      no\n",
            "5    Michael   20.0         3     yes\n",
            "6    Matthew   14.5         1     yes\n",
            "7      Laura    NaN         1      no\n",
            "8      Kevin    8.0         2      no\n",
            "9      Jonas   19.0         1     yes\n",
            "\n",
            "Set a given value for particular cell in the DataFrame\n",
            "        name  score  attempts qualify\n",
            "0  Anastasia   12.5         1     yes\n",
            "1       Dima    9.0         3      no\n",
            "2  Katherine   16.5         2     yes\n",
            "3      James    NaN         3      no\n",
            "4      Emily    9.0         2      no\n",
            "5    Michael   20.0         3     yes\n",
            "6    Matthew   14.5         1     yes\n",
            "7      Laura    NaN         1      no\n",
            "8      Kevin   10.2         2      no\n",
            "9      Jonas   19.0         1     yes\n"
          ]
        }
      ]
    },
    {
      "cell_type": "code",
      "source": [
        "# Exercise 34\n",
        "# Write a Pandas program to count the NaN values in one or more columns in DataFrame.\n",
        "\n",
        "import pandas as pd\n",
        "import numpy as np\n",
        "exam_data = {'name': ['Anastasia', 'Dima', 'Katherine', 'James', 'Emily', 'Michael', 'Matthew', 'Laura', 'Kevin', 'Jonas'],\n",
        "        'score': [12.5, 9, 16.5, np.nan, 9, 20, 14.5, np.nan, 8, 19],\n",
        "        'attempts': [1, 3, 2, 3, 2, 3, 1, 1, 2, 1],\n",
        "        'qualify': ['yes', 'no', 'yes', 'no', 'no', 'yes', 'yes', 'no', 'no', 'yes']}\n",
        "df = pd.DataFrame(exam_data)\n",
        "print(\"Original DataFrame\")\n",
        "print(df)\n",
        "print(\"\\nNumber of Nan values in one or more columns:\")\n",
        "print(df.isnull().values.sum())"
      ],
      "metadata": {
        "colab": {
          "base_uri": "https://localhost:8080/"
        },
        "id": "nuOy1Pnmeusd",
        "outputId": "0acc5d56-eeef-4c04-dc87-b06f3202d8d6"
      },
      "execution_count": 7,
      "outputs": [
        {
          "output_type": "stream",
          "name": "stdout",
          "text": [
            "Original DataFrame\n",
            "        name  score  attempts qualify\n",
            "0  Anastasia   12.5         1     yes\n",
            "1       Dima    9.0         3      no\n",
            "2  Katherine   16.5         2     yes\n",
            "3      James    NaN         3      no\n",
            "4      Emily    9.0         2      no\n",
            "5    Michael   20.0         3     yes\n",
            "6    Matthew   14.5         1     yes\n",
            "7      Laura    NaN         1      no\n",
            "8      Kevin    8.0         2      no\n",
            "9      Jonas   19.0         1     yes\n",
            "\n",
            "Number of Nan values in one or more columns:\n",
            "2\n"
          ]
        }
      ]
    },
    {
      "cell_type": "code",
      "source": [
        "# Exercise 35\n",
        "# Write a Pandas program to drop a list of rows from a specified DataFrame\n",
        "\n",
        "import pandas as pd\n",
        "import numpy as np\n",
        "d = {'col1': [1, 4, 3, 4, 5], 'col2': [4, 5, 6, 7, 8], 'col3': [7, 8, 9, 0, 1]}\n",
        "df = pd.DataFrame(d)\n",
        "print(\"Original DataFrame\")\n",
        "print(d)\n",
        "print(\"New DataFrame after removing 2nd & 4th rows:\")\n",
        "df = df.drop(df.index[[2, 4]])\n",
        "print(df)"
      ],
      "metadata": {
        "colab": {
          "base_uri": "https://localhost:8080/"
        },
        "id": "2UxFOWjyfjTg",
        "outputId": "2ecfa9ba-10dd-404c-f1bc-f6c7d260e855"
      },
      "execution_count": 9,
      "outputs": [
        {
          "output_type": "stream",
          "name": "stdout",
          "text": [
            "Original DataFrame\n",
            "{'col1': [1, 4, 3, 4, 5], 'col2': [4, 5, 6, 7, 8], 'col3': [7, 8, 9, 0, 1]}\n",
            "New DataFrame after removing 2nd & 4th rows:\n",
            "   col1  col2  col3\n",
            "0     1     4     7\n",
            "1     4     5     8\n",
            "3     4     7     0\n"
          ]
        }
      ]
    },
    {
      "cell_type": "code",
      "source": [
        "# Exercise 36\n",
        "# Write a Pandas program to reset index in a given DataFrame\n",
        "\n",
        "import pandas as pd\n",
        "import numpy as np\n",
        "exam_data = {'name': ['Anastasia', 'Dima', 'Katherine', 'James', 'Emily', 'Michael', 'Matthew', 'Laura', 'Kevin', 'Jonas'],\n",
        "        'score': [12.5, 9, 16.5, np.nan, 9, 20, 14.5, np.nan, 8, 19],\n",
        "        'attempts': [1, 3, 2, 3, 2, 3, 1, 1, 2, 1],\n",
        "        'qualify': ['yes', 'no', 'yes', 'no', 'no', 'yes', 'yes', 'no', 'no', 'yes']}\n",
        "df = pd.DataFrame(exam_data)\n",
        "print(\"Original DataFrame\")\n",
        "print(df)\n",
        "df = df.drop([0, 1])\n",
        "print(\"\\nAfter removing first and second rows\")\n",
        "print(df)\n",
        "df = df.reset_index()\n",
        "print(\"\\nReset the Index:\")\n",
        "print(df)"
      ],
      "metadata": {
        "colab": {
          "base_uri": "https://localhost:8080/"
        },
        "id": "riRS8mrJghTz",
        "outputId": "fb0efb7e-ab19-4b85-a4fb-e685c1f3d226"
      },
      "execution_count": 11,
      "outputs": [
        {
          "output_type": "stream",
          "name": "stdout",
          "text": [
            "Original DataFrame\n",
            "        name  score  attempts qualify\n",
            "0  Anastasia   12.5         1     yes\n",
            "1       Dima    9.0         3      no\n",
            "2  Katherine   16.5         2     yes\n",
            "3      James    NaN         3      no\n",
            "4      Emily    9.0         2      no\n",
            "5    Michael   20.0         3     yes\n",
            "6    Matthew   14.5         1     yes\n",
            "7      Laura    NaN         1      no\n",
            "8      Kevin    8.0         2      no\n",
            "9      Jonas   19.0         1     yes\n",
            "\n",
            "After removing first and second rows\n",
            "        name  score  attempts qualify\n",
            "2  Katherine   16.5         2     yes\n",
            "3      James    NaN         3      no\n",
            "4      Emily    9.0         2      no\n",
            "5    Michael   20.0         3     yes\n",
            "6    Matthew   14.5         1     yes\n",
            "7      Laura    NaN         1      no\n",
            "8      Kevin    8.0         2      no\n",
            "9      Jonas   19.0         1     yes\n",
            "\n",
            "Reset the Index:\n",
            "   index       name  score  attempts qualify\n",
            "0      2  Katherine   16.5         2     yes\n",
            "1      3      James    NaN         3      no\n",
            "2      4      Emily    9.0         2      no\n",
            "3      5    Michael   20.0         3     yes\n",
            "4      6    Matthew   14.5         1     yes\n",
            "5      7      Laura    NaN         1      no\n",
            "6      8      Kevin    8.0         2      no\n",
            "7      9      Jonas   19.0         1     yes\n"
          ]
        }
      ]
    },
    {
      "cell_type": "code",
      "source": [
        "# Exercise 37\n",
        "# Write a Pandas program to divide a DataFrame in a given ratio.\n",
        "\n",
        "import pandas as pd\n",
        "import numpy as np\n",
        "df = pd.DataFrame(np.random.randn(10, 2))\n",
        "print(\"Original DataFrame:\")\n",
        "print(df)\n",
        "part_70 = df.sample(frac=0.7,random_state=10)\n",
        "part_30 = df.drop(part_70.index)\n",
        "print(\"\\n70% of the said DataFrame:\")\n",
        "print(part_70)\n",
        "print(\"\\n30% of the said DataFrame:\")\n",
        "print(part_30)"
      ],
      "metadata": {
        "colab": {
          "base_uri": "https://localhost:8080/"
        },
        "id": "rw-wJjALiEyo",
        "outputId": "e195ba1a-ba0d-4396-f834-bfdd3e4d73de"
      },
      "execution_count": 12,
      "outputs": [
        {
          "output_type": "stream",
          "name": "stdout",
          "text": [
            "Original DataFrame:\n",
            "          0         1\n",
            "0  1.720540  1.450763\n",
            "1 -0.808094 -0.903430\n",
            "2 -0.463880 -0.634843\n",
            "3  0.577527 -0.260568\n",
            "4 -0.255414  0.341467\n",
            "5 -0.470634  1.059052\n",
            "6 -0.990689 -1.645609\n",
            "7 -0.149227 -0.187112\n",
            "8 -1.063133  0.001274\n",
            "9  0.148831  0.170209\n",
            "\n",
            "70% of the said DataFrame:\n",
            "          0         1\n",
            "8 -1.063133  0.001274\n",
            "2 -0.463880 -0.634843\n",
            "5 -0.470634  1.059052\n",
            "6 -0.990689 -1.645609\n",
            "3  0.577527 -0.260568\n",
            "1 -0.808094 -0.903430\n",
            "0  1.720540  1.450763\n",
            "\n",
            "30% of the said DataFrame:\n",
            "          0         1\n",
            "4 -0.255414  0.341467\n",
            "7 -0.149227 -0.187112\n",
            "9  0.148831  0.170209\n"
          ]
        }
      ]
    },
    {
      "cell_type": "code",
      "source": [
        "# Exercise 38\n",
        "# Write a Pandas program to combining two series into a DataFrame.\n",
        "\n",
        "import pandas as pd\n",
        "import numpy as np\n",
        "s1 = pd.Series(['100', '200', 'python', '300.12', '400'])\n",
        "s2 = pd.Series(['10', '20', 'php', '30.12', '40'])\n",
        "print(\"Data Series:\")\n",
        "print(s1)\n",
        "print(s2)\n",
        "df = pd.concat([s1, s2], axis = 1)\n",
        "print(\"New DataFrame combining two series:\")\n",
        "print(df)\n"
      ],
      "metadata": {
        "colab": {
          "base_uri": "https://localhost:8080/"
        },
        "id": "AlodhESBiOjO",
        "outputId": "4c1e56d2-085f-4774-8cc8-979ccffd7a15"
      },
      "execution_count": 3,
      "outputs": [
        {
          "output_type": "stream",
          "name": "stdout",
          "text": [
            "Data Series:\n",
            "0       100\n",
            "1       200\n",
            "2    python\n",
            "3    300.12\n",
            "4       400\n",
            "dtype: object\n",
            "0       10\n",
            "1       20\n",
            "2      php\n",
            "3    30.12\n",
            "4       40\n",
            "dtype: object\n",
            "New DataFrame combining two series:\n",
            "        0      1\n",
            "0     100     10\n",
            "1     200     20\n",
            "2  python    php\n",
            "3  300.12  30.12\n",
            "4     400     40\n"
          ]
        }
      ]
    },
    {
      "cell_type": "code",
      "source": [
        "# Exercise 39\n",
        "# Write a Pandas program to shuffle a given DataFrame rows.\n",
        "\n",
        "import pandas as pd\n",
        "import numpy as np\n",
        "exam_data = {'name': ['Anastasia', 'Dima', 'Katherine', 'James', 'Emily', 'Michael', 'Matthew', 'Laura', 'Kevin', 'Jonas'],\n",
        "        'score': [12.5, 9, 16.5, np.nan, 9, 20, 14.5, np.nan, 8, 19],\n",
        "        'attempts': [1, 3, 2, 3, 2, 3, 1, 1, 2, 1],\n",
        "        'qualify': ['yes', 'no', 'yes', 'no', 'no', 'yes', 'yes', 'no', 'no', 'yes']}\n",
        "df = pd.DataFrame(exam_data)\n",
        "print(\"Original DataFrame:\")\n",
        "print(df)\n",
        "df = df.sample(frac = 1)\n",
        "print(\"\\nNew DataFrame:\")\n",
        "print(df)"
      ],
      "metadata": {
        "colab": {
          "base_uri": "https://localhost:8080/"
        },
        "id": "w8F2KImjBsUc",
        "outputId": "b6c55e36-e8ec-4eca-c93f-35aecd7bc11a"
      },
      "execution_count": 4,
      "outputs": [
        {
          "output_type": "stream",
          "name": "stdout",
          "text": [
            "Original DataFrame:\n",
            "        name  score  attempts qualify\n",
            "0  Anastasia   12.5         1     yes\n",
            "1       Dima    9.0         3      no\n",
            "2  Katherine   16.5         2     yes\n",
            "3      James    NaN         3      no\n",
            "4      Emily    9.0         2      no\n",
            "5    Michael   20.0         3     yes\n",
            "6    Matthew   14.5         1     yes\n",
            "7      Laura    NaN         1      no\n",
            "8      Kevin    8.0         2      no\n",
            "9      Jonas   19.0         1     yes\n",
            "\n",
            "New DataFrame:\n",
            "        name  score  attempts qualify\n",
            "6    Matthew   14.5         1     yes\n",
            "3      James    NaN         3      no\n",
            "5    Michael   20.0         3     yes\n",
            "8      Kevin    8.0         2      no\n",
            "9      Jonas   19.0         1     yes\n",
            "7      Laura    NaN         1      no\n",
            "4      Emily    9.0         2      no\n",
            "0  Anastasia   12.5         1     yes\n",
            "1       Dima    9.0         3      no\n",
            "2  Katherine   16.5         2     yes\n"
          ]
        }
      ]
    },
    {
      "cell_type": "code",
      "source": [
        "# Exercise 40\n",
        "# Write a Pandas program to convert DataFrame column type from string to datetime\n",
        "\n",
        "import pandas as pd\n",
        "import numpy as np\n",
        "s = pd.Series(['3/11/2000', '3/12/2000', '3/13/2000'])\n",
        "print(\"String Date:\")\n",
        "print(s)\n",
        "r = pd.to_datetime(pd.Series(s))\n",
        "df = pd.DataFrame(r)\n",
        "print(\"Original DataFrame (string to datetime):\")\n",
        "print(df)\n"
      ],
      "metadata": {
        "colab": {
          "base_uri": "https://localhost:8080/"
        },
        "id": "-pHVZl8zCbJu",
        "outputId": "23d11b0b-154a-4749-f34f-7ce40b141c03"
      },
      "execution_count": 7,
      "outputs": [
        {
          "output_type": "stream",
          "name": "stdout",
          "text": [
            "String Date:\n",
            "0    3/11/2000\n",
            "1    3/12/2000\n",
            "2    3/13/2000\n",
            "dtype: object\n",
            "Original DataFrame (string to datetime):\n",
            "           0\n",
            "0 2000-03-11\n",
            "1 2000-03-12\n",
            "2 2000-03-13\n"
          ]
        }
      ]
    },
    {
      "cell_type": "code",
      "source": [
        "# Exercise 41\n",
        "# Write a Pandas program to rename a specific column name in a given DataFrame\n",
        "\n",
        "import pandas as pd\n",
        "d = {'col1': [1, 2, 3], 'col2': [4, 5, 6], 'col3': [7, 8, 9]}\n",
        "df = pd.DataFrame(d)\n",
        "print(\"Original DataFrame\")\n",
        "print(df)\n",
        "df = df.rename(columns = {'col2': 'Column2'})\n",
        "print(\"New DataFrame after renaming second column:\")\n",
        "print(df)"
      ],
      "metadata": {
        "colab": {
          "base_uri": "https://localhost:8080/"
        },
        "id": "YuTila9uD7Pr",
        "outputId": "9fce7898-a106-4a06-fd1d-d3f45947926b"
      },
      "execution_count": 9,
      "outputs": [
        {
          "output_type": "stream",
          "name": "stdout",
          "text": [
            "Original DataFrame\n",
            "   col1  col2  col3\n",
            "0     1     4     7\n",
            "1     2     5     8\n",
            "2     3     6     9\n",
            "New DataFrame after renaming second column:\n",
            "   col1  Column2  col3\n",
            "0     1        4     7\n",
            "1     2        5     8\n",
            "2     3        6     9\n"
          ]
        }
      ]
    },
    {
      "cell_type": "code",
      "source": [
        "# Exercise 42\n",
        "# Write a Pandas program to get a list of a specified column of a DataFrame\n",
        "\n",
        "import pandas as pd\n",
        "d = {'col1': [1, 2, 3], 'col2': [4, 5, 6], 'col3': [7, 8, 9]}\n",
        "df = pd.DataFrame(d)\n",
        "print(\"Original DataFrame\")\n",
        "print(df)\n",
        "col2_list = df['col2'].tolist()\n",
        "print(\"Col2 of the DataFrame to list:\")\n",
        "print(col2_list)"
      ],
      "metadata": {
        "colab": {
          "base_uri": "https://localhost:8080/"
        },
        "id": "_3Ml9j1mFHbU",
        "outputId": "13b8f53d-8325-437d-cc95-94e71bc16e36"
      },
      "execution_count": 12,
      "outputs": [
        {
          "output_type": "stream",
          "name": "stdout",
          "text": [
            "Original DataFrame\n",
            "   col1  col2  col3\n",
            "0     1     4     7\n",
            "1     2     5     8\n",
            "2     3     6     9\n",
            "Col2 of the DataFrame to list:\n",
            "[4, 5, 6]\n"
          ]
        }
      ]
    },
    {
      "cell_type": "code",
      "source": [
        "# Exercise 43\n",
        "# Write a Pandas program to create a DataFrame from a Numpy array and specify the index column and column\n",
        "\n",
        "import pandas\n",
        "import numpy\n",
        "dtype = [('Column1','int32'), ('Column2','float32'), ('Column3','float32')]\n",
        "values = numpy.zeros(15, dtype=dtype)\n",
        "index = ['Index'+str(i) for i in range(1, len(values)+1)]\n",
        "df = pandas.DataFrame(values, index=index)\n",
        "print(df)"
      ],
      "metadata": {
        "colab": {
          "base_uri": "https://localhost:8080/"
        },
        "id": "dw6PyamCGuBR",
        "outputId": "b8f7f0a4-529d-4af0-8ef4-0dcca80263de"
      },
      "execution_count": 13,
      "outputs": [
        {
          "output_type": "stream",
          "name": "stdout",
          "text": [
            "         Column1  Column2  Column3\n",
            "Index1         0      0.0      0.0\n",
            "Index2         0      0.0      0.0\n",
            "Index3         0      0.0      0.0\n",
            "Index4         0      0.0      0.0\n",
            "Index5         0      0.0      0.0\n",
            "Index6         0      0.0      0.0\n",
            "Index7         0      0.0      0.0\n",
            "Index8         0      0.0      0.0\n",
            "Index9         0      0.0      0.0\n",
            "Index10        0      0.0      0.0\n",
            "Index11        0      0.0      0.0\n",
            "Index12        0      0.0      0.0\n",
            "Index13        0      0.0      0.0\n",
            "Index14        0      0.0      0.0\n",
            "Index15        0      0.0      0.0\n"
          ]
        }
      ]
    },
    {
      "cell_type": "code",
      "source": [
        "# Exercise 44\n",
        "# Write a Pandas program to find the row for where the value of a given column is maximum.\n",
        "\n",
        "import pandas as pd\n",
        "d = {'col1': [1, 2, 3, 4, 7], 'col2': [4, 5, 6, 9, 5], 'col3': [7, 8, 12, 1, 11]}\n",
        "df = pd.DataFrame(d)\n",
        "print(\"Original DataFrame\")\n",
        "print(df)\n",
        "print(\"Row where col1 has maximum value:\")\n",
        "print(df['col1'].argmax())\n",
        "print(\"Row where col2 has maximum value:\")\n",
        "print(df['col2'].argmax())\n",
        "print(\"Row where col3 has maximum value:\")\n",
        "print(df['col3'].argmax())"
      ],
      "metadata": {
        "colab": {
          "base_uri": "https://localhost:8080/"
        },
        "id": "fbr4FdI_HuVy",
        "outputId": "077d5f9e-a5ff-4479-d6c2-205f2c100e97"
      },
      "execution_count": 16,
      "outputs": [
        {
          "output_type": "stream",
          "name": "stdout",
          "text": [
            "Original DataFrame\n",
            "   col1  col2  col3\n",
            "0     1     4     7\n",
            "1     2     5     8\n",
            "2     3     6    12\n",
            "3     4     9     1\n",
            "4     7     5    11\n",
            "Row where col1 has maximum value:\n",
            "4\n",
            "Row where col2 has maximum value:\n",
            "3\n",
            "Row where col3 has maximum value:\n",
            "2\n"
          ]
        }
      ]
    },
    {
      "cell_type": "code",
      "source": [
        "# Exercise 45\n",
        "# Write a Pandas program to get the specified row value of a given DataFrame.\n",
        "\n",
        "import pandas as pd\n",
        "d = {'col1': [1, 2, 3, 4, 7], 'col2': [4, 5, 6, 9, 5], 'col3': [7, 8, 12, 1, 11]}\n",
        "df = pd.DataFrame(d)\n",
        "print(\"Original DataFrame\")\n",
        "print(df)\n",
        "print(\"Value of Row1\")\n",
        "print(df.iloc[0])\n",
        "print(\"Value of Row4\")\n",
        "print(df.iloc[3])"
      ],
      "metadata": {
        "colab": {
          "base_uri": "https://localhost:8080/"
        },
        "id": "7Yk6WsCZLAaA",
        "outputId": "13472318-5f4f-4c24-9b67-660bfaccc4ae"
      },
      "execution_count": 18,
      "outputs": [
        {
          "output_type": "stream",
          "name": "stdout",
          "text": [
            "Original DataFrame\n",
            "   col1  col2  col3\n",
            "0     1     4     7\n",
            "1     2     5     8\n",
            "2     3     6    12\n",
            "3     4     9     1\n",
            "4     7     5    11\n",
            "Value of Row1\n",
            "col1    1\n",
            "col2    4\n",
            "col3    7\n",
            "Name: 0, dtype: int64\n",
            "Value of Row4\n",
            "col1    4\n",
            "col2    9\n",
            "col3    1\n",
            "Name: 3, dtype: int64\n"
          ]
        }
      ]
    },
    {
      "cell_type": "code",
      "source": [
        "# Exercise 46\n",
        "# Write a Pandas program to check whether a given columnn is present in a DataFrame or not.\n",
        "\n",
        "import pandas as pd\n",
        "d = {'col1': [1, 2, 3, 4, 7], 'col2': [4, 5, 6, 9, 5], 'col3': [7, 8, 12, 1, 11]}\n",
        "df = pd.DataFrame(d)\n",
        "print(\"Original DataFrame\")\n",
        "print(df)\n",
        "if 'col1' in df.columns:\n",
        "  print(\"Col1 is present in DataFrame.\")\n",
        "else:\n",
        "  print(\"Col1 is not present in DataFrame.\")\n",
        "\n",
        "if 'col4' in df.columns:\n",
        "  print(\"Col4 is present in DataFrame.\")\n",
        "else:\n",
        "  print(\"Col4 is not present in DataFrame.\")\n",
        "\n"
      ],
      "metadata": {
        "colab": {
          "base_uri": "https://localhost:8080/"
        },
        "id": "ceUmTQrpL90r",
        "outputId": "e94ff2c1-990e-45f8-fe93-d2e9c4940296"
      },
      "execution_count": 20,
      "outputs": [
        {
          "output_type": "stream",
          "name": "stdout",
          "text": [
            "Original DataFrame\n",
            "   col1  col2  col3\n",
            "0     1     4     7\n",
            "1     2     5     8\n",
            "2     3     6    12\n",
            "3     4     9     1\n",
            "4     7     5    11\n",
            "Col1 is present in DataFrame.\n",
            "Col4 is not present in DataFrame.\n"
          ]
        }
      ]
    },
    {
      "cell_type": "code",
      "source": [
        "# Exercise 47\n",
        "# Write a Pandas program to get the datatypes of columns of a DataFrame\n",
        "\n",
        "import pandas as pd\n",
        "import numpy as np\n",
        "exam_data = {'name': ['Anastasia', 'Dima', 'Katherine', 'James', 'Emily', 'Michael', 'Matthew', 'Laura', 'Kevin', 'Jonas'],\n",
        "        'score': [12.5, 9, 16.5, np.nan, 9, 20, 14.5, np.nan, 8, 19],\n",
        "        'attempts': [1, 3, 2, 3, 2, 3, 1, 1, 2, 1],\n",
        "        'qualify': ['yes', 'no', 'yes', 'no', 'no', 'yes', 'yes', 'no', 'no', 'yes']}\n",
        "df = pd.DataFrame(exam_data)\n",
        "print(\"Original DataFrame:\")\n",
        "print(df)\n",
        "print(\"Data types of the columns of the said DataFrame:\")\n",
        "print(df.dtypes)"
      ],
      "metadata": {
        "colab": {
          "base_uri": "https://localhost:8080/"
        },
        "id": "5T4OGrlMNvf6",
        "outputId": "06b3eac4-e90f-4ef3-e449-2623bfef6c99"
      },
      "execution_count": 22,
      "outputs": [
        {
          "output_type": "stream",
          "name": "stdout",
          "text": [
            "Original DataFrame:\n",
            "        name  score  attempts qualify\n",
            "0  Anastasia   12.5         1     yes\n",
            "1       Dima    9.0         3      no\n",
            "2  Katherine   16.5         2     yes\n",
            "3      James    NaN         3      no\n",
            "4      Emily    9.0         2      no\n",
            "5    Michael   20.0         3     yes\n",
            "6    Matthew   14.5         1     yes\n",
            "7      Laura    NaN         1      no\n",
            "8      Kevin    8.0         2      no\n",
            "9      Jonas   19.0         1     yes\n",
            "Data types of the columns of the said DataFrame:\n",
            "name         object\n",
            "score       float64\n",
            "attempts      int64\n",
            "qualify      object\n",
            "dtype: object\n"
          ]
        }
      ]
    },
    {
      "cell_type": "code",
      "source": [
        "# Exercise 48\n",
        "# Write a Pandas program to append data to an empty DataFrame\n",
        "\n",
        "import pandas as pd\n",
        "import numpy as np\n",
        "df = pd.DataFrame()\n",
        "data = pd.DataFrame({'col1': range(3), 'col2': range(3)})\n",
        "df = df.append(data)\n",
        "print(\"After appending some data:\")\n",
        "print(df)"
      ],
      "metadata": {
        "colab": {
          "base_uri": "https://localhost:8080/"
        },
        "id": "tIoGnt_mP0dc",
        "outputId": "a8e46c34-4d42-49de-ba18-ba610d07bb77"
      },
      "execution_count": 26,
      "outputs": [
        {
          "output_type": "stream",
          "name": "stdout",
          "text": [
            "After appending some data:\n",
            "   col1  col2\n",
            "0     0     0\n",
            "1     1     1\n",
            "2     2     2\n"
          ]
        },
        {
          "output_type": "stream",
          "name": "stderr",
          "text": [
            "<ipython-input-26-5cc664db0343>:8: FutureWarning: The frame.append method is deprecated and will be removed from pandas in a future version. Use pandas.concat instead.\n",
            "  df = df.append(data)\n"
          ]
        }
      ]
    },
    {
      "cell_type": "code",
      "source": [
        "# Exercise 49\n",
        "# Write a Pandas program to sort a given DatFrame by two or more columns.\n",
        "\n",
        "import pandas as pd\n",
        "import numpy as np\n",
        "exam_data = {'name': ['Anastasia', 'Dima', 'Katherine', 'James', 'Emily', 'Michael', 'Matthew', 'Laura', 'Kevin', 'Jonas'],\n",
        "        'score': [12.5, 9, 16.5, np.nan, 9, 20, 14.5, np.nan, 8, 19],\n",
        "        'attempts': [1, 3, 2, 3, 2, 3, 1, 1, 2, 1],\n",
        "        'qualify': ['yes', 'no', 'yes', 'no', 'no', 'yes', 'yes', 'no', 'no', 'yes']}\n",
        "df = pd.DataFrame(exam_data)\n",
        "print(\"Original DataFrame:\")\n",
        "print(df)\n",
        "df = df.sort_values(['attempts', 'name'], ascending = [True, True])\n",
        "print(\"\\nSort the above DataFrame based on attempts, name:\")\n",
        "print(df)\n",
        "\n"
      ],
      "metadata": {
        "colab": {
          "base_uri": "https://localhost:8080/"
        },
        "id": "WKwBEiuXRAbd",
        "outputId": "54985fd4-69e5-4516-b129-3759aac0a9dd"
      },
      "execution_count": 30,
      "outputs": [
        {
          "output_type": "stream",
          "name": "stdout",
          "text": [
            "Original DataFrame:\n",
            "        name  score  attempts qualify\n",
            "0  Anastasia   12.5         1     yes\n",
            "1       Dima    9.0         3      no\n",
            "2  Katherine   16.5         2     yes\n",
            "3      James    NaN         3      no\n",
            "4      Emily    9.0         2      no\n",
            "5    Michael   20.0         3     yes\n",
            "6    Matthew   14.5         1     yes\n",
            "7      Laura    NaN         1      no\n",
            "8      Kevin    8.0         2      no\n",
            "9      Jonas   19.0         1     yes\n",
            "\n",
            "Sort the above DataFrame based on attempts, name:\n",
            "        name  score  attempts qualify\n",
            "0  Anastasia   12.5         1     yes\n",
            "9      Jonas   19.0         1     yes\n",
            "7      Laura    NaN         1      no\n",
            "6    Matthew   14.5         1     yes\n",
            "4      Emily    9.0         2      no\n",
            "2  Katherine   16.5         2     yes\n",
            "8      Kevin    8.0         2      no\n",
            "1       Dima    9.0         3      no\n",
            "3      James    NaN         3      no\n",
            "5    Michael   20.0         3     yes\n"
          ]
        }
      ]
    },
    {
      "cell_type": "code",
      "source": [
        "# Exercise 50\n",
        "# Write a Pandas program to convert the datatype of a given column(float to ints)\n",
        "\n",
        "import pandas as pd\n",
        "import numpy as np\n",
        "exam_data = {'name': ['Anastasia', 'Dima', 'Katherine', 'James', 'Emily', 'Michael', 'Matthew', 'Laura', 'Kevin', 'Jonas'],\n",
        "        'score': [12.5, 9.1, 16.5, 12.77, 9.21, 20.22, 14.5, 11.34, 8.8, 19.13],\n",
        "        'attempts': [1, 3, 2, 3, 2, 3, 1, 1, 2, 1],\n",
        "        'qualify': ['yes', 'no', 'yes', 'no', 'no', 'yes', 'yes', 'no', 'no', 'yes']}\n",
        "df = pd.DataFrame(exam_data)\n",
        "print(\"Original DataFrame:\")\n",
        "print(df)\n",
        "print(\"\\nData types of the columns of the said DataFrame:\")\n",
        "print(df.dtypes)\n",
        "print(\"\\nNow change the Data type of 'score' column from float to int:\")\n",
        "df.score = df.score.astype(int)\n",
        "print(df)\n",
        "print(\"\\nData types of the columns of the DataFrame now:\")\n",
        "print(df.dtypes)\n"
      ],
      "metadata": {
        "colab": {
          "base_uri": "https://localhost:8080/"
        },
        "id": "CLGxOxvPSruc",
        "outputId": "eb7f43c6-4dbc-444c-c02c-0472487eb47e"
      },
      "execution_count": 31,
      "outputs": [
        {
          "output_type": "stream",
          "name": "stdout",
          "text": [
            "Original DataFrame:\n",
            "        name  score  attempts qualify\n",
            "0  Anastasia  12.50         1     yes\n",
            "1       Dima   9.10         3      no\n",
            "2  Katherine  16.50         2     yes\n",
            "3      James  12.77         3      no\n",
            "4      Emily   9.21         2      no\n",
            "5    Michael  20.22         3     yes\n",
            "6    Matthew  14.50         1     yes\n",
            "7      Laura  11.34         1      no\n",
            "8      Kevin   8.80         2      no\n",
            "9      Jonas  19.13         1     yes\n",
            "\n",
            "Data types of the columns of the said DataFrame:\n",
            "name         object\n",
            "score       float64\n",
            "attempts      int64\n",
            "qualify      object\n",
            "dtype: object\n",
            "\n",
            "Now change the Data type of 'score' column from float to int:\n",
            "        name  score  attempts qualify\n",
            "0  Anastasia     12         1     yes\n",
            "1       Dima      9         3      no\n",
            "2  Katherine     16         2     yes\n",
            "3      James     12         3      no\n",
            "4      Emily      9         2      no\n",
            "5    Michael     20         3     yes\n",
            "6    Matthew     14         1     yes\n",
            "7      Laura     11         1      no\n",
            "8      Kevin      8         2      no\n",
            "9      Jonas     19         1     yes\n",
            "\n",
            "Data types of the columns of the DataFrame now:\n",
            "name        object\n",
            "score        int64\n",
            "attempts     int64\n",
            "qualify     object\n",
            "dtype: object\n"
          ]
        }
      ]
    },
    {
      "cell_type": "code",
      "source": [
        "# Exercise 51\n",
        "# Write a Pandas program to remove infinite values from a given DataFrame\n",
        "\n",
        "import pandas as pd\n",
        "import numpy as np\n",
        "df = pd.DataFrame([1000, 2000, 3000, -4000, np.inf, -np.inf, np.nan])\n",
        "print(\"Original DataFrame:\")\n",
        "print(df)\n",
        "df = df.replace([np.inf, -np.inf], np.nan)\n",
        "print(\"Removing infinite values:\")\n",
        "print(df)"
      ],
      "metadata": {
        "colab": {
          "base_uri": "https://localhost:8080/"
        },
        "id": "sygTbPOAVAZe",
        "outputId": "83a2a344-35b2-45e2-eeb5-dc4ebb1db31a"
      },
      "execution_count": 33,
      "outputs": [
        {
          "output_type": "stream",
          "name": "stdout",
          "text": [
            "Original DataFrame:\n",
            "        0\n",
            "0  1000.0\n",
            "1  2000.0\n",
            "2  3000.0\n",
            "3 -4000.0\n",
            "4     inf\n",
            "5    -inf\n",
            "6     NaN\n",
            "Removing infinite values:\n",
            "        0\n",
            "0  1000.0\n",
            "1  2000.0\n",
            "2  3000.0\n",
            "3 -4000.0\n",
            "4     NaN\n",
            "5     NaN\n",
            "6     NaN\n"
          ]
        }
      ]
    },
    {
      "cell_type": "code",
      "source": [
        "# Exercise 52\n",
        "# Write a Pandas program to insert a given column at a specific column index in a DataFrame\n",
        "\n",
        "import pandas as pd\n",
        "d = {'col2': [4, 5, 6, 9, 5], 'col3': [7, 8, 12, 1, 11]}\n",
        "df = pd.DataFrame(data=d)\n",
        "print(\"Original DataFrame\")\n",
        "print(df)\n",
        "new_col = [1, 2, 3, 4, 7]\n",
        "# insert the said column at the beginning in the DataFrame\n",
        "idx = 0\n",
        "df.insert(loc=idx, column='col1', value=new_col)\n",
        "print(\"\\nNew DataFrame\")\n",
        "print(df)"
      ],
      "metadata": {
        "colab": {
          "base_uri": "https://localhost:8080/"
        },
        "id": "9HIne6RIWKuG",
        "outputId": "19709fc0-3857-40af-81b3-747525e6d570"
      },
      "execution_count": 34,
      "outputs": [
        {
          "output_type": "stream",
          "name": "stdout",
          "text": [
            "Original DataFrame\n",
            "   col2  col3\n",
            "0     4     7\n",
            "1     5     8\n",
            "2     6    12\n",
            "3     9     1\n",
            "4     5    11\n",
            "\n",
            "New DataFrame\n",
            "   col1  col2  col3\n",
            "0     1     4     7\n",
            "1     2     5     8\n",
            "2     3     6    12\n",
            "3     4     9     1\n",
            "4     7     5    11\n"
          ]
        }
      ]
    },
    {
      "cell_type": "code",
      "source": [
        "# Exercise 53\n",
        "# Write a Pandas program to convert a given list of lists into a Dataframe.\n",
        "\n",
        "import pandas as pd\n",
        "my_lists = [['col1', 'col2'], [2, 4], [1, 3]]\n",
        "# sets the headers as list\n",
        "headers = my_lists.pop(0)\n",
        "print(\"Original list of lists:\")\n",
        "print(my_lists)\n",
        "df = pd.DataFrame(my_lists, columns = headers)\n",
        "print(\"New DataFrame\")\n",
        "print(df)\n",
        "\n"
      ],
      "metadata": {
        "colab": {
          "base_uri": "https://localhost:8080/"
        },
        "id": "ocfL5ZD9Xy8J",
        "outputId": "4bbfce2b-271f-47c4-96c9-92b190d84798"
      },
      "execution_count": 35,
      "outputs": [
        {
          "output_type": "stream",
          "name": "stdout",
          "text": [
            "Original list of lists:\n",
            "[[2, 4], [1, 3]]\n",
            "New DataFrame\n",
            "   col1  col2\n",
            "0     2     4\n",
            "1     1     3\n"
          ]
        }
      ]
    },
    {
      "cell_type": "code",
      "source": [
        "# Exercise 54\n",
        "# Write a Pandas program to group by the first column and get second column as lists in rows.\n",
        "\n",
        "import pandas as pd\n",
        "df = pd.DataFrame( {'col1':['C1','C1','C2','C2','C2','C3','C2'], 'col2':[1,2,3,3,4,6,5]})\n",
        "print(\"Original DataFrame\")\n",
        "print(df)\n",
        "df = df.groupby('col1')['col2'].apply(list)\n",
        "print(\"\\nGroup on the col1:\")\n",
        "print(df)"
      ],
      "metadata": {
        "colab": {
          "base_uri": "https://localhost:8080/"
        },
        "id": "C-wOZoRcYGXR",
        "outputId": "b6dda0b3-3f0a-43d9-9c99-bf3ff5a74822"
      },
      "execution_count": 37,
      "outputs": [
        {
          "output_type": "stream",
          "name": "stdout",
          "text": [
            "Original DataFrame\n",
            "  col1  col2\n",
            "0   C1     1\n",
            "1   C1     2\n",
            "2   C2     3\n",
            "3   C2     3\n",
            "4   C2     4\n",
            "5   C3     6\n",
            "6   C2     5\n",
            "\n",
            "Group on the col1:\n",
            "col1\n",
            "C1          [1, 2]\n",
            "C2    [3, 3, 4, 5]\n",
            "C3             [6]\n",
            "Name: col2, dtype: object\n"
          ]
        }
      ]
    },
    {
      "cell_type": "code",
      "source": [
        "# Exercise 55\n",
        "# Write a Pandas program to get column index from column name of a given DataFrame.\n",
        "\n",
        "import pandas as pd\n",
        "d = {'col1': [1, 2, 3, 4, 7], 'col2': [4, 5, 6, 9, 5], 'col3': [7, 8, 12, 1, 11]}\n",
        "df = pd.DataFrame(d)\n",
        "print(\"Original DataFrame\")\n",
        "print(df)\n",
        "print(\"\\nIndex of 'col2'\")\n",
        "print(df.columns.get_loc('col2'))"
      ],
      "metadata": {
        "colab": {
          "base_uri": "https://localhost:8080/"
        },
        "id": "MPzpHhdaaCdY",
        "outputId": "6fba0787-4513-4810-f6a7-7ce2190f4c6b"
      },
      "execution_count": 39,
      "outputs": [
        {
          "output_type": "stream",
          "name": "stdout",
          "text": [
            "Original DataFrame\n",
            "   col1  col2  col3\n",
            "0     1     4     7\n",
            "1     2     5     8\n",
            "2     3     6    12\n",
            "3     4     9     1\n",
            "4     7     5    11\n",
            "\n",
            "Index of 'col2'\n",
            "1\n"
          ]
        }
      ]
    },
    {
      "cell_type": "code",
      "source": [
        "# Exercise 56\n",
        "# Write a Pandas program to count number of columns of a DataFrame.\n",
        "\n",
        "import pandas as pd\n",
        "d = {'col1': [1, 2, 3, 4, 7], 'col2': [4, 5, 6, 9, 5], 'col3': [7, 8, 12, 1, 11]}\n",
        "df = pd.DataFrame(d)\n",
        "print(\"Original DataFrame\")\n",
        "print(df)\n",
        "print(\"\\nNumber of columns:\")\n",
        "print(len(df.columns))"
      ],
      "metadata": {
        "colab": {
          "base_uri": "https://localhost:8080/"
        },
        "id": "TsBueFZ2a1vW",
        "outputId": "a2f756d4-01f4-4c92-870e-7a7d835c0c2f"
      },
      "execution_count": 41,
      "outputs": [
        {
          "output_type": "stream",
          "name": "stdout",
          "text": [
            "Original DataFrame\n",
            "   col1  col2  col3\n",
            "0     1     4     7\n",
            "1     2     5     8\n",
            "2     3     6    12\n",
            "3     4     9     1\n",
            "4     7     5    11\n",
            "\n",
            "Number of columns:\n",
            "3\n"
          ]
        }
      ]
    },
    {
      "cell_type": "code",
      "source": [
        "# Exercise 57\n",
        "# Write a Pandas program to select all columns, except one given column in a DataFrame.\n",
        "\n",
        "import pandas as pd\n",
        "d = {'col1': [1, 2, 3, 4, 7], 'col2': [4, 5, 6, 9, 5], 'col3': [7, 8, 12, 1, 11]}\n",
        "df = pd.DataFrame(data=d)\n",
        "print(\"Original DataFrame\")\n",
        "print(df)\n",
        "print(\"\\nAll columns except 'col3':\")\n",
        "df = df.loc[:, df.columns != 'col3']\n",
        "print(df)"
      ],
      "metadata": {
        "colab": {
          "base_uri": "https://localhost:8080/"
        },
        "id": "sBuZ1UXucRu0",
        "outputId": "eaf26163-9197-49d0-ea94-eab0e89c8d7d"
      },
      "execution_count": 42,
      "outputs": [
        {
          "output_type": "stream",
          "name": "stdout",
          "text": [
            "Original DataFrame\n",
            "   col1  col2  col3\n",
            "0     1     4     7\n",
            "1     2     5     8\n",
            "2     3     6    12\n",
            "3     4     9     1\n",
            "4     7     5    11\n",
            "\n",
            "All columns except 'col3':\n",
            "   col1  col2\n",
            "0     1     4\n",
            "1     2     5\n",
            "2     3     6\n",
            "3     4     9\n",
            "4     7     5\n"
          ]
        }
      ]
    },
    {
      "cell_type": "code",
      "source": [
        "# Exercise 58\n",
        "# Write a Pandas program to get first n rows of a DataFrame.\n",
        "\n",
        "import pandas as pd\n",
        "d = {'col1': [1, 2, 3, 4, 7, 11], 'col2': [4, 5, 6, 9, 5, 0], 'col3': [7, 5, 8, 12, 1,11]}\n",
        "df = pd.DataFrame(data = d)\n",
        "print(\"Original DataFrame\")\n",
        "print(df)\n",
        "print(\"\\nFirst three rows of the said DataFrame':\")\n",
        "df1 = df.head(3)\n",
        "print(df1)"
      ],
      "metadata": {
        "colab": {
          "base_uri": "https://localhost:8080/"
        },
        "id": "rvAxTwItceib",
        "outputId": "f742fcf8-52c2-4aa1-c43d-93a1660ac65b"
      },
      "execution_count": 43,
      "outputs": [
        {
          "output_type": "stream",
          "name": "stdout",
          "text": [
            "Original DataFrame\n",
            "   col1  col2  col3\n",
            "0     1     4     7\n",
            "1     2     5     5\n",
            "2     3     6     8\n",
            "3     4     9    12\n",
            "4     7     5     1\n",
            "5    11     0    11\n",
            "\n",
            "First three rows of the said DataFrame':\n",
            "   col1  col2  col3\n",
            "0     1     4     7\n",
            "1     2     5     5\n",
            "2     3     6     8\n"
          ]
        }
      ]
    },
    {
      "cell_type": "code",
      "source": [
        "# Exercise 59\n",
        "# Write a Pandas program to get last n rows of a DataFrame.\n",
        "\n",
        "import pandas as pd\n",
        "d = {'col1': [1, 2, 3, 4, 7, 11], 'col2': [4, 5, 6, 9, 5, 0], 'col3': [7, 5, 8, 12, 1,11]}\n",
        "df = pd.DataFrame(data = d)\n",
        "print(\"Original DataFrame\")\n",
        "print(df)\n",
        "print(\"\\nLast three rows of the said DataFrame':\")\n",
        "df1 = df.tail(3)\n",
        "print(df1)"
      ],
      "metadata": {
        "colab": {
          "base_uri": "https://localhost:8080/"
        },
        "id": "VHtF92k4dRpo",
        "outputId": "32420fd9-28b3-4387-f64c-d8c4b957ef19"
      },
      "execution_count": 44,
      "outputs": [
        {
          "output_type": "stream",
          "name": "stdout",
          "text": [
            "Original DataFrame\n",
            "   col1  col2  col3\n",
            "0     1     4     7\n",
            "1     2     5     5\n",
            "2     3     6     8\n",
            "3     4     9    12\n",
            "4     7     5     1\n",
            "5    11     0    11\n",
            "\n",
            "Last three rows of the said DataFrame':\n",
            "   col1  col2  col3\n",
            "3     4     9    12\n",
            "4     7     5     1\n",
            "5    11     0    11\n"
          ]
        }
      ]
    },
    {
      "cell_type": "code",
      "source": [
        "# Exercise 60\n",
        "# Write a Pandas program to remove first n rows of a given DataFrame\n",
        "\n",
        "import pandas as pd\n",
        "d = {'col1': [1, 2, 3, 4, 7, 11], 'col2': [4, 5, 6, 9, 5, 0], 'col3': [7, 5, 8, 12, 1,11]}\n",
        "df = pd.DataFrame(data=d)\n",
        "print(\"Original DataFrame\")\n",
        "print(df)\n",
        "print(\"\\nAfter removing first 3 rows of the said DataFrame:\")\n",
        "df1 = df.iloc[3:]\n",
        "print(df1)"
      ],
      "metadata": {
        "colab": {
          "base_uri": "https://localhost:8080/"
        },
        "id": "A8fLGaKmeCOG",
        "outputId": "25ebc46a-e400-4367-9844-ef97f9c368a1"
      },
      "execution_count": 45,
      "outputs": [
        {
          "output_type": "stream",
          "name": "stdout",
          "text": [
            "Original DataFrame\n",
            "   col1  col2  col3\n",
            "0     1     4     7\n",
            "1     2     5     5\n",
            "2     3     6     8\n",
            "3     4     9    12\n",
            "4     7     5     1\n",
            "5    11     0    11\n",
            "\n",
            "After removing first 3 rows of the said DataFrame:\n",
            "   col1  col2  col3\n",
            "3     4     9    12\n",
            "4     7     5     1\n",
            "5    11     0    11\n"
          ]
        }
      ]
    }
  ]
}