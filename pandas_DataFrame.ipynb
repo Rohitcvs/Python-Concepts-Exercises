{
  "nbformat": 4,
  "nbformat_minor": 0,
  "metadata": {
    "colab": {
      "provenance": [],
      "authorship_tag": "ABX9TyMcwI41hMg8xTj5e51apBva",
      "include_colab_link": true
    },
    "kernelspec": {
      "name": "python3",
      "display_name": "Python 3"
    },
    "language_info": {
      "name": "python"
    }
  },
  "cells": [
    {
      "cell_type": "markdown",
      "metadata": {
        "id": "view-in-github",
        "colab_type": "text"
      },
      "source": [
        "<a href=\"https://colab.research.google.com/github/Rohitcvs/Python-Concepts-Exercises/blob/main/pandas_DataFrame.ipynb\" target=\"_parent\"><img src=\"https://colab.research.google.com/assets/colab-badge.svg\" alt=\"Open In Colab\"/></a>"
      ]
    },
    {
      "cell_type": "code",
      "execution_count": null,
      "metadata": {
        "colab": {
          "base_uri": "https://localhost:8080/"
        },
        "id": "VHHWpLadKoDV",
        "outputId": "3db524cc-37b8-4490-8908-16ebeaffebab"
      },
      "outputs": [
        {
          "output_type": "stream",
          "name": "stdout",
          "text": [
            "    X   Y   Z\n",
            "0  78  84  86\n",
            "1  85  94  97\n",
            "2  96  89  96\n",
            "3  80  83  72\n",
            "4  86  86  83\n"
          ]
        }
      ],
      "source": [
        "# Exercise 1\n",
        "# Write a Pandas program to create a dataframe from a dictionary and display it\n",
        "# Sample data: {'X':[78,85,96,80,86],'Y':[84,94,89,83,86],'Z':[86,97,96,72,83]}\n",
        "\n",
        "import pandas as pd\n",
        "df = pd.DataFrame({'X':[78,85,96,80,86],'Y':[84,94,89,83,86],'Z':[86,97,96,72,83]})\n",
        "print(df)"
      ]
    },
    {
      "cell_type": "code",
      "source": [
        "# Exercise 2\n",
        "# Write a Pandas program to create and display a DataFrame from a specified dictionary data\n",
        "# which has the index labels\n",
        "\n",
        "import pandas as pd\n",
        "import numpy as np\n",
        "\n",
        "exam_data = {'name':['Anastasia','Dima','Katherine','James','Emily','Michael','Matthew','Laura','Kevin','Jonas'],\n",
        "             'score': [12.5, 9, 16.5, np.nan, 9, 20, 14.5, np.nan, 8, 19],\n",
        "             'attempts': [1, 3, 2, 3, 2, 3, 1, 1, 2, 1],\n",
        "             'qualify': ['yes', 'no', 'yes', 'no', 'no', 'yes', 'yes', 'no', 'no', 'yes']}\n",
        "labels = ['a', 'b', 'c', 'd', 'e', 'f', 'g', 'h', 'i', 'j']\n",
        "df = pd.DataFrame(exam_data, index = labels)\n",
        "print(df)"
      ],
      "metadata": {
        "colab": {
          "base_uri": "https://localhost:8080/"
        },
        "id": "nD59hZW-L29Z",
        "outputId": "5d96cdc3-c09e-44ed-af34-cd2ef4e1189d"
      },
      "execution_count": null,
      "outputs": [
        {
          "output_type": "stream",
          "name": "stdout",
          "text": [
            "        name  score  attempts qualify\n",
            "a  Anastasia   12.5         1     yes\n",
            "b       Dima    9.0         3      no\n",
            "c  Katherine   16.5         2     yes\n",
            "d      James    NaN         3      no\n",
            "e      Emily    9.0         2      no\n",
            "f    Michael   20.0         3     yes\n",
            "g    Matthew   14.5         1     yes\n",
            "h      Laura    NaN         1      no\n",
            "i      Kevin    8.0         2      no\n",
            "j      Jonas   19.0         1     yes\n"
          ]
        }
      ]
    },
    {
      "cell_type": "code",
      "source": [
        "# Exercise 3\n",
        "# Write a Pandas program to display a summary of the basic information about a specified\n",
        "# DataFrame and its data\n",
        "\n",
        "import pandas as pd\n",
        "import numpy as np\n",
        "\n",
        "exam_data = {'name': ['Anastasia', 'Dima', 'Katherine', 'James', 'Emily', 'Michael', 'Matthew', 'Laura', 'Kevin', 'Jonas'],\n",
        "             'score': [12.5, 9, 16.5, np.nan, 9, 20, 14.5, np.nan, 8, 19],\n",
        "             'attempts': [1, 3, 2, 3, 2, 3, 1, 1, 2, 1],\n",
        "             'qualify': ['yes', 'no', 'yes', 'no', 'no', 'yes', 'yes', 'no', 'no', 'yes']}\n",
        "labels = ['a', 'b', 'c', 'd', 'e', 'f', 'g', 'h', 'i', 'j']\n",
        "df = pd.DataFrame(exam_data, index = labels)\n",
        "print(df.info())"
      ],
      "metadata": {
        "colab": {
          "base_uri": "https://localhost:8080/"
        },
        "id": "GgvUpT_PObSB",
        "outputId": "2b1b413f-4b16-4f97-a0a0-f6cef478d62e"
      },
      "execution_count": null,
      "outputs": [
        {
          "output_type": "stream",
          "name": "stdout",
          "text": [
            "<class 'pandas.core.frame.DataFrame'>\n",
            "Index: 10 entries, a to j\n",
            "Data columns (total 4 columns):\n",
            " #   Column    Non-Null Count  Dtype  \n",
            "---  ------    --------------  -----  \n",
            " 0   name      10 non-null     object \n",
            " 1   score     8 non-null      float64\n",
            " 2   attempts  10 non-null     int64  \n",
            " 3   qualify   10 non-null     object \n",
            "dtypes: float64(1), int64(1), object(2)\n",
            "memory usage: 400.0+ bytes\n",
            "None\n"
          ]
        }
      ]
    },
    {
      "cell_type": "code",
      "source": [
        "# Exercise 4\n",
        "# Write a Pandas program to get the first 3 rows of a given DataFrame.\n",
        "\n",
        "import pandas as pd\n",
        "import numpy as np\n",
        "\n",
        "exam_data = {'name': ['Anastasia', 'Dima', 'Katherine', 'James', 'Emily', 'Michael', 'Matthew', 'Laura', 'Kevin', 'Jonas'],\n",
        "             'score': [12.5, 9, 16.5, np.nan, 9, 20, 14.5, np.nan, 8, 19],\n",
        "             'attempts': [1, 3, 2, 3, 2, 3, 1, 1, 2, 1],\n",
        "             'qualify': ['yes', 'no', 'yes', 'no', 'no', 'yes', 'yes', 'no', 'no', 'yes']}\n",
        "labels = ['a', 'b', 'c', 'd', 'e', 'f', 'g', 'h', 'i', 'j']\n",
        "df = pd.DataFrame(exam_data, index = labels)\n",
        "df1 = df.head(3)\n",
        "print(\"First three rows of the data frame:\")\n",
        "print(df1)"
      ],
      "metadata": {
        "colab": {
          "base_uri": "https://localhost:8080/"
        },
        "id": "Jom5s3enSEgm",
        "outputId": "445d373b-287a-4622-801b-f1b7a55f9f09"
      },
      "execution_count": null,
      "outputs": [
        {
          "output_type": "stream",
          "name": "stdout",
          "text": [
            "First three rows of the data frame:\n",
            "        name  score  attempts qualify\n",
            "a  Anastasia   12.5         1     yes\n",
            "b       Dima    9.0         3      no\n",
            "c  Katherine   16.5         2     yes\n"
          ]
        }
      ]
    },
    {
      "cell_type": "code",
      "source": [
        "# Exercise 5\n",
        "# Write a Pandas program to select the 'name' and 'score' columns from the following DataFrame.\n",
        "\n",
        "import pandas as pd\n",
        "import numpy as np\n",
        "\n",
        "exam_data = {'name': ['Anastasia', 'Dima', 'Katherine', 'James', 'Emily', 'Michael', 'Matthew', 'Laura', 'Kevin', 'Jonas'],\n",
        "'score': [12.5, 9, 16.5, np.nan, 9, 20, 14.5, np.nan, 8, 19],\n",
        "'attempts': [1, 3, 2, 3, 2, 3, 1, 1, 2, 1],\n",
        "'qualify': ['yes', 'no', 'yes', 'no', 'no', 'yes', 'yes', 'no', 'no', 'yes']}\n",
        "\n",
        "labels = ['a', 'b', 'c', 'd', 'e', 'f', 'g', 'h', 'i', 'j']\n",
        "\n",
        "print(\"Select specific columns:\")\n",
        "print(df[['name', 'score']])\n",
        "\n",
        "\n"
      ],
      "metadata": {
        "colab": {
          "base_uri": "https://localhost:8080/"
        },
        "id": "9GQ0fqpwUFcn",
        "outputId": "3e62e6c0-5427-45b5-c202-0980626ea33a"
      },
      "execution_count": null,
      "outputs": [
        {
          "output_type": "stream",
          "name": "stdout",
          "text": [
            "Select specific columns:\n",
            "        name  score\n",
            "a  Anastasia   12.5\n",
            "b       Dima    9.0\n",
            "c  Katherine   16.5\n",
            "d      James    NaN\n",
            "e      Emily    9.0\n",
            "f    Michael   20.0\n",
            "g    Matthew   14.5\n",
            "h      Laura    NaN\n",
            "i      Kevin    8.0\n",
            "j      Jonas   19.0\n"
          ]
        }
      ]
    },
    {
      "cell_type": "code",
      "source": [
        "# Exercise 6\n",
        "# Write a Pandas program to select the specified columns and rows from a given DataFrame\n",
        "# Select 'name' and 'score' columsns in rows 1, 3, 5, 6 from the following data frame.\n",
        "\n",
        "import pandas as pd\n",
        "import numpy as np\n",
        "\n",
        "exam_data  = {'name': ['Anastasia', 'Dima', 'Katherine', 'James', 'Emily', 'Michael', 'Matthew', 'Laura', 'Kevin', 'Jonas'],\n",
        "        'score': [12.5, 9, 16.5, np.nan, 9, 20, 14.5, np.nan, 8, 19],\n",
        "        'attempts': [1, 3, 2, 3, 2, 3, 1, 1, 2, 1],\n",
        "        'qualify': ['yes', 'no', 'yes', 'no', 'no', 'yes', 'yes', 'no', 'no', 'yes']}\n",
        "labels = ['a', 'b', 'c', 'd', 'e', 'f', 'g', 'h', 'i', 'j']\n",
        "\n",
        "df = pd.DataFrame(exam_data, index = labels)\n",
        "print(\"Select specific columns and rows:\")\n",
        "#print(df.iloc[[1, 3, 5, 6], [0, 1]])\n",
        "print(df.loc[['a', 'c', 'e', 'f'], ['name', 'score']])\n"
      ],
      "metadata": {
        "colab": {
          "base_uri": "https://localhost:8080/"
        },
        "id": "jbG8qrwJWCpZ",
        "outputId": "7cc9fbb2-a0e1-4807-d880-f3007e6caa9b"
      },
      "execution_count": null,
      "outputs": [
        {
          "output_type": "stream",
          "name": "stdout",
          "text": [
            "Select specific columns and rows:\n",
            "        name  score\n",
            "a  Anastasia   12.5\n",
            "c  Katherine   16.5\n",
            "e      Emily    9.0\n",
            "f    Michael   20.0\n"
          ]
        }
      ]
    },
    {
      "cell_type": "code",
      "source": [
        "# Exercise 7\n",
        "# Write a Pandas program to select the rows where the number of attempts in the examination\n",
        "# is greater than 2\n",
        "\n",
        "import numpy as np\n",
        "import pandas as pd\n",
        "\n",
        "exam_data  = {'name': ['Anastasia', 'Dima', 'Katherine', 'James', 'Emily', 'Michael', 'Matthew', 'Laura', 'Kevin', 'Jonas'],\n",
        "        'score': [12.5, 9, 16.5, np.nan, 9, 20, 14.5, np.nan, 8, 19],\n",
        "        'attempts' : [1, 3, 2, 3, 2, 3, 1, 1, 2, 1],\n",
        "        'qualify': ['yes', 'no', 'yes', 'no', 'no', 'yes', 'yes', 'no', 'no', 'yes']}\n",
        "labels = ['a', 'b', 'c', 'd', 'e', 'f', 'g', 'h', 'i', 'j']\n",
        "\n",
        "df = pd.DataFrame(exam_data, index = labels)\n",
        "print(\"Number of attempts in the examination greater than 2:\")\n",
        "print(df[df['attempts'] > 2])\n",
        "print(df['attempts'] > 2)\n",
        "\n",
        "\n",
        "\n"
      ],
      "metadata": {
        "colab": {
          "base_uri": "https://localhost:8080/"
        },
        "id": "EOu57NPgXDRC",
        "outputId": "4fa2a6df-4eac-41bc-a199-77bb30a1b47f"
      },
      "execution_count": null,
      "outputs": [
        {
          "output_type": "stream",
          "name": "stdout",
          "text": [
            "Number of attempts in the examination greater than 2:\n",
            "      name  score  attempts qualify\n",
            "b     Dima    9.0         3      no\n",
            "d    James    NaN         3      no\n",
            "f  Michael   20.0         3     yes\n",
            "a    False\n",
            "b     True\n",
            "c    False\n",
            "d     True\n",
            "e    False\n",
            "f     True\n",
            "g    False\n",
            "h    False\n",
            "i    False\n",
            "j    False\n",
            "Name: attempts, dtype: bool\n"
          ]
        }
      ]
    },
    {
      "cell_type": "code",
      "source": [
        "# Exercise 8\n",
        "# Write a Pandas program to count the number of rows and columns of a DataFrame.\n",
        "\n",
        "import pandas as pd\n",
        "import numpy as np\n",
        "exam_data  = {'name': ['Anastasia', 'Dima', 'Katherine', 'James', 'Emily', 'Michael', 'Matthew', 'Laura', 'Kevin', 'Jonas'],\n",
        "        'score': [12.5, 9, 16.5, np.nan, 9, 20, 14.5, np.nan, 8, 19],\n",
        "        'attempts': [1, 3, 2, 3, 2, 3, 1, 1, 2, 1],\n",
        "        'qualify': ['yes', 'no', 'yes', 'no', 'no', 'yes', 'yes', 'no', 'no', 'yes']}\n",
        "labels = ['a', 'b', 'c', 'd', 'e', 'f', 'g', 'h', 'i', 'j']\n",
        "df = pd.DataFrame(exam_data, index = labels)\n",
        "total_rows = len(df.axes[0])\n",
        "total_columns = len(df.axes[1])\n",
        "print(\"Number of Rows: \" + str(total_rows))\n",
        "print(\"Number of Columns: \" + str(total_columns))\n",
        "df.shape\n",
        "\n",
        "\n",
        "\n"
      ],
      "metadata": {
        "colab": {
          "base_uri": "https://localhost:8080/"
        },
        "id": "V4E0s53TYLbd",
        "outputId": "3cf5bfc2-8273-4794-9310-09c50ab2f631"
      },
      "execution_count": null,
      "outputs": [
        {
          "output_type": "stream",
          "name": "stdout",
          "text": [
            "Number of Rows: 10\n",
            "Number of Columns: 4\n"
          ]
        },
        {
          "output_type": "execute_result",
          "data": {
            "text/plain": [
              "(10, 4)"
            ]
          },
          "metadata": {},
          "execution_count": 8
        }
      ]
    },
    {
      "cell_type": "code",
      "source": [
        "df.index"
      ],
      "metadata": {
        "colab": {
          "base_uri": "https://localhost:8080/"
        },
        "id": "M-WHpaurRt7Q",
        "outputId": "084ac880-d764-41dc-ea3e-d8a0cb5c25f3"
      },
      "execution_count": null,
      "outputs": [
        {
          "output_type": "execute_result",
          "data": {
            "text/plain": [
              "Index(['a', 'b', 'c', 'd', 'e', 'f', 'g', 'h', 'i', 'j'], dtype='object')"
            ]
          },
          "metadata": {},
          "execution_count": 15
        }
      ]
    },
    {
      "cell_type": "code",
      "source": [
        "len(df.index)"
      ],
      "metadata": {
        "colab": {
          "base_uri": "https://localhost:8080/"
        },
        "id": "8j4qXFdURyUT",
        "outputId": "a8fde87a-0687-4ac8-d3c7-82a55fc8a40b"
      },
      "execution_count": null,
      "outputs": [
        {
          "output_type": "execute_result",
          "data": {
            "text/plain": [
              "10"
            ]
          },
          "metadata": {},
          "execution_count": 16
        }
      ]
    },
    {
      "cell_type": "code",
      "source": [
        "df.columns"
      ],
      "metadata": {
        "colab": {
          "base_uri": "https://localhost:8080/"
        },
        "id": "my_ald3hR6HK",
        "outputId": "34311587-6482-40f3-8adb-a63accbca31b"
      },
      "execution_count": null,
      "outputs": [
        {
          "output_type": "execute_result",
          "data": {
            "text/plain": [
              "Index(['name', 'score', 'attempts', 'qualify'], dtype='object')"
            ]
          },
          "metadata": {},
          "execution_count": 17
        }
      ]
    },
    {
      "cell_type": "code",
      "source": [
        "len(df.columns)"
      ],
      "metadata": {
        "colab": {
          "base_uri": "https://localhost:8080/"
        },
        "id": "ecUiC2OuR6PR",
        "outputId": "6a9220e3-1b04-4f8f-ad66-60807e554629"
      },
      "execution_count": null,
      "outputs": [
        {
          "output_type": "execute_result",
          "data": {
            "text/plain": [
              "4"
            ]
          },
          "metadata": {},
          "execution_count": 18
        }
      ]
    },
    {
      "cell_type": "code",
      "source": [
        "df.shape[0]"
      ],
      "metadata": {
        "colab": {
          "base_uri": "https://localhost:8080/"
        },
        "id": "nX05CJ4yROZ0",
        "outputId": "7b2bcfce-7e20-4c02-84c9-198a91ee5790"
      },
      "execution_count": null,
      "outputs": [
        {
          "output_type": "execute_result",
          "data": {
            "text/plain": [
              "10"
            ]
          },
          "metadata": {},
          "execution_count": 14
        }
      ]
    },
    {
      "cell_type": "code",
      "source": [
        "a = (10, 4)\n",
        "\n"
      ],
      "metadata": {
        "id": "RZEhRtTaQ1I7"
      },
      "execution_count": null,
      "outputs": []
    },
    {
      "cell_type": "code",
      "source": [
        "print(a)"
      ],
      "metadata": {
        "colab": {
          "base_uri": "https://localhost:8080/"
        },
        "id": "fmPfFIufQ8BV",
        "outputId": "90a4992c-dc17-4e2e-fe49-89c594853d90"
      },
      "execution_count": null,
      "outputs": [
        {
          "output_type": "stream",
          "name": "stdout",
          "text": [
            "(10, 4)\n"
          ]
        }
      ]
    },
    {
      "cell_type": "code",
      "source": [
        "a[0]"
      ],
      "metadata": {
        "colab": {
          "base_uri": "https://localhost:8080/"
        },
        "id": "NjhkkxeiRD-8",
        "outputId": "8ef58250-3545-49ee-d7a8-ed9491490268"
      },
      "execution_count": null,
      "outputs": [
        {
          "output_type": "execute_result",
          "data": {
            "text/plain": [
              "10"
            ]
          },
          "metadata": {},
          "execution_count": 12
        }
      ]
    },
    {
      "cell_type": "code",
      "source": [
        "# Exercise 9\n",
        "# Write a Pandas program to select the rows where the score is missing, i.e is NaN.\n",
        "\n",
        "import pandas as pd\n",
        "import numpy as np\n",
        "exam_data  = {'name': ['Anastasia', 'Dima', 'Katherine', 'James', 'Emily', 'Michael', 'Matthew', 'Laura', 'Kevin', 'Jonas'],\n",
        "        'score': [12.5, 9, 16.5, np.nan, 9, 20, 14.5, np.nan, 8, 19],\n",
        "        'attempts': [1, 3, 2, 3, 2, 3, 1, 1, 2, 1],\n",
        "        'qualify': ['yes', 'no', 'yes', 'no', 'no', 'yes', 'yes', 'no', 'no', 'yes']}\n",
        "labels = ['a', 'b', 'c', 'd', 'e', 'f', 'g', 'h', 'i', 'j']\n",
        "\n",
        "df = pd.DataFrame(exam_data, index = labels)\n",
        "print(\"Rows where score is missing:\")\n",
        "print(df[df['score'].isnull()])\n"
      ],
      "metadata": {
        "colab": {
          "base_uri": "https://localhost:8080/"
        },
        "id": "mHKfMG0ZZfjo",
        "outputId": "f7966eb5-4b5a-4eeb-ab1a-03e78a366b8a"
      },
      "execution_count": null,
      "outputs": [
        {
          "output_type": "stream",
          "name": "stdout",
          "text": [
            "Rows where score is missing:\n",
            "    name  score  attempts qualify\n",
            "d  James    NaN         3      no\n",
            "h  Laura    NaN         1      no\n"
          ]
        }
      ]
    },
    {
      "cell_type": "code",
      "source": [
        "# Exercise 10\n",
        "# Write a Pandas program to select the rows where the score is between 15 and 20 (inclusive)\n",
        "\n",
        "import pandas as pd\n",
        "import numpy as np\n",
        "exam_data  = {'name': ['Anastasia', 'Dima', 'Katherine', 'James', 'Emily', 'Michael', 'Matthew', 'Laura', 'Kevin', 'Jonas'],\n",
        "        'score': [12.5, 9, 16.5, np.nan, 9, 20, 14.5, np.nan, 8, 19],\n",
        "        'attempts': [1, 3, 2, 3, 2, 3, 1, 1, 2, 1],\n",
        "        'qualify': ['yes', 'no', 'yes', 'no', 'no', 'yes', 'yes', 'no', 'no', 'yes']}\n",
        "labels = ['a', 'b', 'c', 'd', 'e', 'f', 'g', 'h', 'i', 'j']\n",
        "\n",
        "df = pd.DataFrame(exam_data, index = labels)\n",
        "print(\"Rows where score between 15 and 20 (inclusive):\")\n",
        "print(df[df['score'].between(15, 20)])\n",
        "\n",
        "\n",
        "\n"
      ],
      "metadata": {
        "colab": {
          "base_uri": "https://localhost:8080/"
        },
        "id": "NcPFMfooa9GE",
        "outputId": "638af955-18e8-49a3-a25a-8f398ea7d244"
      },
      "execution_count": null,
      "outputs": [
        {
          "output_type": "stream",
          "name": "stdout",
          "text": [
            "Rows where score between 15 and 20 (inclusive):\n",
            "        name  score  attempts qualify\n",
            "c  Katherine   16.5         2     yes\n",
            "f    Michael   20.0         3     yes\n",
            "j      Jonas   19.0         1     yes\n"
          ]
        }
      ]
    },
    {
      "cell_type": "code",
      "source": [
        "print(df[(df['score'] > 15) & (df['score'] < 21)])"
      ],
      "metadata": {
        "colab": {
          "base_uri": "https://localhost:8080/"
        },
        "id": "Kw3NNVZgS04b",
        "outputId": "f3747d95-9be1-450a-ba67-1c7fa69fecdc"
      },
      "execution_count": null,
      "outputs": [
        {
          "output_type": "stream",
          "name": "stdout",
          "text": [
            "        name  score  attempts qualify\n",
            "c  Katherine   16.5         2     yes\n",
            "f    Michael   20.0         3     yes\n",
            "j      Jonas   19.0         1     yes\n"
          ]
        }
      ]
    },
    {
      "cell_type": "code",
      "source": [
        "# Exercise 11\n",
        "# Write a Pandas program to select the rows where number of attempts in the examination is\n",
        "# less than 2 and score greater than 15\n",
        "\n",
        "import pandas as pd\n",
        "import numpy as np\n",
        "exam_data  = {'name': ['Anastasia', 'Dima', 'Katherine', 'James', 'Emily', 'Michael', 'Matthew', 'Laura', 'Kevin', 'Jonas'],\n",
        "        'score': [12.5, 9, 16.5, np.nan, 9, 20, 14.5, np.nan, 8, 19],\n",
        "        'attempts': [1, 3, 2, 3, 2, 3, 1, 1, 2, 1],\n",
        "        'qualify': ['yes', 'no', 'yes', 'no', 'no', 'yes', 'yes', 'no', 'no', 'yes']}\n",
        "labels = ['a', 'b', 'c', 'd', 'e', 'f', 'g', 'h', 'i', 'j']\n",
        "df = pd.DataFrame(exam_data, index = labels)\n",
        "print(\"Number of attempts in the examination is less than 2 and score greater than 15:\")\n",
        "print(df[(df['attempts'] < 2) & (df['score'] > 15)])\n"
      ],
      "metadata": {
        "colab": {
          "base_uri": "https://localhost:8080/"
        },
        "id": "o86APRBFbqZb",
        "outputId": "54609ba9-fb9d-4f12-cb37-7d64c99481e3"
      },
      "execution_count": null,
      "outputs": [
        {
          "output_type": "stream",
          "name": "stdout",
          "text": [
            "Number of attempts in the examination is less than 2 and score greater than 15:\n",
            "    name  score  attempts qualify\n",
            "j  Jonas   19.0         1     yes\n"
          ]
        }
      ]
    },
    {
      "cell_type": "code",
      "source": [
        "# Exercise 12\n",
        "# Write a Pandas program to change the score in row 'd' to 11.5.\n",
        "\n",
        "import pandas as pd\n",
        "import numpy as np\n",
        "exam_data  = {'name': ['Anastasia', 'Dima', 'Katherine', 'James', 'Emily', 'Michael', 'Matthew', 'Laura', 'Kevin', 'Jonas'],\n",
        "        'score': [12.5, 9, 16.5, np.nan, 9, 20, 14.5, np.nan, 8, 19],\n",
        "        'attempts': [1, 3, 2, 3, 2, 3, 1, 1, 2, 1],\n",
        "        'qualify': ['yes', 'no', 'yes', 'no', 'no', 'yes', 'yes', 'no', 'no', 'yes']}\n",
        "labels = ['a', 'b', 'c', 'd', 'e', 'f', 'g', 'h', 'i', 'j']\n",
        "\n",
        "df = pd.DataFrame(exam_data, index = labels)\n",
        "print(\"\\nOriginal data frame:\")\n",
        "print(df)\n",
        "print(\"\\nChange the score in row 'd' to 11.5:\")\n",
        "df.loc['d', 'score'] = 11.5\n",
        "print(df)\n"
      ],
      "metadata": {
        "colab": {
          "base_uri": "https://localhost:8080/"
        },
        "id": "HrddoXRTcNX9",
        "outputId": "a792dedd-fc9c-4bb5-8b0d-da8fd04cc039"
      },
      "execution_count": null,
      "outputs": [
        {
          "output_type": "stream",
          "name": "stdout",
          "text": [
            "\n",
            "Original data frame:\n",
            "        name  score  attempts qualify\n",
            "a  Anastasia   12.5         1     yes\n",
            "b       Dima    9.0         3      no\n",
            "c  Katherine   16.5         2     yes\n",
            "d      James    NaN         3      no\n",
            "e      Emily    9.0         2      no\n",
            "f    Michael   20.0         3     yes\n",
            "g    Matthew   14.5         1     yes\n",
            "h      Laura    NaN         1      no\n",
            "i      Kevin    8.0         2      no\n",
            "j      Jonas   19.0         1     yes\n",
            "\n",
            "Change the score in row 'd' to 11.5:\n",
            "        name  score  attempts qualify\n",
            "a  Anastasia   12.5         1     yes\n",
            "b       Dima    9.0         3      no\n",
            "c  Katherine   16.5         2     yes\n",
            "d      James   11.5         3      no\n",
            "e      Emily    9.0         2      no\n",
            "f    Michael   20.0         3     yes\n",
            "g    Matthew   14.5         1     yes\n",
            "h      Laura    NaN         1      no\n",
            "i      Kevin    8.0         2      no\n",
            "j      Jonas   19.0         1     yes\n"
          ]
        }
      ]
    },
    {
      "cell_type": "code",
      "source": [
        "# Exercise 13\n",
        "# Write a Pandas program to calculate the sum of the examination attempts by the students.\n",
        "\n",
        "import pandas as pd\n",
        "import numpy as np\n",
        "exam_data  = {'name': ['Anastasia', 'Dima', 'Katherine', 'James', 'Emily', 'Michael', 'Matthew', 'Laura', 'Kevin', 'Jonas'],\n",
        "        'score': [12.5, 9, 16.5, np.nan, 9, 20, 14.5, np.nan, 8, 19],\n",
        "        'attempts': [1, 3, 2, 3, 2, 3, 1, 1, 2, 1],\n",
        "        'qualify': ['yes', 'no', 'yes', 'no', 'no', 'yes', 'yes', 'no', 'no', 'yes']}\n",
        "labels = ['a', 'b', 'c', 'd', 'e', 'f', 'g', 'h', 'i', 'j']\n",
        "\n",
        "df = pd.DataFrame(exam_data, index = labels)\n",
        "print(\"Sum of the examination attempts by the students:\")\n",
        "print(df['attempts'].sum())"
      ],
      "metadata": {
        "colab": {
          "base_uri": "https://localhost:8080/"
        },
        "id": "UxMbsbd2dSGN",
        "outputId": "6e8e4bc7-b87b-4906-c26b-9307b0c92b58"
      },
      "execution_count": null,
      "outputs": [
        {
          "output_type": "stream",
          "name": "stdout",
          "text": [
            "\n",
            "Sum of the examination attempts by the students:\n",
            "19\n"
          ]
        }
      ]
    },
    {
      "cell_type": "code",
      "source": [
        "# Exercise 14\n",
        "# Write a Pandas program to calculate the mean of all students scores. Data is stored in\n",
        "# a dataframe.\n",
        "\n",
        "import pandas as pd\n",
        "import numpy as np\n",
        "exam_data  = {'name': ['Anastasia', 'Dima', 'Katherine', 'James', 'Emily', 'Michael', 'Matthew', 'Laura', 'Kevin', 'Jonas'],\n",
        "        'score': [12.5, 9, 16.5, np.nan, 9, 20, 14.5, np.nan, 8, 19],\n",
        "        'attempts': [1, 3, 2, 3, 2, 3, 1, 1, 2, 1],\n",
        "        'qualify': ['yes', 'no', 'yes', 'no', 'no', 'yes', 'yes', 'no', 'no', 'yes']}\n",
        "labels = ['a', 'b', 'c', 'd', 'e', 'f', 'g', 'h', 'i', 'j']\n",
        "\n",
        "df = pd.DataFrame(exam_data, index = labels)\n",
        "print(\"\\nMean score for each different student in data frame:\")\n",
        "print(df['score'].mean())\n"
      ],
      "metadata": {
        "colab": {
          "base_uri": "https://localhost:8080/"
        },
        "id": "7inEGro7dx8T",
        "outputId": "c748332d-bc7e-4858-ec06-26a5607d0ec3"
      },
      "execution_count": null,
      "outputs": [
        {
          "output_type": "stream",
          "name": "stdout",
          "text": [
            "\n",
            "Mean score for each different student in data frame:\n",
            "13.5625\n"
          ]
        }
      ]
    },
    {
      "cell_type": "code",
      "source": [
        "# Exercise 15\n",
        "# Write a Pandas program to append a new row 'k' to DataFrame with given values for each column.\n",
        "# Now delete the new row and return the original data frame.\n",
        "\n",
        "import pandas as pd\n",
        "import numpy as np\n",
        "exam_data  = {'name': ['Anastasia', 'Dima', 'Katherine', 'James', 'Emily', 'Michael', 'Matthew', 'Laura', 'Kevin', 'Jonas'],\n",
        "        'score': [12.5, 9, 16.5, np.nan, 9, 20, 14.5, np.nan, 8, 19],\n",
        "        'attempts': [1, 3, 2, 3, 2, 3, 1, 1, 2, 1],\n",
        "        'qualify': ['yes', 'no', 'yes', 'no', 'no', 'yes', 'yes', 'no', 'no', 'yes']}\n",
        "labels = ['a', 'b', 'c', 'd', 'e', 'f', 'g', 'h', 'i', 'j']\n",
        "df = pd.DataFrame(exam_data, index = labels)\n",
        "print(\"Original rows:\")\n",
        "print(df)\n",
        "print(\"\\nAppend a new row:\")\n",
        "df.loc['k'] = ['Suresh', 15.5, 1, 'yes']\n",
        "print(\"Print all records after insert a new record:\")\n",
        "print(df)\n",
        "print(\"\\nDelete the new roe and display the original rows:\")\n",
        "df = df.drop('k')\n",
        "print(df)\n"
      ],
      "metadata": {
        "colab": {
          "base_uri": "https://localhost:8080/"
        },
        "id": "VwVeruMmezG_",
        "outputId": "a7ab1aec-6fc9-4f93-fde7-8cb08e09c6ec"
      },
      "execution_count": null,
      "outputs": [
        {
          "output_type": "stream",
          "name": "stdout",
          "text": [
            "Original rows:\n",
            "        name  score  attempts qualify\n",
            "a  Anastasia   12.5         1     yes\n",
            "b       Dima    9.0         3      no\n",
            "c  Katherine   16.5         2     yes\n",
            "d      James    NaN         3      no\n",
            "e      Emily    9.0         2      no\n",
            "f    Michael   20.0         3     yes\n",
            "g    Matthew   14.5         1     yes\n",
            "h      Laura    NaN         1      no\n",
            "i      Kevin    8.0         2      no\n",
            "j      Jonas   19.0         1     yes\n",
            "\n",
            "Append a new row:\n",
            "Print all records after insert a new record:\n",
            "        name  score  attempts qualify\n",
            "a  Anastasia   12.5         1     yes\n",
            "b       Dima    9.0         3      no\n",
            "c  Katherine   16.5         2     yes\n",
            "d      James    NaN         3      no\n",
            "e      Emily    9.0         2      no\n",
            "f    Michael   20.0         3     yes\n",
            "g    Matthew   14.5         1     yes\n",
            "h      Laura    NaN         1      no\n",
            "i      Kevin    8.0         2      no\n",
            "j      Jonas   19.0         1     yes\n",
            "k     Suresh   15.5         1     yes\n",
            "\n",
            "Delete the new roe and display the original rows:\n",
            "        name  score  attempts qualify\n",
            "a  Anastasia   12.5         1     yes\n",
            "b       Dima    9.0         3      no\n",
            "c  Katherine   16.5         2     yes\n",
            "d      James    NaN         3      no\n",
            "e      Emily    9.0         2      no\n",
            "f    Michael   20.0         3     yes\n",
            "g    Matthew   14.5         1     yes\n",
            "h      Laura    NaN         1      no\n",
            "i      Kevin    8.0         2      no\n",
            "j      Jonas   19.0         1     yes\n"
          ]
        }
      ]
    },
    {
      "cell_type": "code",
      "source": [
        "print(df)"
      ],
      "metadata": {
        "colab": {
          "base_uri": "https://localhost:8080/"
        },
        "id": "Ky0WL28JU6YU",
        "outputId": "bef96ce9-77e8-4d5e-a2aa-ff9c22b25487"
      },
      "execution_count": null,
      "outputs": [
        {
          "output_type": "stream",
          "name": "stdout",
          "text": [
            "        name  score  attempts qualify\n",
            "a  Anastasia   12.5         1     yes\n",
            "b       Dima    9.0         3      no\n",
            "c  Katherine   16.5         2     yes\n",
            "d      James    NaN         3      no\n",
            "e      Emily    9.0         2      no\n",
            "f    Michael   20.0         3     yes\n",
            "g    Matthew   14.5         1     yes\n",
            "h      Laura    NaN         1      no\n",
            "i      Kevin    8.0         2      no\n",
            "j      Jonas   19.0         1     yes\n"
          ]
        }
      ]
    },
    {
      "cell_type": "code",
      "source": [
        "df = df.drop(['qualify'], axis = 1)\n"
      ],
      "metadata": {
        "id": "lzdjACsjVfXJ"
      },
      "execution_count": null,
      "outputs": []
    },
    {
      "cell_type": "code",
      "source": [
        "df"
      ],
      "metadata": {
        "id": "MoMaUOYuWuMf",
        "outputId": "7c73fb83-657a-4793-bce1-7d4642c53778",
        "colab": {
          "base_uri": "https://localhost:8080/",
          "height": 363
        }
      },
      "execution_count": null,
      "outputs": [
        {
          "output_type": "execute_result",
          "data": {
            "text/plain": [
              "        name  score  attempts\n",
              "a  Anastasia   12.5         1\n",
              "b       Dima    9.0         3\n",
              "c  Katherine   16.5         2\n",
              "d      James    NaN         3\n",
              "e      Emily    9.0         2\n",
              "f    Michael   20.0         3\n",
              "g    Matthew   14.5         1\n",
              "h      Laura    NaN         1\n",
              "i      Kevin    8.0         2\n",
              "j      Jonas   19.0         1"
            ],
            "text/html": [
              "\n",
              "\n",
              "  <div id=\"df-e1e5a2aa-b37c-4130-b6cb-bed8e087b6a4\">\n",
              "    <div class=\"colab-df-container\">\n",
              "      <div>\n",
              "<style scoped>\n",
              "    .dataframe tbody tr th:only-of-type {\n",
              "        vertical-align: middle;\n",
              "    }\n",
              "\n",
              "    .dataframe tbody tr th {\n",
              "        vertical-align: top;\n",
              "    }\n",
              "\n",
              "    .dataframe thead th {\n",
              "        text-align: right;\n",
              "    }\n",
              "</style>\n",
              "<table border=\"1\" class=\"dataframe\">\n",
              "  <thead>\n",
              "    <tr style=\"text-align: right;\">\n",
              "      <th></th>\n",
              "      <th>name</th>\n",
              "      <th>score</th>\n",
              "      <th>attempts</th>\n",
              "    </tr>\n",
              "  </thead>\n",
              "  <tbody>\n",
              "    <tr>\n",
              "      <th>a</th>\n",
              "      <td>Anastasia</td>\n",
              "      <td>12.5</td>\n",
              "      <td>1</td>\n",
              "    </tr>\n",
              "    <tr>\n",
              "      <th>b</th>\n",
              "      <td>Dima</td>\n",
              "      <td>9.0</td>\n",
              "      <td>3</td>\n",
              "    </tr>\n",
              "    <tr>\n",
              "      <th>c</th>\n",
              "      <td>Katherine</td>\n",
              "      <td>16.5</td>\n",
              "      <td>2</td>\n",
              "    </tr>\n",
              "    <tr>\n",
              "      <th>d</th>\n",
              "      <td>James</td>\n",
              "      <td>NaN</td>\n",
              "      <td>3</td>\n",
              "    </tr>\n",
              "    <tr>\n",
              "      <th>e</th>\n",
              "      <td>Emily</td>\n",
              "      <td>9.0</td>\n",
              "      <td>2</td>\n",
              "    </tr>\n",
              "    <tr>\n",
              "      <th>f</th>\n",
              "      <td>Michael</td>\n",
              "      <td>20.0</td>\n",
              "      <td>3</td>\n",
              "    </tr>\n",
              "    <tr>\n",
              "      <th>g</th>\n",
              "      <td>Matthew</td>\n",
              "      <td>14.5</td>\n",
              "      <td>1</td>\n",
              "    </tr>\n",
              "    <tr>\n",
              "      <th>h</th>\n",
              "      <td>Laura</td>\n",
              "      <td>NaN</td>\n",
              "      <td>1</td>\n",
              "    </tr>\n",
              "    <tr>\n",
              "      <th>i</th>\n",
              "      <td>Kevin</td>\n",
              "      <td>8.0</td>\n",
              "      <td>2</td>\n",
              "    </tr>\n",
              "    <tr>\n",
              "      <th>j</th>\n",
              "      <td>Jonas</td>\n",
              "      <td>19.0</td>\n",
              "      <td>1</td>\n",
              "    </tr>\n",
              "  </tbody>\n",
              "</table>\n",
              "</div>\n",
              "      <button class=\"colab-df-convert\" onclick=\"convertToInteractive('df-e1e5a2aa-b37c-4130-b6cb-bed8e087b6a4')\"\n",
              "              title=\"Convert this dataframe to an interactive table.\"\n",
              "              style=\"display:none;\">\n",
              "\n",
              "  <svg xmlns=\"http://www.w3.org/2000/svg\" height=\"24px\"viewBox=\"0 0 24 24\"\n",
              "       width=\"24px\">\n",
              "    <path d=\"M0 0h24v24H0V0z\" fill=\"none\"/>\n",
              "    <path d=\"M18.56 5.44l.94 2.06.94-2.06 2.06-.94-2.06-.94-.94-2.06-.94 2.06-2.06.94zm-11 1L8.5 8.5l.94-2.06 2.06-.94-2.06-.94L8.5 2.5l-.94 2.06-2.06.94zm10 10l.94 2.06.94-2.06 2.06-.94-2.06-.94-.94-2.06-.94 2.06-2.06.94z\"/><path d=\"M17.41 7.96l-1.37-1.37c-.4-.4-.92-.59-1.43-.59-.52 0-1.04.2-1.43.59L10.3 9.45l-7.72 7.72c-.78.78-.78 2.05 0 2.83L4 21.41c.39.39.9.59 1.41.59.51 0 1.02-.2 1.41-.59l7.78-7.78 2.81-2.81c.8-.78.8-2.07 0-2.86zM5.41 20L4 18.59l7.72-7.72 1.47 1.35L5.41 20z\"/>\n",
              "  </svg>\n",
              "      </button>\n",
              "\n",
              "\n",
              "\n",
              "    <div id=\"df-92a26839-3a4f-49c2-8266-7ac5a5f8848f\">\n",
              "      <button class=\"colab-df-quickchart\" onclick=\"quickchart('df-92a26839-3a4f-49c2-8266-7ac5a5f8848f')\"\n",
              "              title=\"Suggest charts.\"\n",
              "              style=\"display:none;\">\n",
              "\n",
              "<svg xmlns=\"http://www.w3.org/2000/svg\" height=\"24px\"viewBox=\"0 0 24 24\"\n",
              "     width=\"24px\">\n",
              "    <g>\n",
              "        <path d=\"M19 3H5c-1.1 0-2 .9-2 2v14c0 1.1.9 2 2 2h14c1.1 0 2-.9 2-2V5c0-1.1-.9-2-2-2zM9 17H7v-7h2v7zm4 0h-2V7h2v10zm4 0h-2v-4h2v4z\"/>\n",
              "    </g>\n",
              "</svg>\n",
              "      </button>\n",
              "    </div>\n",
              "\n",
              "<style>\n",
              "  .colab-df-quickchart {\n",
              "    background-color: #E8F0FE;\n",
              "    border: none;\n",
              "    border-radius: 50%;\n",
              "    cursor: pointer;\n",
              "    display: none;\n",
              "    fill: #1967D2;\n",
              "    height: 32px;\n",
              "    padding: 0 0 0 0;\n",
              "    width: 32px;\n",
              "  }\n",
              "\n",
              "  .colab-df-quickchart:hover {\n",
              "    background-color: #E2EBFA;\n",
              "    box-shadow: 0px 1px 2px rgba(60, 64, 67, 0.3), 0px 1px 3px 1px rgba(60, 64, 67, 0.15);\n",
              "    fill: #174EA6;\n",
              "  }\n",
              "\n",
              "  [theme=dark] .colab-df-quickchart {\n",
              "    background-color: #3B4455;\n",
              "    fill: #D2E3FC;\n",
              "  }\n",
              "\n",
              "  [theme=dark] .colab-df-quickchart:hover {\n",
              "    background-color: #434B5C;\n",
              "    box-shadow: 0px 1px 3px 1px rgba(0, 0, 0, 0.15);\n",
              "    filter: drop-shadow(0px 1px 2px rgba(0, 0, 0, 0.3));\n",
              "    fill: #FFFFFF;\n",
              "  }\n",
              "</style>\n",
              "\n",
              "    <script>\n",
              "      async function quickchart(key) {\n",
              "        const containerElement = document.querySelector('#' + key);\n",
              "        const charts = await google.colab.kernel.invokeFunction(\n",
              "            'suggestCharts', [key], {});\n",
              "      }\n",
              "    </script>\n",
              "\n",
              "      <script>\n",
              "\n",
              "function displayQuickchartButton(domScope) {\n",
              "  let quickchartButtonEl =\n",
              "    domScope.querySelector('#df-92a26839-3a4f-49c2-8266-7ac5a5f8848f button.colab-df-quickchart');\n",
              "  quickchartButtonEl.style.display =\n",
              "    google.colab.kernel.accessAllowed ? 'block' : 'none';\n",
              "}\n",
              "\n",
              "        displayQuickchartButton(document);\n",
              "      </script>\n",
              "      <style>\n",
              "    .colab-df-container {\n",
              "      display:flex;\n",
              "      flex-wrap:wrap;\n",
              "      gap: 12px;\n",
              "    }\n",
              "\n",
              "    .colab-df-convert {\n",
              "      background-color: #E8F0FE;\n",
              "      border: none;\n",
              "      border-radius: 50%;\n",
              "      cursor: pointer;\n",
              "      display: none;\n",
              "      fill: #1967D2;\n",
              "      height: 32px;\n",
              "      padding: 0 0 0 0;\n",
              "      width: 32px;\n",
              "    }\n",
              "\n",
              "    .colab-df-convert:hover {\n",
              "      background-color: #E2EBFA;\n",
              "      box-shadow: 0px 1px 2px rgba(60, 64, 67, 0.3), 0px 1px 3px 1px rgba(60, 64, 67, 0.15);\n",
              "      fill: #174EA6;\n",
              "    }\n",
              "\n",
              "    [theme=dark] .colab-df-convert {\n",
              "      background-color: #3B4455;\n",
              "      fill: #D2E3FC;\n",
              "    }\n",
              "\n",
              "    [theme=dark] .colab-df-convert:hover {\n",
              "      background-color: #434B5C;\n",
              "      box-shadow: 0px 1px 3px 1px rgba(0, 0, 0, 0.15);\n",
              "      filter: drop-shadow(0px 1px 2px rgba(0, 0, 0, 0.3));\n",
              "      fill: #FFFFFF;\n",
              "    }\n",
              "  </style>\n",
              "\n",
              "      <script>\n",
              "        const buttonEl =\n",
              "          document.querySelector('#df-e1e5a2aa-b37c-4130-b6cb-bed8e087b6a4 button.colab-df-convert');\n",
              "        buttonEl.style.display =\n",
              "          google.colab.kernel.accessAllowed ? 'block' : 'none';\n",
              "\n",
              "        async function convertToInteractive(key) {\n",
              "          const element = document.querySelector('#df-e1e5a2aa-b37c-4130-b6cb-bed8e087b6a4');\n",
              "          const dataTable =\n",
              "            await google.colab.kernel.invokeFunction('convertToInteractive',\n",
              "                                                     [key], {});\n",
              "          if (!dataTable) return;\n",
              "\n",
              "          const docLinkHtml = 'Like what you see? Visit the ' +\n",
              "            '<a target=\"_blank\" href=https://colab.research.google.com/notebooks/data_table.ipynb>data table notebook</a>'\n",
              "            + ' to learn more about interactive tables.';\n",
              "          element.innerHTML = '';\n",
              "          dataTable['output_type'] = 'display_data';\n",
              "          await google.colab.output.renderOutput(dataTable, element);\n",
              "          const docLink = document.createElement('div');\n",
              "          docLink.innerHTML = docLinkHtml;\n",
              "          element.appendChild(docLink);\n",
              "        }\n",
              "      </script>\n",
              "    </div>\n",
              "  </div>\n"
            ]
          },
          "metadata": {},
          "execution_count": 34
        }
      ]
    },
    {
      "cell_type": "code",
      "source": [
        "# Exercise 16\n",
        "# Write a Pandas program to sort the dataframe first by 'name' in descending order,\n",
        "# then by 'score' in ascending order.\n",
        "\n",
        "import pandas as pd\n",
        "import numpy as np\n",
        "exam_data  = {'name': ['Anastasia', 'Dima', 'Katherine', 'James', 'Emily', 'Michael', 'Matthew', 'Laura', 'Kevin', 'Jonas'],\n",
        "        'score': [12.5, 9, 16.5, np.nan, 9, 20, 14.5, np.nan, 8, 19],\n",
        "        'attempts': [1, 3, 2, 3, 2, 3, 1, 1, 2, 1],\n",
        "        'qualify': ['yes', 'no', 'yes', 'no', 'no', 'yes', 'yes', 'no', 'no', 'yes']}\n",
        "labels = ['a', 'b', 'c', 'd', 'e', 'f', 'g', 'h', 'i', 'j']\n",
        "df = pd.DataFrame(exam_data, index = labels)\n",
        "print(\"Original rows:\")\n",
        "print(df)\n",
        "# df = df.sort_values(by = ['name', 'score'], ascending = [False, True])\n",
        "df = df.sort_values(by = 'score', ascending = True)\n",
        "print(\"Sort the data frame first by 'name' in descending order, then by 'score' in ascending order:\")\n",
        "print(df)\n"
      ],
      "metadata": {
        "colab": {
          "base_uri": "https://localhost:8080/"
        },
        "id": "18ePPnUVg74H",
        "outputId": "5681383e-fe60-430d-c87f-01a55e473454"
      },
      "execution_count": null,
      "outputs": [
        {
          "output_type": "stream",
          "name": "stdout",
          "text": [
            "Original rows:\n",
            "        name  score  attempts qualify\n",
            "a  Anastasia   12.5         1     yes\n",
            "b       Dima    9.0         3      no\n",
            "c  Katherine   16.5         2     yes\n",
            "d      James    NaN         3      no\n",
            "e      Emily    9.0         2      no\n",
            "f    Michael   20.0         3     yes\n",
            "g    Matthew   14.5         1     yes\n",
            "h      Laura    NaN         1      no\n",
            "i      Kevin    8.0         2      no\n",
            "j      Jonas   19.0         1     yes\n",
            "Sort the data frame first by 'name' in descending order, then by 'score' in ascending order:\n",
            "        name  score  attempts qualify\n",
            "i      Kevin    8.0         2      no\n",
            "b       Dima    9.0         3      no\n",
            "e      Emily    9.0         2      no\n",
            "a  Anastasia   12.5         1     yes\n",
            "g    Matthew   14.5         1     yes\n",
            "c  Katherine   16.5         2     yes\n",
            "j      Jonas   19.0         1     yes\n",
            "f    Michael   20.0         3     yes\n",
            "d      James    NaN         3      no\n",
            "h      Laura    NaN         1      no\n"
          ]
        }
      ]
    },
    {
      "cell_type": "code",
      "source": [],
      "metadata": {
        "id": "wFkWcvrAhZO_"
      },
      "execution_count": null,
      "outputs": []
    },
    {
      "cell_type": "code",
      "source": [
        "# Exercise 17\n",
        "# Write a Pandas program to delete the 'attempts' column from the DataFrame\n",
        "\n",
        "import pandas as pd\n",
        "import numpy as np\n",
        "exam_data  = {'name': ['Anastasia', 'Dima', 'Katherine', 'James', 'Emily', 'Michael', 'Matthew', 'Laura', 'Kevin', 'Jonas'],\n",
        "        'score': [12.5, 9, 16.5, np.nan, 9, 20, 14.5, np.nan, 8, 19],\n",
        "        'attempts': [1, 3, 2, 3, 2, 3, 1, 1, 2, 1],\n",
        "        'qualify': ['yes', 'no', 'yes', 'no', 'no', 'yes', 'yes', 'no', 'no', 'yes']}\n",
        "labels = ['a', 'b', 'c', 'd', 'e', 'f', 'g', 'h', 'i', 'j']\n",
        "df = pd.DataFrame(exam_data, index = labels)\n",
        "print(\"Original rows:\")\n",
        "print(df)\n",
        "print(\"\\nDelete the 'attempts' column from the data frame:\")\n",
        "df = df.drop(['attempts'], axis = 1)\n",
        "print(df)\n",
        "\n"
      ],
      "metadata": {
        "colab": {
          "base_uri": "https://localhost:8080/"
        },
        "id": "ijOKl1NmngXE",
        "outputId": "e6b6ad57-6f18-46b4-cd72-c7982e9dc4db"
      },
      "execution_count": null,
      "outputs": [
        {
          "output_type": "stream",
          "name": "stdout",
          "text": [
            "Original rows:\n",
            "        name  score  attempts qualify\n",
            "a  Anastasia   12.5         1     yes\n",
            "b       Dima    9.0         3      no\n",
            "c  Katherine   16.5         2     yes\n",
            "d      James    NaN         3      no\n",
            "e      Emily    9.0         2      no\n",
            "f    Michael   20.0         3     yes\n",
            "g    Matthew   14.5         1     yes\n",
            "h      Laura    NaN         1      no\n",
            "i      Kevin    8.0         2      no\n",
            "j      Jonas   19.0         1     yes\n",
            "\n",
            "Delete the 'attempts' column from the data frame:\n",
            "        name  score qualify\n",
            "a  Anastasia   12.5     yes\n",
            "b       Dima    9.0      no\n",
            "c  Katherine   16.5     yes\n",
            "d      James    NaN      no\n",
            "e      Emily    9.0      no\n",
            "f    Michael   20.0     yes\n",
            "g    Matthew   14.5     yes\n",
            "h      Laura    NaN      no\n",
            "i      Kevin    8.0      no\n",
            "j      Jonas   19.0     yes\n"
          ]
        }
      ]
    },
    {
      "cell_type": "code",
      "source": [
        "# Exercise 18\n",
        "# Write a Pandas program to change the name 'James' to 'Suresh' in name column of the data frame\n",
        "\n",
        "import pandas as pd\n",
        "import numpy as np\n",
        "exam_data  = {'name': ['Anastasia', 'Dima', 'Katherine', 'James', 'Emily', 'Michael', 'Matthew', 'Laura', 'Kevin', 'Jonas'],\n",
        "        'score': [12.5, 9, 16.5, np.nan, 9, 20, 14.5, np.nan, 8, 19],\n",
        "        'attempts': [1, 3, 2, 3, 2, 3, 1, 1, 2, 1],\n",
        "        'qualify': ['yes', 'no', 'yes', 'no', 'no', 'yes', 'yes', 'no', 'no', 'yes']}\n",
        "labels = ['a', 'b', 'c', 'd', 'e', 'f', 'g', 'h', 'i', 'j']\n",
        "df = pd.DataFrame(exam_data, index = labels)\n",
        "print(\"Original rows:\")\n",
        "print(df)\n",
        "print(\"\\nChange the name 'James' to 'Suresh':\")\n",
        "df['name'] = df['name'].map({'James': 'Su'})\n",
        "print(df)\n",
        "\n",
        "\n"
      ],
      "metadata": {
        "colab": {
          "base_uri": "https://localhost:8080/"
        },
        "id": "lKdV0ArypM7j",
        "outputId": "caff65e9-47c0-40ed-fc18-652545b8a533"
      },
      "execution_count": null,
      "outputs": [
        {
          "output_type": "stream",
          "name": "stdout",
          "text": [
            "Original rows:\n",
            "        name  score  attempts qualify\n",
            "a  Anastasia   12.5         1     yes\n",
            "b       Dima    9.0         3      no\n",
            "c  Katherine   16.5         2     yes\n",
            "d      James    NaN         3      no\n",
            "e      Emily    9.0         2      no\n",
            "f    Michael   20.0         3     yes\n",
            "g    Matthew   14.5         1     yes\n",
            "h      Laura    NaN         1      no\n",
            "i      Kevin    8.0         2      no\n",
            "j      Jonas   19.0         1     yes\n",
            "\n",
            "Change the name 'James' to 'Suresh':\n",
            "     name  score  attempts qualify\n",
            "a     NaN   12.5         1     yes\n",
            "b     NaN    9.0         3      no\n",
            "c     NaN   16.5         2     yes\n",
            "d  Suresh    NaN         3      no\n",
            "e     NaN    9.0         2      no\n",
            "f     NaN   20.0         3     yes\n",
            "g     NaN   14.5         1     yes\n",
            "h     NaN    NaN         1      no\n",
            "i     NaN    8.0         2      no\n",
            "j     NaN   19.0         1     yes\n"
          ]
        }
      ]
    },
    {
      "cell_type": "code",
      "source": [
        "# Exercise 19\n",
        "# Write a Pandas program to replace the 'qualify' column contains the values 'yes'\n",
        "# and 'no' with True and False\n",
        "\n",
        "def function(T):\n",
        "  if T == 'yes':\n",
        "    return True\n",
        "  else:\n",
        "    return False\n",
        "import numpy as np\n",
        "import pandas as pd\n",
        "exam_data  = {'name': ['Anastasia', 'Dima', 'Katherine', 'James', 'Emily', 'Michael', 'Matthew', 'Laura', 'Kevin', 'Jonas'],\n",
        "        'score': [12.5, 9, 16.5, np.nan, 9, 20, 14.5, np.nan, 8, 19],\n",
        "        'attempts': [1, 3, 2, 3, 2, 3, 1, 1, 2, 1],\n",
        "        'qualify': ['yes', 'no', 'yes', 'no', 'no', 'yes', 'yes', 'no', 'no', 'yes']}\n",
        "labels = ['a', 'b', 'c', 'd', 'e', 'f', 'g', 'h', 'i', 'j']\n",
        "df = pd.DataFrame(exam_data, index = labels)\n",
        "print(\"Original rows:\")\n",
        "print(df)\n",
        "print(\"\\nReplace the 'qualify' column contains the values 'yes' and 'no' with True and False:\")\n",
        "df['qualify'] = df['qualify'].apply(function)\n",
        "print(df)\n"
      ],
      "metadata": {
        "colab": {
          "base_uri": "https://localhost:8080/"
        },
        "id": "uf6-SMGxq86-",
        "outputId": "07ee2391-f685-40b8-8c47-fad329b56168"
      },
      "execution_count": null,
      "outputs": [
        {
          "output_type": "stream",
          "name": "stdout",
          "text": [
            "Original rows:\n",
            "        name  score  attempts qualify\n",
            "a  Anastasia   12.5         1     yes\n",
            "b       Dima    9.0         3      no\n",
            "c  Katherine   16.5         2     yes\n",
            "d      James    NaN         3      no\n",
            "e      Emily    9.0         2      no\n",
            "f    Michael   20.0         3     yes\n",
            "g    Matthew   14.5         1     yes\n",
            "h      Laura    NaN         1      no\n",
            "i      Kevin    8.0         2      no\n",
            "j      Jonas   19.0         1     yes\n",
            "\n",
            "Replace the 'qualify' column contains the values 'yes' and 'no' with True and False:\n",
            "        name  score  attempts  qualify\n",
            "a  Anastasia   12.5         1     True\n",
            "b       Dima    9.0         3    False\n",
            "c  Katherine   16.5         2     True\n",
            "d      James    NaN         3    False\n",
            "e      Emily    9.0         2    False\n",
            "f    Michael   20.0         3     True\n",
            "g    Matthew   14.5         1     True\n",
            "h      Laura    NaN         1    False\n",
            "i      Kevin    8.0         2    False\n",
            "j      Jonas   19.0         1     True\n"
          ]
        }
      ]
    },
    {
      "cell_type": "code",
      "source": [
        "# Exercise 61\n",
        "# Write a Pandas program to rename columns in a DataFrame.\n",
        "import pandas as pd\n",
        "d = {'col1': [1, 2, 3], 'col2': [4, 5, 6], 'col3': [7, 8, 9]}\n",
        "df = pd.DataFrame(data=d)\n",
        "print(\"Original DataFrame\")\n",
        "print(df)\n",
        "df.columns = ['Column1', 'Column2', 'Column3']\n",
        "df = df.rename(columns={'col1': 'Column1', 'col2': 'Column2', 'col3': 'Column3'})\n",
        "print(\"New DataFrame after renaming columns:\")\n",
        "print(df)"
      ],
      "metadata": {
        "colab": {
          "base_uri": "https://localhost:8080/"
        },
        "id": "GWrE8tgjuilL",
        "outputId": "b923fa6e-e99c-4c1d-8d71-51f007126494"
      },
      "execution_count": null,
      "outputs": [
        {
          "output_type": "stream",
          "name": "stdout",
          "text": [
            "Original DataFrame\n",
            "   col1  col2  col3\n",
            "0     1     4     7\n",
            "1     2     5     8\n",
            "2     3     6     9\n",
            "New DataFrame after renaming columns:\n",
            "   Column1  Column2  Column3\n",
            "0        1        4        7\n",
            "1        2        5        8\n",
            "2        3        6        9\n"
          ]
        }
      ]
    },
    {
      "cell_type": "code",
      "source": [
        "df.columns"
      ],
      "metadata": {
        "colab": {
          "base_uri": "https://localhost:8080/"
        },
        "id": "g4F_vUxSmMhw",
        "outputId": "b9699ab9-ddc9-49f1-a51a-19fe5c6c2328"
      },
      "execution_count": null,
      "outputs": [
        {
          "output_type": "execute_result",
          "data": {
            "text/plain": [
              "Index(['Column1', 'Column2', 'Column3'], dtype='object')"
            ]
          },
          "metadata": {},
          "execution_count": 6
        }
      ]
    },
    {
      "cell_type": "code",
      "source": [
        "df.columns = [\"name\", \"age\", \"height\"]\n",
        "print(df)"
      ],
      "metadata": {
        "colab": {
          "base_uri": "https://localhost:8080/"
        },
        "id": "b8I05N9vmpf2",
        "outputId": "7e820704-f2a1-4d54-cab7-8a45711de5f7"
      },
      "execution_count": null,
      "outputs": [
        {
          "output_type": "stream",
          "name": "stdout",
          "text": [
            "   name  age  height\n",
            "0     1    4       7\n",
            "1     2    5       8\n",
            "2     3    6       9\n"
          ]
        }
      ]
    },
    {
      "cell_type": "code",
      "source": [
        "# Exercise 20\n",
        "# Write a Pandas program to insert a new column in existing DataFrame\n",
        "\n",
        "import pandas as pd\n",
        "import numpy as np\n",
        "exam_data  = {'name': ['Anastasia', 'Dima', 'Katherine', 'James', 'Emily', 'Michael', 'Matthew', 'Laura', 'Kevin', 'Jonas'],\n",
        "        'score': [12.5, 9, 16.5, np.nan, 9, 20, 14.5, np.nan, 8, 19],\n",
        "        'attempts': [1, 3, 2, 3, 2, 3, 1, 1, 2, 1],\n",
        "        'qualify': ['yes', 'no', 'yes', 'no', 'no', 'yes', 'yes', 'no', 'no', 'yes']}\n",
        "labels = ['a', 'b', 'c', 'd', 'e', 'f', 'g', 'h', 'i', 'j']\n",
        "df = pd.DataFrame(exam_data, index = labels)\n",
        "print(\"Original rows:\")\n",
        "print(df)\n",
        "color = ['Red', 'Blue', 'Orange', 'Red', 'White', 'White', 'Blue', 'Green', 'Green', 'Red']\n",
        "df['color'] = color\n",
        "print(\"\\nNew DataFrame after inserting the 'color' column\")\n",
        "print(df)\n"
      ],
      "metadata": {
        "colab": {
          "base_uri": "https://localhost:8080/"
        },
        "id": "yjBegJ69v1nE",
        "outputId": "b7700aa7-a2b4-498f-f211-113399a37f8b"
      },
      "execution_count": null,
      "outputs": [
        {
          "output_type": "stream",
          "name": "stdout",
          "text": [
            "Original rows:\n",
            "        name  score  attempts qualify\n",
            "a  Anastasia   12.5         1     yes\n",
            "b       Dima    9.0         3      no\n",
            "c  Katherine   16.5         2     yes\n",
            "d      James    NaN         3      no\n",
            "e      Emily    9.0         2      no\n",
            "f    Michael   20.0         3     yes\n",
            "g    Matthew   14.5         1     yes\n",
            "h      Laura    NaN         1      no\n",
            "i      Kevin    8.0         2      no\n",
            "j      Jonas   19.0         1     yes\n",
            "\n",
            "New DataFrame after inserting the 'color' column\n",
            "        name  score  attempts qualify   color\n",
            "a  Anastasia   12.5         1     yes     Red\n",
            "b       Dima    9.0         3      no    Blue\n",
            "c  Katherine   16.5         2     yes  Orange\n",
            "d      James    NaN         3      no     Red\n",
            "e      Emily    9.0         2      no   White\n",
            "f    Michael   20.0         3     yes   White\n",
            "g    Matthew   14.5         1     yes    Blue\n",
            "h      Laura    NaN         1      no   Green\n",
            "i      Kevin    8.0         2      no   Green\n",
            "j      Jonas   19.0         1     yes     Red\n"
          ]
        }
      ]
    },
    {
      "cell_type": "code",
      "source": [
        "# Exercise 21\n",
        "# Write a Pandas program to iterate over rows in a DataFrame\n",
        "\n",
        "import pandas as pd\n",
        "exam_data = [{'name':'Anastasia', 'score':12.5}, {'name':'Dima', 'score':9}, {'name':'Katherine', 'score':16.5}]\n",
        "df = pd.DataFrame(exam_data)\n",
        "for index, row in df.iterrows():\n",
        "  print(row['name'], row['score'])"
      ],
      "metadata": {
        "colab": {
          "base_uri": "https://localhost:8080/"
        },
        "id": "c3pa4ramy0bb",
        "outputId": "56fe91cb-2497-4ce2-89fc-c3bbb6903655"
      },
      "execution_count": null,
      "outputs": [
        {
          "output_type": "stream",
          "name": "stdout",
          "text": [
            "Anastasia 12.5\n",
            "Dima 9.0\n",
            "Katherine 16.5\n"
          ]
        }
      ]
    },
    {
      "cell_type": "code",
      "source": [
        "# Exercise 22\n",
        "# Write a Pandas program to get list from DataFrame column headers\n",
        "\n",
        "import pandas as pd\n",
        "import numpy as np\n",
        "exam_data  = {'name': ['Anastasia', 'Dima', 'Katherine', 'James', 'Emily', 'Michael', 'Matthew', 'Laura', 'Kevin', 'Jonas'],\n",
        "        'score': [12.5, 9, 16.5, np.nan, 9, 20, 14.5, np.nan, 8, 19],\n",
        "        'attempts': [1, 3, 2, 3, 2, 3, 1, 1, 2, 1],\n",
        "        'qualify': ['yes', 'no', 'yes', 'no', 'no', 'yes', 'yes', 'no', 'no', 'yes']}\n",
        "labels = ['a', 'b', 'c', 'd', 'e', 'f', 'g', 'h', 'i', 'j']\n",
        "df = pd.DataFrame(exam_data, index = labels)\n",
        "print(list(df.columns.values))"
      ],
      "metadata": {
        "colab": {
          "base_uri": "https://localhost:8080/"
        },
        "id": "RzQZQkfD0Y9Q",
        "outputId": "8bfe3d30-3113-4436-cf3a-10a543fe6d7b"
      },
      "execution_count": null,
      "outputs": [
        {
          "output_type": "stream",
          "name": "stdout",
          "text": [
            "['name', 'score', 'attempts', 'qualify']\n"
          ]
        }
      ]
    },
    {
      "cell_type": "code",
      "source": [
        "# Exercise 23\n",
        "# Write a Pandas program to rename columns of a given DataFrame\n",
        "import pandas as pd\n",
        "d = {'col1': [1, 2, 3], 'col2': [4, 5, 6], 'col3': [7, 8, 9]}\n",
        "df = pd.DataFrame(data = d)\n",
        "print(\"Original DataFrame\")\n",
        "print(df)\n",
        "df = df.rename(columns = {'col1': 'Column1', 'col2': 'Column2', 'col3': 'Column3'})\n",
        "print(\"New DataFrame after renaming columns:\")\n",
        "print(df)"
      ],
      "metadata": {
        "colab": {
          "base_uri": "https://localhost:8080/"
        },
        "id": "M81fXy0e08hQ",
        "outputId": "c3331608-765f-4ad0-e70e-df026f77bc4f"
      },
      "execution_count": null,
      "outputs": [
        {
          "output_type": "stream",
          "name": "stdout",
          "text": [
            "Original DataFrame\n",
            "   col1  col2  col3\n",
            "0     1     4     7\n",
            "1     2     5     8\n",
            "2     3     6     9\n",
            "New DataFrame after renaming columns:\n",
            "   Column1  Column2  Column3\n",
            "0        1        4        7\n",
            "1        2        5        8\n",
            "2        3        6        9\n"
          ]
        }
      ]
    },
    {
      "cell_type": "code",
      "source": [
        "# Exercise 24\n",
        "# Write a Pandas program to select rows from a given DataFrame based on values in some columns.\n",
        "\n",
        "import pandas as pd\n",
        "d = {'col1': [1, 4, 3, 4, 5], 'col2': [4, 5, 6, 7, 8], 'col3': [7, 8, 9, 0, 1]}\n",
        "df = pd.DataFrame(data = d)\n",
        "print(\"Original DataFrame\")\n",
        "print(df)\n",
        "print(\"Rows for colum1 value == 4\")\n",
        "print(df.loc[df['col1'] == 4])"
      ],
      "metadata": {
        "colab": {
          "base_uri": "https://localhost:8080/"
        },
        "id": "sp8udCgi5n5V",
        "outputId": "f8eeef03-b3c8-4ce1-d716-129e2c68798e"
      },
      "execution_count": null,
      "outputs": [
        {
          "output_type": "stream",
          "name": "stdout",
          "text": [
            "Original DataFrame\n",
            "   col1  col2  col3\n",
            "0     1     4     7\n",
            "1     4     5     8\n",
            "2     3     6     9\n",
            "3     4     7     0\n",
            "4     5     8     1\n",
            "Rows for colum1 value == 4\n",
            "   col1  col2  col3\n",
            "1     4     5     8\n",
            "3     4     7     0\n"
          ]
        }
      ]
    },
    {
      "cell_type": "code",
      "source": [
        "# Exercise 25\n",
        "# Write a Pandas program to change the order of a DataFrame columns\n",
        "\n",
        "import pandas as pd\n",
        "d = {'col1': [1, 4, 3, 4, 5], 'col2': [4, 5, 6, 7, 8], 'col3': [7, 8, 9, 0, 1]}\n",
        "df = pd.DataFrame(data = d)\n",
        "print(\"After altering col1 and col3\")\n",
        "df = df[['col3', 'col2', 'col1']]\n",
        "print(df)"
      ],
      "metadata": {
        "colab": {
          "base_uri": "https://localhost:8080/"
        },
        "id": "dVSOreWi7S1r",
        "outputId": "26e63f8e-ce54-48b6-87c3-77595261db6c"
      },
      "execution_count": null,
      "outputs": [
        {
          "output_type": "stream",
          "name": "stdout",
          "text": [
            "Original DataFrame\n",
            "   col1  col2  col3\n",
            "0     1     4     7\n",
            "1     4     5     8\n",
            "2     3     6     9\n",
            "3     4     7     0\n",
            "4     5     8     1\n",
            "After altering col1 and col3\n",
            "   col3  col2  col1\n",
            "0     7     4     1\n",
            "1     8     5     4\n",
            "2     9     6     3\n",
            "3     0     7     4\n",
            "4     1     8     5\n"
          ]
        }
      ]
    },
    {
      "cell_type": "code",
      "source": [
        "# Exercise 27\n",
        "# Write a Pandas program to write a DataFrame to CSV file using tab separator.\n",
        "\n",
        "import pandas as pd\n",
        "import numpy as np\n",
        "d = {'col1': [1, 4, 3, 4, 5], 'col2': [4, 5, 6, 7, 8], 'col3': [7, 8, 9, 0, 1]}\n",
        "df = pd.DataFrame(data=d)\n",
        "print(\"Original DataFrame\")\n",
        "print(df)\n",
        "print('Data from new_file.csv file:')\n",
        "df.to_csv('new_file.csv', sep='\\t', index=False)\n",
        "new_df = pd.read_csv('new_file.csv')\n",
        "print(new_df)"
      ],
      "metadata": {
        "id": "12WrlefW-4D0",
        "colab": {
          "base_uri": "https://localhost:8080/"
        },
        "outputId": "9ed6fb63-f167-4221-e2d4-585cb729fbf3"
      },
      "execution_count": null,
      "outputs": [
        {
          "output_type": "stream",
          "name": "stdout",
          "text": [
            "Original DataFrame\n",
            "   col1  col2  col3\n",
            "0     1     4     7\n",
            "1     4     5     8\n",
            "2     3     6     9\n",
            "3     4     7     0\n",
            "4     5     8     1\n",
            "Data from new_file.csv file:\n",
            "  col1\\tcol2\\tcol3\n",
            "0          1\\t4\\t7\n",
            "1          4\\t5\\t8\n",
            "2          3\\t6\\t9\n",
            "3          4\\t7\\t0\n",
            "4          5\\t8\\t1\n"
          ]
        }
      ]
    },
    {
      "cell_type": "code",
      "source": [
        "# Exercise 28\n",
        "# Write a Pandas program to select a row of series/dataframe by given integer index.\n",
        "\n",
        "import pandas as pd\n",
        "import numpy as np\n",
        "d = {'col1': [1 , 4, 3, 4, 5], 'col2': [4, 5, 6, 7, 8], 'col3': [7, 8, 9, 0, 1]}\n",
        "df = pd.DataFrame(data = d)\n",
        "print(\"Original DataFrame\")\n",
        "print(df)\n",
        "result = df.iloc[[2]]\n",
        "print(\"Index-2: Details\")\n",
        "print(result)"
      ],
      "metadata": {
        "colab": {
          "base_uri": "https://localhost:8080/"
        },
        "id": "l2ck8wNOB0R2",
        "outputId": "d717fa9d-4cbd-4890-b882-97c8b9f4e88b"
      },
      "execution_count": null,
      "outputs": [
        {
          "output_type": "stream",
          "name": "stdout",
          "text": [
            "Original DataFrame\n",
            "   col1  col2  col3\n",
            "0     1     4     7\n",
            "1     4     5     8\n",
            "2     3     6     9\n",
            "3     4     7     0\n",
            "4     5     8     1\n",
            "Index-2: Details\n",
            "   col1  col2  col3\n",
            "2     3     6     9\n"
          ]
        }
      ]
    },
    {
      "cell_type": "code",
      "source": [
        "# Exercise 29\n",
        "# Write a Pandas program to count city wise number of people from a given of data set (city, name of the person).\n",
        "\n",
        "import pandas as pd\n",
        "df1 = pd.DataFrame({'name': ['Anastasia', 'Dima', 'Katherine', 'James', 'Emily', 'Michael', 'Matthew', 'Laura', 'Kevin', 'Jonas'],\n",
        "'city': ['California', 'Los Angeles', 'California', 'California', 'California', 'Los Angeles', 'Los Angeles', 'Georgia', 'Georgia', 'Los Angeles']})\n",
        "g1 = df1.groupby([\"city\"]).size().reset_index(name='Number of people')\n",
        "print(g1)"
      ],
      "metadata": {
        "colab": {
          "base_uri": "https://localhost:8080/"
        },
        "id": "R6cnlNQqCeeo",
        "outputId": "980e370e-4355-4f18-c847-5395026ff423"
      },
      "execution_count": null,
      "outputs": [
        {
          "output_type": "stream",
          "name": "stdout",
          "text": [
            "          city  Number of people\n",
            "0   California                 4\n",
            "1      Georgia                 2\n",
            "2  Los Angeles                 4\n"
          ]
        }
      ]
    },
    {
      "cell_type": "code",
      "source": [
        "# Exercise 30\n",
        "# Write a Pandas program to widen output display to see more columns\n",
        "\n",
        "import pandas as pd\n",
        "import numpy as np\n",
        "d = {'col1': [1, 4, 3, 4, 5], 'col2': [4, 5, 6, 7, 8], 'col3': [7, 8, 9, 0, 1]}\n",
        "df = pd.DataFrame(data = d)\n",
        "pd.set_option(\"display.max_rows\", 500)\n",
        "pd.set_option(\"display.max_columns\", 500)\n",
        "pd.set_option(\"display.width\", 1000)\n",
        "print(\"Original DataFrame\")\n",
        "print(df)"
      ],
      "metadata": {
        "colab": {
          "base_uri": "https://localhost:8080/"
        },
        "id": "KtO3Yg7mCukn",
        "outputId": "ad5feb40-a693-4b93-ccdd-178e2b00b533"
      },
      "execution_count": null,
      "outputs": [
        {
          "output_type": "stream",
          "name": "stdout",
          "text": [
            "Original DataFrame\n",
            "   col1  col2  col3\n",
            "0     1     4     7\n",
            "1     4     5     8\n",
            "2     3     6     9\n",
            "3     4     7     0\n",
            "4     5     8     1\n"
          ]
        }
      ]
    },
    {
      "cell_type": "code",
      "source": [
        "# Exercise 31\n",
        "# Write a Pandas program to replace all the NaN values with Zero's in a column of a dataframe.\n",
        "\n",
        "import pandas as pd\n",
        "import numpy as np\n",
        "exam_data = {'name': ['Anastasia', 'Dima', 'Katherine', 'James', 'Emily', 'Michael', 'Matthew', 'Laura', 'Kevin', 'Jonas'],\n",
        "        'score': [12.5, 9, 16.5, np.nan, 9, 20, 14.5, np.nan, 8, 19],\n",
        "        'attempts': [1, 3, 2, 3, 2, 3, 1, 1, 2, 1],\n",
        "        'qualify': ['yes', 'no', 'yes', 'no', 'no', 'yes', 'yes', 'no', 'no', 'yes']}\n",
        "df = pd.DataFrame(exam_data)\n",
        "print(\"Original DataFrame\")\n",
        "print(df)\n",
        "df = df.fillna(0)\n",
        "print(\"\\nNew DataFrame replacing all Nan with 0:\")\n",
        "print(df)\n"
      ],
      "metadata": {
        "colab": {
          "base_uri": "https://localhost:8080/"
        },
        "id": "ZhkSzQXfYX2X",
        "outputId": "f4a189e9-41f4-4234-91de-b36a49657b31"
      },
      "execution_count": null,
      "outputs": [
        {
          "output_type": "stream",
          "name": "stdout",
          "text": [
            "Original DataFrame\n",
            "        name  score  attempts qualify\n",
            "0  Anastasia   12.5         1     yes\n",
            "1       Dima    9.0         3      no\n",
            "2  Katherine   16.5         2     yes\n",
            "3      James    NaN         3      no\n",
            "4      Emily    9.0         2      no\n",
            "5    Michael   20.0         3     yes\n",
            "6    Matthew   14.5         1     yes\n",
            "7      Laura    NaN         1      no\n",
            "8      Kevin    8.0         2      no\n",
            "9      Jonas   19.0         1     yes\n",
            "\n",
            "New DataFrame replacing all Nan with 0:\n",
            "        name  score  attempts qualify\n",
            "0  Anastasia   12.5         1     yes\n",
            "1       Dima    9.0         3      no\n",
            "2  Katherine   16.5         2     yes\n",
            "3      James    0.0         3      no\n",
            "4      Emily    9.0         2      no\n",
            "5    Michael   20.0         3     yes\n",
            "6    Matthew   14.5         1     yes\n",
            "7      Laura    0.0         1      no\n",
            "8      Kevin    8.0         2      no\n",
            "9      Jonas   19.0         1     yes\n"
          ]
        }
      ]
    },
    {
      "cell_type": "code",
      "source": [
        "# Exercise 32\n",
        "# Write a Pandas program to convert index in a column of the given dataframe.\n",
        "\n",
        "import pandas as pd\n",
        "import numpy as np\n",
        "exam_data = {'name': ['Anastasia', 'Dima', 'Katherine', 'James', 'Emily', 'Michael', 'Matthew', 'Laura', 'Kevin', 'Jonas'],\n",
        "        'score': [12.5, 9, 16.5, np.nan, 9, 20, 14.5, np.nan, 8, 19],\n",
        "        'attempts': [1, 3, 2, 3, 2, 3, 1, 1, 2, 1],\n",
        "        'qualify': ['yes', 'no', 'yes', 'no', 'no', 'yes', 'yes', 'no', 'no', 'yes']}\n",
        "df = pd.DataFrame(exam_data)\n",
        "print(\"Original DataFrame\")\n",
        "print(df)\n",
        "print(\"\\nAfter converting index in a column:\")\n",
        "df.reset_index(level=0, inplace=True)\n",
        "print(df)\n",
        "print(\"\\nHiding index:\")\n",
        "print( df.to_string(index=False))"
      ],
      "metadata": {
        "colab": {
          "base_uri": "https://localhost:8080/"
        },
        "id": "O90553xzcAgN",
        "outputId": "32e6f036-a8fc-4090-c594-c69e3763bb42"
      },
      "execution_count": null,
      "outputs": [
        {
          "output_type": "stream",
          "name": "stdout",
          "text": [
            "Original DataFrame\n",
            "        name  score  attempts qualify\n",
            "0  Anastasia   12.5         1     yes\n",
            "1       Dima    9.0         3      no\n",
            "2  Katherine   16.5         2     yes\n",
            "3      James    NaN         3      no\n",
            "4      Emily    9.0         2      no\n",
            "5    Michael   20.0         3     yes\n",
            "6    Matthew   14.5         1     yes\n",
            "7      Laura    NaN         1      no\n",
            "8      Kevin    8.0         2      no\n",
            "9      Jonas   19.0         1     yes\n",
            "\n",
            "After converting index in a column:\n",
            "   index       name  score  attempts qualify\n",
            "0      0  Anastasia   12.5         1     yes\n",
            "1      1       Dima    9.0         3      no\n",
            "2      2  Katherine   16.5         2     yes\n",
            "3      3      James    NaN         3      no\n",
            "4      4      Emily    9.0         2      no\n",
            "5      5    Michael   20.0         3     yes\n",
            "6      6    Matthew   14.5         1     yes\n",
            "7      7      Laura    NaN         1      no\n",
            "8      8      Kevin    8.0         2      no\n",
            "9      9      Jonas   19.0         1     yes\n",
            "\n",
            "Hiding index:\n",
            " index      name  score  attempts qualify\n",
            "     0 Anastasia   12.5         1     yes\n",
            "     1      Dima    9.0         3      no\n",
            "     2 Katherine   16.5         2     yes\n",
            "     3     James    NaN         3      no\n",
            "     4     Emily    9.0         2      no\n",
            "     5   Michael   20.0         3     yes\n",
            "     6   Matthew   14.5         1     yes\n",
            "     7     Laura    NaN         1      no\n",
            "     8     Kevin    8.0         2      no\n",
            "     9     Jonas   19.0         1     yes\n"
          ]
        }
      ]
    },
    {
      "cell_type": "code",
      "source": [
        "# Exercise 33\n",
        "# Write a Pandas program to set a given value for particular cell in DataFrame using index value.\n",
        "\n",
        "import pandas as pd\n",
        "import numpy as np\n",
        "exam_data = {'name': ['Anastasia', 'Dima', 'Katherine', 'James', 'Emily', 'Michael', 'Matthew', 'Laura', 'Kevin', 'Jonas'],\n",
        "        'score': [12.5, 9, 16.5, np.nan, 9, 20, 14.5, np.nan, 8, 19],\n",
        "        'attempts': [1, 3, 2, 3, 2, 3, 1, 1, 2, 1],\n",
        "        'qualify': ['yes', 'no', 'yes', 'no', 'no', 'yes', 'yes', 'no', 'no', 'yes']}\n",
        "df = pd.DataFrame(exam_data)\n",
        "print(\"Original DataFrame\")\n",
        "print(df)\n",
        "print(\"\\nSet a given value for particular cell in the DataFrame\")\n",
        "df.at[8, 'score'] = 10.2\n",
        "print(df)\n"
      ],
      "metadata": {
        "colab": {
          "base_uri": "https://localhost:8080/"
        },
        "id": "cBvC_6V8chYY",
        "outputId": "c56dfff3-ae61-4971-b46a-1023bd6373fa"
      },
      "execution_count": null,
      "outputs": [
        {
          "output_type": "stream",
          "name": "stdout",
          "text": [
            "Original DataFrame\n",
            "        name  score  attempts qualify\n",
            "0  Anastasia   12.5         1     yes\n",
            "1       Dima    9.0         3      no\n",
            "2  Katherine   16.5         2     yes\n",
            "3      James    NaN         3      no\n",
            "4      Emily    9.0         2      no\n",
            "5    Michael   20.0         3     yes\n",
            "6    Matthew   14.5         1     yes\n",
            "7      Laura    NaN         1      no\n",
            "8      Kevin    8.0         2      no\n",
            "9      Jonas   19.0         1     yes\n",
            "\n",
            "Set a given value for particular cell in the DataFrame\n",
            "        name  score  attempts qualify\n",
            "0  Anastasia   12.5         1     yes\n",
            "1       Dima    9.0         3      no\n",
            "2  Katherine   16.5         2     yes\n",
            "3      James    NaN         3      no\n",
            "4      Emily    9.0         2      no\n",
            "5    Michael   20.0         3     yes\n",
            "6    Matthew   14.5         1     yes\n",
            "7      Laura    NaN         1      no\n",
            "8      Kevin   10.2         2      no\n",
            "9      Jonas   19.0         1     yes\n"
          ]
        }
      ]
    },
    {
      "cell_type": "code",
      "source": [
        "# Exercise 34\n",
        "# Write a Pandas program to count the NaN values in one or more columns in DataFrame.\n",
        "\n",
        "import pandas as pd\n",
        "import numpy as np\n",
        "exam_data = {'name': ['Anastasia', 'Dima', 'Katherine', 'James', 'Emily', 'Michael', 'Matthew', 'Laura', 'Kevin', 'Jonas'],\n",
        "        'score': [12.5, 9, 16.5, np.nan, 9, 20, 14.5, np.nan, 8, 19],\n",
        "        'attempts': [1, 3, 2, 3, 2, 3, 1, 1, 2, 1],\n",
        "        'qualify': ['yes', 'no', 'yes', 'no', 'no', 'yes', 'yes', 'no', 'no', 'yes']}\n",
        "df = pd.DataFrame(exam_data)\n",
        "print(\"Original DataFrame\")\n",
        "print(df)\n",
        "print(\"\\nNumber of Nan values in one or more columns:\")\n",
        "print(df.isnull().values.sum())"
      ],
      "metadata": {
        "colab": {
          "base_uri": "https://localhost:8080/"
        },
        "id": "nuOy1Pnmeusd",
        "outputId": "0acc5d56-eeef-4c04-dc87-b06f3202d8d6"
      },
      "execution_count": null,
      "outputs": [
        {
          "output_type": "stream",
          "name": "stdout",
          "text": [
            "Original DataFrame\n",
            "        name  score  attempts qualify\n",
            "0  Anastasia   12.5         1     yes\n",
            "1       Dima    9.0         3      no\n",
            "2  Katherine   16.5         2     yes\n",
            "3      James    NaN         3      no\n",
            "4      Emily    9.0         2      no\n",
            "5    Michael   20.0         3     yes\n",
            "6    Matthew   14.5         1     yes\n",
            "7      Laura    NaN         1      no\n",
            "8      Kevin    8.0         2      no\n",
            "9      Jonas   19.0         1     yes\n",
            "\n",
            "Number of Nan values in one or more columns:\n",
            "2\n"
          ]
        }
      ]
    },
    {
      "cell_type": "code",
      "source": [
        "# Exercise 35\n",
        "# Write a Pandas program to drop a list of rows from a specified DataFrame\n",
        "\n",
        "import pandas as pd\n",
        "import numpy as np\n",
        "d = {'col1': [1, 4, 3, 4, 5], 'col2': [4, 5, 6, 7, 8], 'col3': [7, 8, 9, 0, 1]}\n",
        "df = pd.DataFrame(d)\n",
        "print(\"Original DataFrame\")\n",
        "print(d)\n",
        "print(\"New DataFrame after removing 2nd & 4th rows:\")\n",
        "df = df.drop(df.index[[2, 4]])\n",
        "print(df)"
      ],
      "metadata": {
        "colab": {
          "base_uri": "https://localhost:8080/"
        },
        "id": "2UxFOWjyfjTg",
        "outputId": "2ecfa9ba-10dd-404c-f1bc-f6c7d260e855"
      },
      "execution_count": null,
      "outputs": [
        {
          "output_type": "stream",
          "name": "stdout",
          "text": [
            "Original DataFrame\n",
            "{'col1': [1, 4, 3, 4, 5], 'col2': [4, 5, 6, 7, 8], 'col3': [7, 8, 9, 0, 1]}\n",
            "New DataFrame after removing 2nd & 4th rows:\n",
            "   col1  col2  col3\n",
            "0     1     4     7\n",
            "1     4     5     8\n",
            "3     4     7     0\n"
          ]
        }
      ]
    },
    {
      "cell_type": "code",
      "source": [
        "# Exercise 36\n",
        "# Write a Pandas program to reset index in a given DataFrame\n",
        "\n",
        "import pandas as pd\n",
        "import numpy as np\n",
        "exam_data = {'name': ['Anastasia', 'Dima', 'Katherine', 'James', 'Emily', 'Michael', 'Matthew', 'Laura', 'Kevin', 'Jonas'],\n",
        "        'score': [12.5, 9, 16.5, np.nan, 9, 20, 14.5, np.nan, 8, 19],\n",
        "        'attempts': [1, 3, 2, 3, 2, 3, 1, 1, 2, 1],\n",
        "        'qualify': ['yes', 'no', 'yes', 'no', 'no', 'yes', 'yes', 'no', 'no', 'yes']}\n",
        "df = pd.DataFrame(exam_data)\n",
        "print(\"Original DataFrame\")\n",
        "print(df)\n",
        "df = df.drop([0, 1])\n",
        "print(\"\\nAfter removing first and second rows\")\n",
        "print(df)\n",
        "df = df.reset_index()\n",
        "print(\"\\nReset the Index:\")\n",
        "print(df)"
      ],
      "metadata": {
        "colab": {
          "base_uri": "https://localhost:8080/"
        },
        "id": "riRS8mrJghTz",
        "outputId": "fb0efb7e-ab19-4b85-a4fb-e685c1f3d226"
      },
      "execution_count": null,
      "outputs": [
        {
          "output_type": "stream",
          "name": "stdout",
          "text": [
            "Original DataFrame\n",
            "        name  score  attempts qualify\n",
            "0  Anastasia   12.5         1     yes\n",
            "1       Dima    9.0         3      no\n",
            "2  Katherine   16.5         2     yes\n",
            "3      James    NaN         3      no\n",
            "4      Emily    9.0         2      no\n",
            "5    Michael   20.0         3     yes\n",
            "6    Matthew   14.5         1     yes\n",
            "7      Laura    NaN         1      no\n",
            "8      Kevin    8.0         2      no\n",
            "9      Jonas   19.0         1     yes\n",
            "\n",
            "After removing first and second rows\n",
            "        name  score  attempts qualify\n",
            "2  Katherine   16.5         2     yes\n",
            "3      James    NaN         3      no\n",
            "4      Emily    9.0         2      no\n",
            "5    Michael   20.0         3     yes\n",
            "6    Matthew   14.5         1     yes\n",
            "7      Laura    NaN         1      no\n",
            "8      Kevin    8.0         2      no\n",
            "9      Jonas   19.0         1     yes\n",
            "\n",
            "Reset the Index:\n",
            "   index       name  score  attempts qualify\n",
            "0      2  Katherine   16.5         2     yes\n",
            "1      3      James    NaN         3      no\n",
            "2      4      Emily    9.0         2      no\n",
            "3      5    Michael   20.0         3     yes\n",
            "4      6    Matthew   14.5         1     yes\n",
            "5      7      Laura    NaN         1      no\n",
            "6      8      Kevin    8.0         2      no\n",
            "7      9      Jonas   19.0         1     yes\n"
          ]
        }
      ]
    },
    {
      "cell_type": "code",
      "source": [
        "# Exercise 37\n",
        "# Write a Pandas program to divide a DataFrame in a given ratio.\n",
        "\n",
        "import pandas as pd\n",
        "import numpy as np\n",
        "df = pd.DataFrame(np.random.randn(10, 2))\n",
        "print(\"Original DataFrame:\")\n",
        "print(df)\n",
        "part_70 = df.sample(frac=0.7,random_state=10)\n",
        "part_30 = df.drop(part_70.index)\n",
        "print(\"\\n70% of the said DataFrame:\")\n",
        "print(part_70)\n",
        "print(\"\\n30% of the said DataFrame:\")\n",
        "print(part_30)"
      ],
      "metadata": {
        "colab": {
          "base_uri": "https://localhost:8080/"
        },
        "id": "rw-wJjALiEyo",
        "outputId": "e195ba1a-ba0d-4396-f834-bfdd3e4d73de"
      },
      "execution_count": null,
      "outputs": [
        {
          "output_type": "stream",
          "name": "stdout",
          "text": [
            "Original DataFrame:\n",
            "          0         1\n",
            "0  1.720540  1.450763\n",
            "1 -0.808094 -0.903430\n",
            "2 -0.463880 -0.634843\n",
            "3  0.577527 -0.260568\n",
            "4 -0.255414  0.341467\n",
            "5 -0.470634  1.059052\n",
            "6 -0.990689 -1.645609\n",
            "7 -0.149227 -0.187112\n",
            "8 -1.063133  0.001274\n",
            "9  0.148831  0.170209\n",
            "\n",
            "70% of the said DataFrame:\n",
            "          0         1\n",
            "8 -1.063133  0.001274\n",
            "2 -0.463880 -0.634843\n",
            "5 -0.470634  1.059052\n",
            "6 -0.990689 -1.645609\n",
            "3  0.577527 -0.260568\n",
            "1 -0.808094 -0.903430\n",
            "0  1.720540  1.450763\n",
            "\n",
            "30% of the said DataFrame:\n",
            "          0         1\n",
            "4 -0.255414  0.341467\n",
            "7 -0.149227 -0.187112\n",
            "9  0.148831  0.170209\n"
          ]
        }
      ]
    },
    {
      "cell_type": "code",
      "source": [
        "# Exercise 38\n",
        "# Write a Pandas program to combining two series into a DataFrame.\n",
        "\n",
        "import pandas as pd\n",
        "import numpy as np\n",
        "s1 = pd.Series(['100', '200', 'python', '300.12', '400'])\n",
        "s2 = pd.Series(['10', '20', 'php', '30.12', '40'])\n",
        "print(\"Data Series:\")\n",
        "print(s1)\n",
        "print(s2)\n",
        "df = pd.concat([s1, s2], axis = 1)\n",
        "print(\"New DataFrame combining two series:\")\n",
        "print(df)\n"
      ],
      "metadata": {
        "colab": {
          "base_uri": "https://localhost:8080/"
        },
        "id": "AlodhESBiOjO",
        "outputId": "4c1e56d2-085f-4774-8cc8-979ccffd7a15"
      },
      "execution_count": null,
      "outputs": [
        {
          "output_type": "stream",
          "name": "stdout",
          "text": [
            "Data Series:\n",
            "0       100\n",
            "1       200\n",
            "2    python\n",
            "3    300.12\n",
            "4       400\n",
            "dtype: object\n",
            "0       10\n",
            "1       20\n",
            "2      php\n",
            "3    30.12\n",
            "4       40\n",
            "dtype: object\n",
            "New DataFrame combining two series:\n",
            "        0      1\n",
            "0     100     10\n",
            "1     200     20\n",
            "2  python    php\n",
            "3  300.12  30.12\n",
            "4     400     40\n"
          ]
        }
      ]
    },
    {
      "cell_type": "code",
      "source": [
        "# Exercise 39\n",
        "# Write a Pandas program to shuffle a given DataFrame rows.\n",
        "\n",
        "import pandas as pd\n",
        "import numpy as np\n",
        "exam_data = {'name': ['Anastasia', 'Dima', 'Katherine', 'James', 'Emily', 'Michael', 'Matthew', 'Laura', 'Kevin', 'Jonas'],\n",
        "        'score': [12.5, 9, 16.5, np.nan, 9, 20, 14.5, np.nan, 8, 19],\n",
        "        'attempts': [1, 3, 2, 3, 2, 3, 1, 1, 2, 1],\n",
        "        'qualify': ['yes', 'no', 'yes', 'no', 'no', 'yes', 'yes', 'no', 'no', 'yes']}\n",
        "df = pd.DataFrame(exam_data)\n",
        "print(\"Original DataFrame:\")\n",
        "print(df)\n",
        "df = df.sample(frac = 1)\n",
        "print(\"\\nNew DataFrame:\")\n",
        "print(df)"
      ],
      "metadata": {
        "colab": {
          "base_uri": "https://localhost:8080/"
        },
        "id": "w8F2KImjBsUc",
        "outputId": "b6c55e36-e8ec-4eca-c93f-35aecd7bc11a"
      },
      "execution_count": null,
      "outputs": [
        {
          "output_type": "stream",
          "name": "stdout",
          "text": [
            "Original DataFrame:\n",
            "        name  score  attempts qualify\n",
            "0  Anastasia   12.5         1     yes\n",
            "1       Dima    9.0         3      no\n",
            "2  Katherine   16.5         2     yes\n",
            "3      James    NaN         3      no\n",
            "4      Emily    9.0         2      no\n",
            "5    Michael   20.0         3     yes\n",
            "6    Matthew   14.5         1     yes\n",
            "7      Laura    NaN         1      no\n",
            "8      Kevin    8.0         2      no\n",
            "9      Jonas   19.0         1     yes\n",
            "\n",
            "New DataFrame:\n",
            "        name  score  attempts qualify\n",
            "6    Matthew   14.5         1     yes\n",
            "3      James    NaN         3      no\n",
            "5    Michael   20.0         3     yes\n",
            "8      Kevin    8.0         2      no\n",
            "9      Jonas   19.0         1     yes\n",
            "7      Laura    NaN         1      no\n",
            "4      Emily    9.0         2      no\n",
            "0  Anastasia   12.5         1     yes\n",
            "1       Dima    9.0         3      no\n",
            "2  Katherine   16.5         2     yes\n"
          ]
        }
      ]
    },
    {
      "cell_type": "code",
      "source": [
        "# Exercise 40\n",
        "# Write a Pandas program to convert DataFrame column type from string to datetime\n",
        "\n",
        "import pandas as pd\n",
        "import numpy as np\n",
        "s = pd.Series(['3/11/2000', '3/12/2000', '3/13/2000'])\n",
        "print(\"String Date:\")\n",
        "print(s)\n",
        "r = pd.to_datetime(pd.Series(s))\n",
        "df = pd.DataFrame(r)\n",
        "print(\"Original DataFrame (string to datetime):\")\n",
        "print(df)\n"
      ],
      "metadata": {
        "colab": {
          "base_uri": "https://localhost:8080/"
        },
        "id": "-pHVZl8zCbJu",
        "outputId": "23d11b0b-154a-4749-f34f-7ce40b141c03"
      },
      "execution_count": null,
      "outputs": [
        {
          "output_type": "stream",
          "name": "stdout",
          "text": [
            "String Date:\n",
            "0    3/11/2000\n",
            "1    3/12/2000\n",
            "2    3/13/2000\n",
            "dtype: object\n",
            "Original DataFrame (string to datetime):\n",
            "           0\n",
            "0 2000-03-11\n",
            "1 2000-03-12\n",
            "2 2000-03-13\n"
          ]
        }
      ]
    },
    {
      "cell_type": "code",
      "source": [
        "# Exercise 41\n",
        "# Write a Pandas program to rename a specific column name in a given DataFrame\n",
        "\n",
        "import pandas as pd\n",
        "d = {'col1': [1, 2, 3], 'col2': [4, 5, 6], 'col3': [7, 8, 9]}\n",
        "df = pd.DataFrame(d)\n",
        "print(\"Original DataFrame\")\n",
        "print(df)\n",
        "df = df.rename(columns = {'col2': 'Column2'})\n",
        "print(\"New DataFrame after renaming second column:\")\n",
        "print(df)"
      ],
      "metadata": {
        "colab": {
          "base_uri": "https://localhost:8080/"
        },
        "id": "YuTila9uD7Pr",
        "outputId": "9fce7898-a106-4a06-fd1d-d3f45947926b"
      },
      "execution_count": null,
      "outputs": [
        {
          "output_type": "stream",
          "name": "stdout",
          "text": [
            "Original DataFrame\n",
            "   col1  col2  col3\n",
            "0     1     4     7\n",
            "1     2     5     8\n",
            "2     3     6     9\n",
            "New DataFrame after renaming second column:\n",
            "   col1  Column2  col3\n",
            "0     1        4     7\n",
            "1     2        5     8\n",
            "2     3        6     9\n"
          ]
        }
      ]
    },
    {
      "cell_type": "code",
      "source": [
        "# Exercise 42\n",
        "# Write a Pandas program to get a list of a specified column of a DataFrame\n",
        "\n",
        "import pandas as pd\n",
        "d = {'col1': [1, 2, 3], 'col2': [4, 5, 6], 'col3': [7, 8, 9]}\n",
        "df = pd.DataFrame(d)\n",
        "print(\"Original DataFrame\")\n",
        "print(df)\n",
        "col2_list = df['col2'].tolist()\n",
        "print(\"Col2 of the DataFrame to list:\")\n",
        "print(col2_list)"
      ],
      "metadata": {
        "colab": {
          "base_uri": "https://localhost:8080/"
        },
        "id": "_3Ml9j1mFHbU",
        "outputId": "13b8f53d-8325-437d-cc95-94e71bc16e36"
      },
      "execution_count": null,
      "outputs": [
        {
          "output_type": "stream",
          "name": "stdout",
          "text": [
            "Original DataFrame\n",
            "   col1  col2  col3\n",
            "0     1     4     7\n",
            "1     2     5     8\n",
            "2     3     6     9\n",
            "Col2 of the DataFrame to list:\n",
            "[4, 5, 6]\n"
          ]
        }
      ]
    },
    {
      "cell_type": "code",
      "source": [
        "# Exercise 43\n",
        "# Write a Pandas program to create a DataFrame from a Numpy array and specify the index column and column\n",
        "\n",
        "import pandas\n",
        "import numpy\n",
        "dtype = [('Column1','int32'), ('Column2','float32'), ('Column3','float32')]\n",
        "values = numpy.zeros(15, dtype=dtype)\n",
        "index = ['Index'+str(i) for i in range(1, len(values)+1)]\n",
        "df = pandas.DataFrame(values, index=index)\n",
        "print(df)"
      ],
      "metadata": {
        "colab": {
          "base_uri": "https://localhost:8080/"
        },
        "id": "dw6PyamCGuBR",
        "outputId": "b8f7f0a4-529d-4af0-8ef4-0dcca80263de"
      },
      "execution_count": null,
      "outputs": [
        {
          "output_type": "stream",
          "name": "stdout",
          "text": [
            "         Column1  Column2  Column3\n",
            "Index1         0      0.0      0.0\n",
            "Index2         0      0.0      0.0\n",
            "Index3         0      0.0      0.0\n",
            "Index4         0      0.0      0.0\n",
            "Index5         0      0.0      0.0\n",
            "Index6         0      0.0      0.0\n",
            "Index7         0      0.0      0.0\n",
            "Index8         0      0.0      0.0\n",
            "Index9         0      0.0      0.0\n",
            "Index10        0      0.0      0.0\n",
            "Index11        0      0.0      0.0\n",
            "Index12        0      0.0      0.0\n",
            "Index13        0      0.0      0.0\n",
            "Index14        0      0.0      0.0\n",
            "Index15        0      0.0      0.0\n"
          ]
        }
      ]
    },
    {
      "cell_type": "code",
      "source": [
        "# Exercise 44\n",
        "# Write a Pandas program to find the row for where the value of a given column is maximum.\n",
        "\n",
        "import pandas as pd\n",
        "d = {'col1': [1, 2, 3, 4, 7], 'col2': [4, 5, 6, 9, 5], 'col3': [7, 8, 12, 1, 11]}\n",
        "df = pd.DataFrame(d)\n",
        "print(\"Original DataFrame\")\n",
        "print(df)\n",
        "print(\"Row where col1 has maximum value:\")\n",
        "print(df['col1'].argmax())\n",
        "print(\"Row where col2 has maximum value:\")\n",
        "print(df['col2'].argmax())\n",
        "print(\"Row where col3 has maximum value:\")\n",
        "print(df['col3'].argmax())"
      ],
      "metadata": {
        "colab": {
          "base_uri": "https://localhost:8080/"
        },
        "id": "fbr4FdI_HuVy",
        "outputId": "077d5f9e-a5ff-4479-d6c2-205f2c100e97"
      },
      "execution_count": null,
      "outputs": [
        {
          "output_type": "stream",
          "name": "stdout",
          "text": [
            "Original DataFrame\n",
            "   col1  col2  col3\n",
            "0     1     4     7\n",
            "1     2     5     8\n",
            "2     3     6    12\n",
            "3     4     9     1\n",
            "4     7     5    11\n",
            "Row where col1 has maximum value:\n",
            "4\n",
            "Row where col2 has maximum value:\n",
            "3\n",
            "Row where col3 has maximum value:\n",
            "2\n"
          ]
        }
      ]
    },
    {
      "cell_type": "code",
      "source": [
        "# Exercise 45\n",
        "# Write a Pandas program to get the specified row value of a given DataFrame.\n",
        "\n",
        "import pandas as pd\n",
        "d = {'col1': [1, 2, 3, 4, 7], 'col2': [4, 5, 6, 9, 5], 'col3': [7, 8, 12, 1, 11]}\n",
        "df = pd.DataFrame(d)\n",
        "print(\"Original DataFrame\")\n",
        "print(df)\n",
        "print(\"Value of Row1\")\n",
        "print(df.iloc[0])\n",
        "print(\"Value of Row4\")\n",
        "print(df.iloc[3])"
      ],
      "metadata": {
        "colab": {
          "base_uri": "https://localhost:8080/"
        },
        "id": "7Yk6WsCZLAaA",
        "outputId": "13472318-5f4f-4c24-9b67-660bfaccc4ae"
      },
      "execution_count": null,
      "outputs": [
        {
          "output_type": "stream",
          "name": "stdout",
          "text": [
            "Original DataFrame\n",
            "   col1  col2  col3\n",
            "0     1     4     7\n",
            "1     2     5     8\n",
            "2     3     6    12\n",
            "3     4     9     1\n",
            "4     7     5    11\n",
            "Value of Row1\n",
            "col1    1\n",
            "col2    4\n",
            "col3    7\n",
            "Name: 0, dtype: int64\n",
            "Value of Row4\n",
            "col1    4\n",
            "col2    9\n",
            "col3    1\n",
            "Name: 3, dtype: int64\n"
          ]
        }
      ]
    },
    {
      "cell_type": "code",
      "source": [
        "# Exercise 46\n",
        "# Write a Pandas program to check whether a given columnn is present in a DataFrame or not.\n",
        "\n",
        "import pandas as pd\n",
        "d = {'col1': [1, 2, 3, 4, 7], 'col2': [4, 5, 6, 9, 5], 'col3': [7, 8, 12, 1, 11]}\n",
        "df = pd.DataFrame(d)\n",
        "print(\"Original DataFrame\")\n",
        "print(df)\n",
        "if 'col1' in df.columns:\n",
        "  print(\"Col1 is present in DataFrame.\")\n",
        "else:\n",
        "  print(\"Col1 is not present in DataFrame.\")\n",
        "\n",
        "if 'col4' in df.columns:\n",
        "  print(\"Col4 is present in DataFrame.\")\n",
        "else:\n",
        "  print(\"Col4 is not present in DataFrame.\")\n",
        "\n"
      ],
      "metadata": {
        "colab": {
          "base_uri": "https://localhost:8080/"
        },
        "id": "ceUmTQrpL90r",
        "outputId": "e94ff2c1-990e-45f8-fe93-d2e9c4940296"
      },
      "execution_count": null,
      "outputs": [
        {
          "output_type": "stream",
          "name": "stdout",
          "text": [
            "Original DataFrame\n",
            "   col1  col2  col3\n",
            "0     1     4     7\n",
            "1     2     5     8\n",
            "2     3     6    12\n",
            "3     4     9     1\n",
            "4     7     5    11\n",
            "Col1 is present in DataFrame.\n",
            "Col4 is not present in DataFrame.\n"
          ]
        }
      ]
    },
    {
      "cell_type": "code",
      "source": [
        "# Exercise 47\n",
        "# Write a Pandas program to get the datatypes of columns of a DataFrame\n",
        "\n",
        "import pandas as pd\n",
        "import numpy as np\n",
        "exam_data = {'name': ['Anastasia', 'Dima', 'Katherine', 'James', 'Emily', 'Michael', 'Matthew', 'Laura', 'Kevin', 'Jonas'],\n",
        "        'score': [12.5, 9, 16.5, np.nan, 9, 20, 14.5, np.nan, 8, 19],\n",
        "        'attempts': [1, 3, 2, 3, 2, 3, 1, 1, 2, 1],\n",
        "        'qualify': ['yes', 'no', 'yes', 'no', 'no', 'yes', 'yes', 'no', 'no', 'yes']}\n",
        "df = pd.DataFrame(exam_data)\n",
        "print(\"Original DataFrame:\")\n",
        "print(df)\n",
        "print(\"Data types of the columns of the said DataFrame:\")\n",
        "print(df.dtypes)"
      ],
      "metadata": {
        "colab": {
          "base_uri": "https://localhost:8080/"
        },
        "id": "5T4OGrlMNvf6",
        "outputId": "06b3eac4-e90f-4ef3-e449-2623bfef6c99"
      },
      "execution_count": null,
      "outputs": [
        {
          "output_type": "stream",
          "name": "stdout",
          "text": [
            "Original DataFrame:\n",
            "        name  score  attempts qualify\n",
            "0  Anastasia   12.5         1     yes\n",
            "1       Dima    9.0         3      no\n",
            "2  Katherine   16.5         2     yes\n",
            "3      James    NaN         3      no\n",
            "4      Emily    9.0         2      no\n",
            "5    Michael   20.0         3     yes\n",
            "6    Matthew   14.5         1     yes\n",
            "7      Laura    NaN         1      no\n",
            "8      Kevin    8.0         2      no\n",
            "9      Jonas   19.0         1     yes\n",
            "Data types of the columns of the said DataFrame:\n",
            "name         object\n",
            "score       float64\n",
            "attempts      int64\n",
            "qualify      object\n",
            "dtype: object\n"
          ]
        }
      ]
    },
    {
      "cell_type": "code",
      "source": [
        "# Exercise 49\n",
        "# Write a Pandas program to sort a given DatFrame by two or more columns.\n",
        "\n",
        "import pandas as pd\n",
        "import numpy as np\n",
        "exam_data = {'name': ['Anastasia', 'Dima', 'Katherine', 'James', 'Emily', 'Michael', 'Matthew', 'Laura', 'Kevin', 'Jonas'],\n",
        "        'score': [12.5, 9, 16.5, np.nan, 9, 20, 14.5, np.nan, 8, 19],\n",
        "        'attempts': [1, 3, 2, 3, 2, 3, 1, 1, 2, 1],\n",
        "        'qualify': ['yes', 'no', 'yes', 'no', 'no', 'yes', 'yes', 'no', 'no', 'yes']}\n",
        "df = pd.DataFrame(exam_data)\n",
        "print(\"Original DataFrame:\")\n",
        "print(df)\n",
        "df = df.sort_values(['attempts', 'name'], ascending = [True, True])\n",
        "print(\"\\nSort the above DataFrame based on attempts, name:\")\n",
        "print(df)\n",
        "\n"
      ],
      "metadata": {
        "colab": {
          "base_uri": "https://localhost:8080/"
        },
        "id": "WKwBEiuXRAbd",
        "outputId": "54985fd4-69e5-4516-b129-3759aac0a9dd"
      },
      "execution_count": null,
      "outputs": [
        {
          "output_type": "stream",
          "name": "stdout",
          "text": [
            "Original DataFrame:\n",
            "        name  score  attempts qualify\n",
            "0  Anastasia   12.5         1     yes\n",
            "1       Dima    9.0         3      no\n",
            "2  Katherine   16.5         2     yes\n",
            "3      James    NaN         3      no\n",
            "4      Emily    9.0         2      no\n",
            "5    Michael   20.0         3     yes\n",
            "6    Matthew   14.5         1     yes\n",
            "7      Laura    NaN         1      no\n",
            "8      Kevin    8.0         2      no\n",
            "9      Jonas   19.0         1     yes\n",
            "\n",
            "Sort the above DataFrame based on attempts, name:\n",
            "        name  score  attempts qualify\n",
            "0  Anastasia   12.5         1     yes\n",
            "9      Jonas   19.0         1     yes\n",
            "7      Laura    NaN         1      no\n",
            "6    Matthew   14.5         1     yes\n",
            "4      Emily    9.0         2      no\n",
            "2  Katherine   16.5         2     yes\n",
            "8      Kevin    8.0         2      no\n",
            "1       Dima    9.0         3      no\n",
            "3      James    NaN         3      no\n",
            "5    Michael   20.0         3     yes\n"
          ]
        }
      ]
    },
    {
      "cell_type": "code",
      "source": [
        "# Exercise 50\n",
        "# Write a Pandas program to convert the datatype of a given column(float to ints)\n",
        "\n",
        "import pandas as pd\n",
        "import numpy as np\n",
        "exam_data = {'name': ['Anastasia', 'Dima', 'Katherine', 'James', 'Emily', 'Michael', 'Matthew', 'Laura', 'Kevin', 'Jonas'],\n",
        "        'score': [12.5, 9.1, 16.5, 12.77, 9.21, 20.22, 14.5, 11.34, 8.8, 19.13],\n",
        "        'attempts': [1, 3, 2, 3, 2, 3, 1, 1, 2, 1],\n",
        "        'qualify': ['yes', 'no', 'yes', 'no', 'no', 'yes', 'yes', 'no', 'no', 'yes']}\n",
        "df = pd.DataFrame(exam_data)\n",
        "print(\"Original DataFrame:\")\n",
        "print(df)\n",
        "print(\"\\nData types of the columns of the said DataFrame:\")\n",
        "print(df.dtypes)\n",
        "print(\"\\nNow change the Data type of 'score' column from float to int:\")\n",
        "df.score = df.score.astype(int)\n",
        "print(df)\n",
        "print(\"\\nData types of the columns of the DataFrame now:\")\n",
        "print(df.dtypes)\n"
      ],
      "metadata": {
        "colab": {
          "base_uri": "https://localhost:8080/"
        },
        "id": "CLGxOxvPSruc",
        "outputId": "eb7f43c6-4dbc-444c-c02c-0472487eb47e"
      },
      "execution_count": null,
      "outputs": [
        {
          "output_type": "stream",
          "name": "stdout",
          "text": [
            "Original DataFrame:\n",
            "        name  score  attempts qualify\n",
            "0  Anastasia  12.50         1     yes\n",
            "1       Dima   9.10         3      no\n",
            "2  Katherine  16.50         2     yes\n",
            "3      James  12.77         3      no\n",
            "4      Emily   9.21         2      no\n",
            "5    Michael  20.22         3     yes\n",
            "6    Matthew  14.50         1     yes\n",
            "7      Laura  11.34         1      no\n",
            "8      Kevin   8.80         2      no\n",
            "9      Jonas  19.13         1     yes\n",
            "\n",
            "Data types of the columns of the said DataFrame:\n",
            "name         object\n",
            "score       float64\n",
            "attempts      int64\n",
            "qualify      object\n",
            "dtype: object\n",
            "\n",
            "Now change the Data type of 'score' column from float to int:\n",
            "        name  score  attempts qualify\n",
            "0  Anastasia     12         1     yes\n",
            "1       Dima      9         3      no\n",
            "2  Katherine     16         2     yes\n",
            "3      James     12         3      no\n",
            "4      Emily      9         2      no\n",
            "5    Michael     20         3     yes\n",
            "6    Matthew     14         1     yes\n",
            "7      Laura     11         1      no\n",
            "8      Kevin      8         2      no\n",
            "9      Jonas     19         1     yes\n",
            "\n",
            "Data types of the columns of the DataFrame now:\n",
            "name        object\n",
            "score        int64\n",
            "attempts     int64\n",
            "qualify     object\n",
            "dtype: object\n"
          ]
        }
      ]
    },
    {
      "cell_type": "code",
      "source": [
        "# Exercise 51\n",
        "# Write a Pandas program to remove infinite values from a given DataFrame\n",
        "\n",
        "import pandas as pd\n",
        "import numpy as np\n",
        "df = pd.DataFrame([1000, 2000, 3000, -4000, np.inf, -np.inf, np.nan])\n",
        "print(\"Original DataFrame:\")\n",
        "print(df)\n",
        "df = df.replace([np.inf, -np.inf], np.nan)\n",
        "print(\"Removing infinite values:\")\n",
        "print(df)"
      ],
      "metadata": {
        "colab": {
          "base_uri": "https://localhost:8080/"
        },
        "id": "sygTbPOAVAZe",
        "outputId": "83a2a344-35b2-45e2-eeb5-dc4ebb1db31a"
      },
      "execution_count": null,
      "outputs": [
        {
          "output_type": "stream",
          "name": "stdout",
          "text": [
            "Original DataFrame:\n",
            "        0\n",
            "0  1000.0\n",
            "1  2000.0\n",
            "2  3000.0\n",
            "3 -4000.0\n",
            "4     inf\n",
            "5    -inf\n",
            "6     NaN\n",
            "Removing infinite values:\n",
            "        0\n",
            "0  1000.0\n",
            "1  2000.0\n",
            "2  3000.0\n",
            "3 -4000.0\n",
            "4     NaN\n",
            "5     NaN\n",
            "6     NaN\n"
          ]
        }
      ]
    },
    {
      "cell_type": "code",
      "source": [
        "# Exercise 52\n",
        "# Write a Pandas program to insert a given column at a specific column index in a DataFrame\n",
        "\n",
        "import pandas as pd\n",
        "d = {'col2': [4, 5, 6, 9, 5], 'col3': [7, 8, 12, 1, 11]}\n",
        "df = pd.DataFrame(data=d)\n",
        "print(\"Original DataFrame\")\n",
        "print(df)\n",
        "new_col = [1, 2, 3, 4, 7]\n",
        "# insert the said column at the beginning in the DataFrame\n",
        "idx = 0\n",
        "df.insert(loc=idx, column='col1', value=new_col)\n",
        "print(\"\\nNew DataFrame\")\n",
        "print(df)"
      ],
      "metadata": {
        "colab": {
          "base_uri": "https://localhost:8080/"
        },
        "id": "9HIne6RIWKuG",
        "outputId": "19709fc0-3857-40af-81b3-747525e6d570"
      },
      "execution_count": null,
      "outputs": [
        {
          "output_type": "stream",
          "name": "stdout",
          "text": [
            "Original DataFrame\n",
            "   col2  col3\n",
            "0     4     7\n",
            "1     5     8\n",
            "2     6    12\n",
            "3     9     1\n",
            "4     5    11\n",
            "\n",
            "New DataFrame\n",
            "   col1  col2  col3\n",
            "0     1     4     7\n",
            "1     2     5     8\n",
            "2     3     6    12\n",
            "3     4     9     1\n",
            "4     7     5    11\n"
          ]
        }
      ]
    },
    {
      "cell_type": "code",
      "source": [
        "# Exercise 53\n",
        "# Write a Pandas program to convert a given list of lists into a Dataframe.\n",
        "\n",
        "import pandas as pd\n",
        "my_lists = [['col1', 'col2'], [2, 4], [1, 3]]\n",
        "# sets the headers as list\n",
        "headers = my_lists.pop(0)\n",
        "print(\"Original list of lists:\")\n",
        "print(my_lists)\n",
        "df = pd.DataFrame(my_lists, columns = headers)\n",
        "print(\"New DataFrame\")\n",
        "print(df)\n",
        "\n"
      ],
      "metadata": {
        "colab": {
          "base_uri": "https://localhost:8080/"
        },
        "id": "ocfL5ZD9Xy8J",
        "outputId": "4bbfce2b-271f-47c4-96c9-92b190d84798"
      },
      "execution_count": null,
      "outputs": [
        {
          "output_type": "stream",
          "name": "stdout",
          "text": [
            "Original list of lists:\n",
            "[[2, 4], [1, 3]]\n",
            "New DataFrame\n",
            "   col1  col2\n",
            "0     2     4\n",
            "1     1     3\n"
          ]
        }
      ]
    },
    {
      "cell_type": "code",
      "source": [
        "# Exercise 54\n",
        "# Write a Pandas program to group by the first column and get second column as lists in rows.\n",
        "\n",
        "import pandas as pd\n",
        "df = pd.DataFrame( {'col1':['C1','C1','C2','C2','C2','C3','C2'], 'col2':[1,2,3,3,4,6,5]})\n",
        "print(\"Original DataFrame\")\n",
        "print(df)\n",
        "df = df.groupby('col1')['col2'].apply(list)\n",
        "print(\"\\nGroup on the col1:\")\n",
        "print(df)"
      ],
      "metadata": {
        "colab": {
          "base_uri": "https://localhost:8080/"
        },
        "id": "C-wOZoRcYGXR",
        "outputId": "b6dda0b3-3f0a-43d9-9c99-bf3ff5a74822"
      },
      "execution_count": null,
      "outputs": [
        {
          "output_type": "stream",
          "name": "stdout",
          "text": [
            "Original DataFrame\n",
            "  col1  col2\n",
            "0   C1     1\n",
            "1   C1     2\n",
            "2   C2     3\n",
            "3   C2     3\n",
            "4   C2     4\n",
            "5   C3     6\n",
            "6   C2     5\n",
            "\n",
            "Group on the col1:\n",
            "col1\n",
            "C1          [1, 2]\n",
            "C2    [3, 3, 4, 5]\n",
            "C3             [6]\n",
            "Name: col2, dtype: object\n"
          ]
        }
      ]
    },
    {
      "cell_type": "code",
      "source": [
        "# Exercise 55\n",
        "# Write a Pandas program to get column index from column name of a given DataFrame.\n",
        "\n",
        "import pandas as pd\n",
        "d = {'col1': [1, 2, 3, 4, 7], 'col2': [4, 5, 6, 9, 5], 'col3': [7, 8, 12, 1, 11]}\n",
        "df = pd.DataFrame(d)\n",
        "print(\"Original DataFrame\")\n",
        "print(df)\n",
        "print(\"\\nIndex of 'col2'\")\n",
        "print(df.columns.get_loc('col2'))"
      ],
      "metadata": {
        "colab": {
          "base_uri": "https://localhost:8080/"
        },
        "id": "MPzpHhdaaCdY",
        "outputId": "6fba0787-4513-4810-f6a7-7ce2190f4c6b"
      },
      "execution_count": null,
      "outputs": [
        {
          "output_type": "stream",
          "name": "stdout",
          "text": [
            "Original DataFrame\n",
            "   col1  col2  col3\n",
            "0     1     4     7\n",
            "1     2     5     8\n",
            "2     3     6    12\n",
            "3     4     9     1\n",
            "4     7     5    11\n",
            "\n",
            "Index of 'col2'\n",
            "1\n"
          ]
        }
      ]
    },
    {
      "cell_type": "code",
      "source": [
        "# Exercise 56\n",
        "# Write a Pandas program to count number of columns of a DataFrame.\n",
        "\n",
        "import pandas as pd\n",
        "d = {'col1': [1, 2, 3, 4, 7], 'col2': [4, 5, 6, 9, 5], 'col3': [7, 8, 12, 1, 11]}\n",
        "df = pd.DataFrame(d)\n",
        "print(\"Original DataFrame\")\n",
        "print(df)\n",
        "print(\"\\nNumber of columns:\")\n",
        "print(len(df.columns))"
      ],
      "metadata": {
        "colab": {
          "base_uri": "https://localhost:8080/"
        },
        "id": "TsBueFZ2a1vW",
        "outputId": "8c803314-194c-4039-c982-5e5509d52746"
      },
      "execution_count": null,
      "outputs": [
        {
          "output_type": "stream",
          "name": "stdout",
          "text": [
            "Original DataFrame\n",
            "   col1  col2  col3\n",
            "0     1     4     7\n",
            "1     2     5     8\n",
            "2     3     6    12\n",
            "3     4     9     1\n",
            "4     7     5    11\n",
            "\n",
            "Number of columns:\n",
            "3\n"
          ]
        }
      ]
    },
    {
      "cell_type": "code",
      "source": [
        "# Exercise 57\n",
        "# Write a Pandas program to select all columns, except one given column in a DataFrame.\n",
        "\n",
        "import pandas as pd\n",
        "d = {'col1': [1, 2, 3, 4, 7], 'col2': [4, 5, 6, 9, 5], 'col3': [7, 8, 12, 1, 11]}\n",
        "df = pd.DataFrame(data=d)\n",
        "print(\"Original DataFrame\")\n",
        "print(df)\n",
        "print(\"\\nAll columns except 'col3':\")\n",
        "df = df.loc[:, df.columns != 'col3']\n",
        "print(df)"
      ],
      "metadata": {
        "colab": {
          "base_uri": "https://localhost:8080/"
        },
        "id": "sBuZ1UXucRu0",
        "outputId": "eaf26163-9197-49d0-ea94-eab0e89c8d7d"
      },
      "execution_count": null,
      "outputs": [
        {
          "output_type": "stream",
          "name": "stdout",
          "text": [
            "Original DataFrame\n",
            "   col1  col2  col3\n",
            "0     1     4     7\n",
            "1     2     5     8\n",
            "2     3     6    12\n",
            "3     4     9     1\n",
            "4     7     5    11\n",
            "\n",
            "All columns except 'col3':\n",
            "   col1  col2\n",
            "0     1     4\n",
            "1     2     5\n",
            "2     3     6\n",
            "3     4     9\n",
            "4     7     5\n"
          ]
        }
      ]
    },
    {
      "cell_type": "code",
      "source": [
        "# Exercise 58\n",
        "# Write a Pandas program to get first n rows of a DataFrame.\n",
        "\n",
        "import pandas as pd\n",
        "d = {'col1': [1, 2, 3, 4, 7, 11], 'col2': [4, 5, 6, 9, 5, 0], 'col3': [7, 5, 8, 12, 1,11]}\n",
        "df = pd.DataFrame(data = d)\n",
        "print(\"Original DataFrame\")\n",
        "print(df)\n",
        "print(\"\\nFirst three rows of the said DataFrame':\")\n",
        "df1 = df.head(3)\n",
        "print(df1)"
      ],
      "metadata": {
        "colab": {
          "base_uri": "https://localhost:8080/"
        },
        "id": "rvAxTwItceib",
        "outputId": "410ef092-e5cd-4bdb-8b4f-1cef5bf0af8f"
      },
      "execution_count": null,
      "outputs": [
        {
          "output_type": "stream",
          "name": "stdout",
          "text": [
            "Original DataFrame\n",
            "   col1  col2  col3\n",
            "0     1     4     7\n",
            "1     2     5     5\n",
            "2     3     6     8\n",
            "3     4     9    12\n",
            "4     7     5     1\n",
            "5    11     0    11\n",
            "\n",
            "First three rows of the said DataFrame':\n",
            "   col1  col2  col3\n",
            "0     1     4     7\n",
            "1     2     5     5\n",
            "2     3     6     8\n"
          ]
        }
      ]
    },
    {
      "cell_type": "code",
      "source": [
        "# Exercise 59\n",
        "# Write a Pandas program to get last n rows of a DataFrame.\n",
        "\n",
        "import pandas as pd\n",
        "d = {'col1': [1, 2, 3, 4, 7, 11], 'col2': [4, 5, 6, 9, 5, 0], 'col3': [7, 5, 8, 12, 1,11]}\n",
        "df = pd.DataFrame(data = d)\n",
        "print(\"Original DataFrame\")\n",
        "print(df)\n",
        "print(\"\\nLast three rows of the said DataFrame':\")\n",
        "df1 = df.tail(3)\n",
        "print(df1)"
      ],
      "metadata": {
        "colab": {
          "base_uri": "https://localhost:8080/"
        },
        "id": "VHtF92k4dRpo",
        "outputId": "32420fd9-28b3-4387-f64c-d8c4b957ef19"
      },
      "execution_count": null,
      "outputs": [
        {
          "output_type": "stream",
          "name": "stdout",
          "text": [
            "Original DataFrame\n",
            "   col1  col2  col3\n",
            "0     1     4     7\n",
            "1     2     5     5\n",
            "2     3     6     8\n",
            "3     4     9    12\n",
            "4     7     5     1\n",
            "5    11     0    11\n",
            "\n",
            "Last three rows of the said DataFrame':\n",
            "   col1  col2  col3\n",
            "3     4     9    12\n",
            "4     7     5     1\n",
            "5    11     0    11\n"
          ]
        }
      ]
    },
    {
      "cell_type": "code",
      "source": [
        "# Exercise 60\n",
        "# Write a Pandas program to remove first n rows of a given DataFrame.\n",
        "\n",
        "import pandas as pd\n",
        "d = {'col1': [1, 2, 3, 4, 7, 11], 'col2': [4, 5, 6, 9, 5, 0], 'col3': [7, 5, 8, 12, 1,11]}\n",
        "df = pd.DataFrame(data=d)\n",
        "print(\"Original DataFrame\")\n",
        "print(df)\n",
        "print(\"\\nAfter removing first 3 rows of the said DataFrame:\")\n",
        "df1 = df.iloc[3:]\n",
        "print(df1)"
      ],
      "metadata": {
        "colab": {
          "base_uri": "https://localhost:8080/"
        },
        "id": "A8fLGaKmeCOG",
        "outputId": "25ebc46a-e400-4367-9844-ef97f9c368a1"
      },
      "execution_count": null,
      "outputs": [
        {
          "output_type": "stream",
          "name": "stdout",
          "text": [
            "Original DataFrame\n",
            "   col1  col2  col3\n",
            "0     1     4     7\n",
            "1     2     5     5\n",
            "2     3     6     8\n",
            "3     4     9    12\n",
            "4     7     5     1\n",
            "5    11     0    11\n",
            "\n",
            "After removing first 3 rows of the said DataFrame:\n",
            "   col1  col2  col3\n",
            "3     4     9    12\n",
            "4     7     5     1\n",
            "5    11     0    11\n"
          ]
        }
      ]
    },
    {
      "cell_type": "code",
      "source": [
        "# Exercise 62\n",
        "# Write a Pandas program to remove last n rows of a given DataFrame.\n",
        "\n",
        "import pandas as pd\n",
        "d = {'col1': [1, 2, 3, 4, 7, 11], 'col2': [4, 5, 6, 9, 5, 0], 'col3': [7, 5, 8, 12, 1,11]}\n",
        "df = pd.DataFrame(data = d)\n",
        "print(\"Original DataFrame\")\n",
        "print(df)\n",
        "print(\"\\nAfter removing last 3 rows of the said DataFrame:\")\n",
        "df1 = df.iloc[:3]\n",
        "print(df1)\n"
      ],
      "metadata": {
        "colab": {
          "base_uri": "https://localhost:8080/"
        },
        "id": "zVOkwAJMNNwJ",
        "outputId": "ebc206b3-705f-467c-8161-bd82fab68f0d"
      },
      "execution_count": null,
      "outputs": [
        {
          "output_type": "stream",
          "name": "stdout",
          "text": [
            "Original DataFrame\n",
            "   col1  col2  col3\n",
            "0     1     4     7\n",
            "1     2     5     5\n",
            "2     3     6     8\n",
            "3     4     9    12\n",
            "4     7     5     1\n",
            "5    11     0    11\n",
            "\n",
            "After removing last 3 rows of the said DataFrame:\n",
            "   col1  col2  col3\n",
            "0     1     4     7\n",
            "1     2     5     5\n",
            "2     3     6     8\n"
          ]
        }
      ]
    },
    {
      "cell_type": "code",
      "source": [
        "# Exercise 63\n",
        "# Write a Pandas program to get topmost n records within each group of a DataFrame.\n",
        "\n",
        "import pandas as pd\n",
        "d = {'col1': [1, 2, 3, 4, 7, 11], 'col2': [4, 5, 6, 9, 5, 0], 'col3': [7, 5, 8, 12, 1,11]}\n",
        "df = pd.DataFrame(data=d)\n",
        "print(\"Original DataFrame\")\n",
        "print(df)\n",
        "print(\"\\ntopmost n records within each group of a DataFrame:\")\n",
        "df1 = df.nlargest(3, 'col1')\n",
        "print(df1)\n",
        "df2 = df.nlargest(3, 'col2')\n",
        "print(df2)\n",
        "df3 = df.nlargest(3, 'col3')\n",
        "print(df3)"
      ],
      "metadata": {
        "colab": {
          "base_uri": "https://localhost:8080/"
        },
        "id": "NoR9xaokN8Xk",
        "outputId": "77d16657-13ef-47bf-93ae-0a0047aba557"
      },
      "execution_count": null,
      "outputs": [
        {
          "output_type": "stream",
          "name": "stdout",
          "text": [
            "Original DataFrame\n",
            "   col1  col2  col3\n",
            "0     1     4     7\n",
            "1     2     5     5\n",
            "2     3     6     8\n",
            "3     4     9    12\n",
            "4     7     5     1\n",
            "5    11     0    11\n",
            "\n",
            "topmost n records within each group of a DataFrame:\n",
            "   col1  col2  col3\n",
            "5    11     0    11\n",
            "4     7     5     1\n",
            "3     4     9    12\n",
            "   col1  col2  col3\n",
            "3     4     9    12\n",
            "2     3     6     8\n",
            "1     2     5     5\n",
            "   col1  col2  col3\n",
            "3     4     9    12\n",
            "5    11     0    11\n",
            "2     3     6     8\n"
          ]
        }
      ]
    },
    {
      "cell_type": "code",
      "source": [
        "# Exercise 64\n",
        "# Write a Pandas program to reverse order (rows, columns) of a given DataFrame.\n",
        "\n",
        "import pandas as pd\n",
        "df = pd.DataFrame({'W':[68,75,86,80,66],'X':[78,85,96,80,86], 'Y':[84,94,89,83,86],'Z':[86,97,96,72,83]});\n",
        "print(\"Original DataFrame\")\n",
        "print(df)\n",
        "print(\"\\nReverse column order:\")\n",
        "print(df.loc[:, ::-1])\n",
        "print(\"\\nReverse row order:\")\n",
        "print(df.loc[::-1])\n",
        "print(\"\\nReverse row order and reset index:\")\n",
        "print(df.loc[::-1].reset_index(drop = True))"
      ],
      "metadata": {
        "colab": {
          "base_uri": "https://localhost:8080/"
        },
        "id": "nLUlhWFyT_HU",
        "outputId": "6e5ff766-633a-468f-815b-ca3124c65d84"
      },
      "execution_count": null,
      "outputs": [
        {
          "output_type": "stream",
          "name": "stdout",
          "text": [
            "Original DataFrame\n",
            "    W   X   Y   Z\n",
            "0  68  78  84  86\n",
            "1  75  85  94  97\n",
            "2  86  96  89  96\n",
            "3  80  80  83  72\n",
            "4  66  86  86  83\n",
            "\n",
            "Reverse column order:\n",
            "    Z   Y   X   W\n",
            "0  86  84  78  68\n",
            "1  97  94  85  75\n",
            "2  96  89  96  86\n",
            "3  72  83  80  80\n",
            "4  83  86  86  66\n",
            "\n",
            "Reverse row order:\n",
            "    W   X   Y   Z\n",
            "4  66  86  86  83\n",
            "3  80  80  83  72\n",
            "2  86  96  89  96\n",
            "1  75  85  94  97\n",
            "0  68  78  84  86\n",
            "\n",
            "Reverse row order and reset index:\n",
            "    W   X   Y   Z\n",
            "0  66  86  86  83\n",
            "1  80  80  83  72\n",
            "2  86  96  89  96\n",
            "3  75  85  94  97\n",
            "4  68  78  84  86\n"
          ]
        }
      ]
    },
    {
      "cell_type": "code",
      "source": [
        "# Exercise 65\n",
        "# Write a Pandas program to add a prefix and suffix to all columns of a given DataFrame.\n",
        "\n",
        "import pandas as pd\n",
        "df = pd.DataFrame({'W':[68,75,86,80,66],'X':[78,85,96,80,86], 'Y':[84,94,89,83,86],'Z':[86,97,96,72,83]});\n",
        "print(\"Original DataFrame\")\n",
        "print(df)\n",
        "print(\"\\nAdd prefix:\")\n",
        "print(df.add_prefix(\"A_\"))\n",
        "print(\"\\nAdd suffix:\")\n",
        "print(df.add_suffix(\"_1\"))"
      ],
      "metadata": {
        "colab": {
          "base_uri": "https://localhost:8080/"
        },
        "id": "aRegU2ZmUIoI",
        "outputId": "1cc9bab2-e027-460d-91b4-13994e59b16b"
      },
      "execution_count": null,
      "outputs": [
        {
          "output_type": "stream",
          "name": "stdout",
          "text": [
            "Original DataFrame\n",
            "    W   X   Y   Z\n",
            "0  68  78  84  86\n",
            "1  75  85  94  97\n",
            "2  86  96  89  96\n",
            "3  80  80  83  72\n",
            "4  66  86  86  83\n",
            "\n",
            "Add prefix:\n",
            "   A_W  A_X  A_Y  A_Z\n",
            "0   68   78   84   86\n",
            "1   75   85   94   97\n",
            "2   86   96   89   96\n",
            "3   80   80   83   72\n",
            "4   66   86   86   83\n",
            "\n",
            "Add suffix:\n",
            "   W_1  X_1  Y_1  Z_1\n",
            "0   68   78   84   86\n",
            "1   75   85   94   97\n",
            "2   86   96   89   96\n",
            "3   80   80   83   72\n",
            "4   66   86   86   83\n"
          ]
        }
      ]
    },
    {
      "cell_type": "code",
      "source": [
        "# Exercise 66\n",
        "# Write a Pandas program to select columns by data type of a given DataFrame.\n",
        "\n",
        "import pandas as pd\n",
        "df = pd.DataFrame({\n",
        "    'name': ['Alberto Franco','Gino Mcneill','Ryan Parkes', 'Eesha Hinton', 'Syed Wharton'],\n",
        "    'date_of_birth': ['17/05/2002','16/02/1999','25/09/1998','11/05/2002','15/09/1997'],\n",
        "    'age': [18.5, 21.2, 22.5, 22, 23]\n",
        "})\n",
        "\n",
        "print(\"Original DataFrame\")\n",
        "print(df)\n",
        "print(\"\\nSelect numerical columns\")\n",
        "print(df.select_dtypes(include = \"number\"))\n",
        "print(\"\\nSelect string columns\")\n",
        "print(df.select_dtypes(include = \"object\"))"
      ],
      "metadata": {
        "colab": {
          "base_uri": "https://localhost:8080/"
        },
        "id": "h0TDToGAWb-r",
        "outputId": "c39f4b8c-15b5-4ca9-e366-0451e7a44128"
      },
      "execution_count": null,
      "outputs": [
        {
          "output_type": "stream",
          "name": "stdout",
          "text": [
            "Original DataFrame\n",
            "             name date_of_birth   age\n",
            "0  Alberto Franco    17/05/2002  18.5\n",
            "1    Gino Mcneill    16/02/1999  21.2\n",
            "2     Ryan Parkes    25/09/1998  22.5\n",
            "3    Eesha Hinton    11/05/2002  22.0\n",
            "4    Syed Wharton    15/09/1997  23.0\n",
            "\n",
            "Select numerical columns\n",
            "    age\n",
            "0  18.5\n",
            "1  21.2\n",
            "2  22.5\n",
            "3  22.0\n",
            "4  23.0\n",
            "\n",
            "Select string columns\n",
            "             name date_of_birth\n",
            "0  Alberto Franco    17/05/2002\n",
            "1    Gino Mcneill    16/02/1999\n",
            "2     Ryan Parkes    25/09/1998\n",
            "3    Eesha Hinton    11/05/2002\n",
            "4    Syed Wharton    15/09/1997\n"
          ]
        }
      ]
    },
    {
      "cell_type": "code",
      "source": [
        "# Exercise 67\n",
        "# Write a Pandas program to split a given DataFrame into two random subsets.\n",
        "\n",
        "import pandas as pd\n",
        "df = pd.DataFrame({\n",
        "    'name': ['Alberto Franco','Gino Mcneill','Ryan Parkes', 'Eesha Hinton', 'Syed Wharton'],\n",
        "    'date_of_birth': ['17/05/2002','16/02/1999','25/09/1998','11/05/2002','15/09/1997'],\n",
        "    'age': ['18', '21', '22', '22', '23']\n",
        "})\n",
        "\n",
        "df_1 = df.sample(frac = 0.6)\n",
        "df_2 = df.drop(df_1.index)\n",
        "print(\"Original Dataframe and shape:\")\n",
        "print(df)\n",
        "print(df.shape)\n",
        "print(\"\\nSubset-1 and shape:\")\n",
        "print(df_1)\n",
        "print(df_1.shape)\n",
        "print(\"\\nSubset-2 and shape:\")\n",
        "print(df_2)\n",
        "print(df_2.shape)"
      ],
      "metadata": {
        "colab": {
          "base_uri": "https://localhost:8080/"
        },
        "id": "v9wUJL72Wr2P",
        "outputId": "ffd66363-1c35-4f84-dd63-4cb49b7284a7"
      },
      "execution_count": null,
      "outputs": [
        {
          "output_type": "stream",
          "name": "stdout",
          "text": [
            "Original Dataframe and shape:\n",
            "             name date_of_birth age\n",
            "0  Alberto Franco    17/05/2002  18\n",
            "1    Gino Mcneill    16/02/1999  21\n",
            "2     Ryan Parkes    25/09/1998  22\n",
            "3    Eesha Hinton    11/05/2002  22\n",
            "4    Syed Wharton    15/09/1997  23\n",
            "(5, 3)\n",
            "\n",
            "Subset-1 and shape:\n",
            "             name date_of_birth age\n",
            "1    Gino Mcneill    16/02/1999  21\n",
            "0  Alberto Franco    17/05/2002  18\n",
            "4    Syed Wharton    15/09/1997  23\n",
            "(3, 3)\n",
            "\n",
            "Subset-2 and shape:\n",
            "           name date_of_birth age\n",
            "2   Ryan Parkes    25/09/1998  22\n",
            "3  Eesha Hinton    11/05/2002  22\n",
            "(2, 3)\n"
          ]
        }
      ]
    },
    {
      "cell_type": "code",
      "source": [
        "# Exercise 68\n",
        "# Write a Pandas program to rename all columns with the same pattern of a given DataFrame.\n",
        "\n",
        "import pandas as pd\n",
        "df = pd.DataFrame({\n",
        "    'Name': ['Alberto Franco','Gino Mcneill','Ryan Parkes', 'Eesha Hinton', 'Syed Wharton'],\n",
        "    'Date_Of_Birth ': ['17/05/2002','16/02/1999','25/09/1998','11/05/2002','15/09/1997'],\n",
        "    'Age': [18.5, 21.2, 22.5, 22, 23]\n",
        "})\n",
        "\n",
        "print(\"Original DataFrame\")\n",
        "print(df)\n",
        "df.columns = df.columns.str.lower().str.rstrip()\n",
        "print(\"\\nRemove trailing (at the end) whitesapce and convert to lowercase of the columns name\")\n",
        "print(df.head())"
      ],
      "metadata": {
        "colab": {
          "base_uri": "https://localhost:8080/"
        },
        "id": "TRg05uzsW9yF",
        "outputId": "b00bf20b-6f0c-4435-b0f3-c6f6e578ece8"
      },
      "execution_count": null,
      "outputs": [
        {
          "output_type": "stream",
          "name": "stdout",
          "text": [
            "Original DataFrame\n",
            "             Name Date_Of_Birth    Age\n",
            "0  Alberto Franco     17/05/2002  18.5\n",
            "1    Gino Mcneill     16/02/1999  21.2\n",
            "2     Ryan Parkes     25/09/1998  22.5\n",
            "3    Eesha Hinton     11/05/2002  22.0\n",
            "4    Syed Wharton     15/09/1997  23.0\n",
            "\n",
            "Remove trailing (at the end) whitesapce and convert to lowercase of the columns name\n",
            "             name date_of_birth   age\n",
            "0  Alberto Franco    17/05/2002  18.5\n",
            "1    Gino Mcneill    16/02/1999  21.2\n",
            "2     Ryan Parkes    25/09/1998  22.5\n",
            "3    Eesha Hinton    11/05/2002  22.0\n",
            "4    Syed Wharton    15/09/1997  23.0\n"
          ]
        }
      ]
    },
    {
      "cell_type": "code",
      "source": [
        "# Exercise 69\n",
        "# Write a Pandas program to merge datasets and check uniqueness.\n",
        "\n",
        "import pandas as pd\n",
        "df = pd.DataFrame({\n",
        "    'Name': ['Alberto Franco','Gino Mcneill','Ryan Parkes', 'Eesha Hinton', 'Syed Wharton'],\n",
        "    'Date_Of_Birth ': ['17/05/2002','16/02/1999','25/09/1998','11/05/2002','15/09/1997'],\n",
        "    'Age': [18.5, 21.2, 22.5, 22, 23]\n",
        "})\n",
        "print(\"Original DataFrame:\")\n",
        "print(df)\n",
        "df1 = df.copy(deep = True)\n",
        "df = df.drop([0, 1])\n",
        "df1 = df1.drop([2])\n",
        "print(\"\\nNew DataFrames:\")\n",
        "print(df)\n",
        "print(df1)\n",
        "print('\\n\"one_to_one”: check if merge keys are unique in both left and right datasets:\"')\n",
        "df_one_to_one = pd.merge(df, df1, validate = \"one_to_one\")\n",
        "print(df_one_to_one)\n",
        "print('\\n\"one_to_many” or “1:m”: check if merge keys are unique in left dataset:')\n",
        "df_one_to_many = pd.merge(df, df1, validate = \"one_to_many\")\n",
        "print(df_one_to_many)\n",
        "print('“many_to_one” or “m:1”: check if merge keys are unique in right dataset:')\n",
        "df_many_to_one = pd.merge(df, df1, validate = \"many_to_one\")\n",
        "print(df_many_to_one)"
      ],
      "metadata": {
        "colab": {
          "base_uri": "https://localhost:8080/"
        },
        "id": "C5NNAGwnW_RH",
        "outputId": "31b8f067-0ac2-4584-f2bc-34a83e4e5e89"
      },
      "execution_count": null,
      "outputs": [
        {
          "output_type": "stream",
          "name": "stdout",
          "text": [
            "Original DataFrame:\n",
            "             Name Date_Of_Birth    Age\n",
            "0  Alberto Franco     17/05/2002  18.5\n",
            "1    Gino Mcneill     16/02/1999  21.2\n",
            "2     Ryan Parkes     25/09/1998  22.5\n",
            "3    Eesha Hinton     11/05/2002  22.0\n",
            "4    Syed Wharton     15/09/1997  23.0\n",
            "\n",
            "New DataFrames:\n",
            "           Name Date_Of_Birth    Age\n",
            "2   Ryan Parkes     25/09/1998  22.5\n",
            "3  Eesha Hinton     11/05/2002  22.0\n",
            "4  Syed Wharton     15/09/1997  23.0\n",
            "             Name Date_Of_Birth    Age\n",
            "0  Alberto Franco     17/05/2002  18.5\n",
            "1    Gino Mcneill     16/02/1999  21.2\n",
            "3    Eesha Hinton     11/05/2002  22.0\n",
            "4    Syed Wharton     15/09/1997  23.0\n",
            "\n",
            "\"one_to_one”: check if merge keys are unique in both left and right datasets:\"\n",
            "           Name Date_Of_Birth    Age\n",
            "0  Eesha Hinton     11/05/2002  22.0\n",
            "1  Syed Wharton     15/09/1997  23.0\n",
            "\n",
            "\"one_to_many” or “1:m”: check if merge keys are unique in left dataset:\n",
            "           Name Date_Of_Birth    Age\n",
            "0  Eesha Hinton     11/05/2002  22.0\n",
            "1  Syed Wharton     15/09/1997  23.0\n",
            "“many_to_one” or “m:1”: check if merge keys are unique in right dataset:\n",
            "           Name Date_Of_Birth    Age\n",
            "0  Eesha Hinton     11/05/2002  22.0\n",
            "1  Syed Wharton     15/09/1997  23.0\n"
          ]
        }
      ]
    },
    {
      "cell_type": "code",
      "source": [
        "# Exercise 70\n",
        "# Write a Pandas program to convert continuous values of a column in a given DataFrame to categorical.\n",
        "\n",
        "import pandas as pd\n",
        "df = pd.DataFrame({\n",
        "    'name': ['Alberto Franco','Gino Mcneill','Ryan Parkes', 'Eesha Hinton', 'Syed Wharton', 'Kierra Gentry'],\n",
        "      'age': [18, 22, 85, 50, 80, 5]\n",
        "})\n",
        "print(\"Original DataFrame:\")\n",
        "print(df)\n",
        "print('\\nAge group:')\n",
        "df[\"age_groups\"] = pd.cut(df[\"age\"], bins = [0, 18, 65, 99], labels = [\"kids\", \"adult\", \"elderly\"])\n",
        "print(df[\"age_groups\"])"
      ],
      "metadata": {
        "colab": {
          "base_uri": "https://localhost:8080/"
        },
        "id": "5ZLPLS2jXBCT",
        "outputId": "56da9977-ac5a-4463-decf-38a0c44f9247"
      },
      "execution_count": null,
      "outputs": [
        {
          "output_type": "stream",
          "name": "stdout",
          "text": [
            "Original DataFrame:\n",
            "             name  age\n",
            "0  Alberto Franco   18\n",
            "1    Gino Mcneill   22\n",
            "2     Ryan Parkes   85\n",
            "3    Eesha Hinton   50\n",
            "4    Syed Wharton   80\n",
            "5   Kierra Gentry    5\n",
            "\n",
            "Age group:\n",
            "0       kids\n",
            "1      adult\n",
            "2    elderly\n",
            "3      adult\n",
            "4    elderly\n",
            "5       kids\n",
            "Name: age_groups, dtype: category\n",
            "Categories (3, object): ['kids' < 'adult' < 'elderly']\n"
          ]
        }
      ]
    },
    {
      "cell_type": "code",
      "source": [
        "# Exercise 71\n",
        "# Write a Pandas program to display memory usage of a given DataFrame and every column of the DataFrame.\n",
        "\n",
        "import pandas as pd\n",
        "df = pd.DataFrame({\n",
        "    'Name': ['Alberto Franco','Gino Mcneill','Ryan Parkes', 'Eesha Hinton', 'Syed Wharton'],\n",
        "    'Date_Of_Birth ': ['17/05/2002','16/02/1999','25/09/1998','11/05/2002','15/09/1997'],\n",
        "    'Age': [18.5, 21.2, 22.5, 22, 23]\n",
        "})\n",
        "print(\"Original DataFrame:\")\n",
        "print(df)\n",
        "print(\"\\nGlobal usage of memory of the DataFrame:\")\n",
        "print(df.info(memory_usage = \"deep\"))\n",
        "print(\"\\nThe usage of memory of every column of the said DataFrame:\")\n",
        "print(df.memory_usage(deep = True))"
      ],
      "metadata": {
        "colab": {
          "base_uri": "https://localhost:8080/"
        },
        "id": "jTK11g3JXoBE",
        "outputId": "17933aa2-52cd-4214-818b-bec47acd9f12"
      },
      "execution_count": null,
      "outputs": [
        {
          "output_type": "stream",
          "name": "stdout",
          "text": [
            "Original DataFrame:\n",
            "             Name Date_Of_Birth    Age\n",
            "0  Alberto Franco     17/05/2002  18.5\n",
            "1    Gino Mcneill     16/02/1999  21.2\n",
            "2     Ryan Parkes     25/09/1998  22.5\n",
            "3    Eesha Hinton     11/05/2002  22.0\n",
            "4    Syed Wharton     15/09/1997  23.0\n",
            "\n",
            "Global usage of memory of the DataFrame:\n",
            "<class 'pandas.core.frame.DataFrame'>\n",
            "RangeIndex: 5 entries, 0 to 4\n",
            "Data columns (total 3 columns):\n",
            " #   Column          Non-Null Count  Dtype  \n",
            "---  ------          --------------  -----  \n",
            " 0   Name            5 non-null      object \n",
            " 1   Date_Of_Birth   5 non-null      object \n",
            " 2   Age             5 non-null      float64\n",
            "dtypes: float64(1), object(2)\n",
            "memory usage: 849.0 bytes\n",
            "None\n",
            "\n",
            "The usage of memory of every column of the said DataFrame:\n",
            "Index             128\n",
            "Name              346\n",
            "Date_Of_Birth     335\n",
            "Age                40\n",
            "dtype: int64\n"
          ]
        }
      ]
    },
    {
      "cell_type": "code",
      "source": [
        "# Exercise 72\n",
        "# Write a Pandas program to combine many given series to create a DataFrame.\n",
        "\n",
        "import pandas as pd\n",
        "sr1 = pd.Series(['php', 'python', 'java', 'c#', 'c++'])\n",
        "sr2 = pd.Series([1, 2, 3, 4, 5])\n",
        "print(\"Original Series:\")\n",
        "print(sr1)\n",
        "print(sr2)\n",
        "print(\"Combine above series to a dataframe:\")\n",
        "ser_df = pd.DataFrame(sr1, sr2).reset_index()\n",
        "print(ser_df.head())\n",
        "print(\"\\nUsing pandas concat:\")\n",
        "ser_df = pd.concat([sr1, sr2], axis = 1)\n",
        "print(ser_df.head())\n",
        "print(\"\\nUsing pandas DataFrame with a dictionary, gives a specific name to the columns:\")\n",
        "ser_df = pd.DataFrame({\"col1\":sr1, \"col2\":sr2})\n",
        "print(ser_df.head(5))"
      ],
      "metadata": {
        "colab": {
          "base_uri": "https://localhost:8080/"
        },
        "id": "e47nO4iqXpbp",
        "outputId": "94dee278-ab7a-4bf8-a222-c11f4abbfe9e"
      },
      "execution_count": null,
      "outputs": [
        {
          "output_type": "stream",
          "name": "stdout",
          "text": [
            "Original Series:\n",
            "0       php\n",
            "1    python\n",
            "2      java\n",
            "3        c#\n",
            "4       c++\n",
            "dtype: object\n",
            "0    1\n",
            "1    2\n",
            "2    3\n",
            "3    4\n",
            "4    5\n",
            "dtype: int64\n",
            "Combine above series to a dataframe:\n",
            "   index       0\n",
            "0      1  python\n",
            "1      2    java\n",
            "2      3      c#\n",
            "3      4     c++\n",
            "4      5     NaN\n",
            "\n",
            "Using pandas concat:\n",
            "        0  1\n",
            "0     php  1\n",
            "1  python  2\n",
            "2    java  3\n",
            "3      c#  4\n",
            "4     c++  5\n",
            "\n",
            "Using pandas DataFrame with a dictionary, gives a specific name to the columns:\n",
            "     col1  col2\n",
            "0     php     1\n",
            "1  python     2\n",
            "2    java     3\n",
            "3      c#     4\n",
            "4     c++     5\n"
          ]
        }
      ]
    },
    {
      "cell_type": "code",
      "source": [
        "# Exercise 73\n",
        "# Write a Pandas program to create DataFrames that contains random values,contains datetime values and contains mixed values.\n",
        "\n",
        "import pandas as pd\n",
        "print(\"DataFrame: Contains random values:\")\n",
        "df1 = pd.util.testing.makeDataFrame() # contains random values\n",
        "print(df1)\n",
        "print(\"\\nDataFrame: Contains datetime values:\")\n",
        "df3 = pd.util.testing.makeTimeDataFrame()  # contains datetime values\n",
        "print(df3)\n",
        "print(\"\\nDataFrame: Contains mixed values:\")\n",
        "df4 = pd.util.testing.makeMixedDataFrame() # contains mixed values\n",
        "print(df4)"
      ],
      "metadata": {
        "colab": {
          "base_uri": "https://localhost:8080/"
        },
        "id": "e0JX7A-rXrCA",
        "outputId": "46561976-8d7c-4236-9b40-a2e0b9894436"
      },
      "execution_count": null,
      "outputs": [
        {
          "output_type": "stream",
          "name": "stdout",
          "text": [
            "DataFrame: Contains random values:\n",
            "                   A         B         C         D\n",
            "Cwlv0C7Jcj -1.013770  1.479631  1.058039 -0.738052\n",
            "ihZ1XAjYLX  0.015917 -0.198793 -0.919919 -0.815117\n",
            "ZQsWYCPuQQ -0.210592 -0.187013 -0.961396  1.391445\n",
            "2ONezwf3V1 -1.518995  0.273777  1.228558 -2.449683\n",
            "A1B9dkxVNX -0.983687  0.434969  1.771547 -0.852325\n",
            "DHEU3Ws1VB -0.000652 -1.101079  0.560989  0.887560\n",
            "kC3RtQVdKp  0.188281  0.166419 -0.462467 -0.046980\n",
            "2VNpnf2zhz -0.615534 -0.020708 -1.513930  0.022669\n",
            "LiJO94uD1O -0.742716 -0.068383 -1.399601 -0.567164\n",
            "HrU1trKzMn -0.396057  0.129893  1.385722  0.468319\n",
            "ZjAWbZKxve  1.302371 -1.091135 -0.806713  1.028433\n",
            "htt0ygqsVR  0.648937  0.176283  0.582110  1.898833\n",
            "Sum2MXfQ8w -1.460572 -0.772016 -1.316084  0.178408\n",
            "Gds2RMWlfv -0.595123 -0.604636  1.804000  0.991568\n",
            "aXpUS409dW  0.990306  0.292561 -0.843545  0.301798\n",
            "EGpSXq5JRD  0.878783  0.236098  0.065593  0.977843\n",
            "8bzF7Qlo7s  0.308086 -0.022438  0.049922 -0.712937\n",
            "lhnW7czRsL  0.512365 -1.138015  0.953065  0.466499\n",
            "MSTd2DxgAG -1.019587  1.166691 -0.583160 -0.146953\n",
            "OxnhHv2sRn -0.639570  1.532623  1.243234 -1.301910\n",
            "ExUZxFOkZp -1.790570 -0.993168 -0.507906  2.639354\n",
            "QTInBzF0OY  0.065221 -0.020336 -1.124245 -1.277935\n",
            "33sSPwCFT9  0.487815  0.642099 -0.380946  1.050303\n",
            "EDSaTkgf2h -0.532981 -0.818212  0.626852 -0.051764\n",
            "6cCPu28srD -1.334211  0.836359 -1.172625 -0.275204\n",
            "C5dJStG7co  1.213549  1.374034 -0.945350 -0.978371\n",
            "MWAmDXsQwI  0.608634  0.378676 -0.347354  0.091972\n",
            "QwITRioL9W -1.153557  1.606067 -0.806963 -0.993527\n",
            "BfMfw154Ux -0.729960  0.523958  0.741958 -0.735055\n",
            "UY8VLy19mQ  2.061729  0.843370  0.185122 -1.534514\n",
            "\n",
            "DataFrame: Contains datetime values:\n",
            "                   A         B         C         D\n",
            "2000-01-03  0.435696 -0.250679  1.190334  0.153188\n",
            "2000-01-04 -1.682928  1.769587  0.368468 -0.806227\n",
            "2000-01-05  2.406582 -0.067239  0.154700  0.354267\n",
            "2000-01-06 -0.933027 -0.468822 -0.203915  0.232004\n",
            "2000-01-07  0.486794 -0.302497  0.507286 -1.414277\n",
            "2000-01-10  0.617557  0.860651 -0.384146 -0.817634\n",
            "2000-01-11  1.241673  0.440638 -0.102461  0.307268\n",
            "2000-01-12 -0.296130  1.393484 -0.379057  0.870451\n",
            "2000-01-13 -0.884030 -0.245841  0.994669 -0.922844\n",
            "2000-01-14  1.130999 -0.708145 -0.844847 -1.062096\n",
            "2000-01-17 -1.522669 -0.756222 -1.401078  1.588666\n",
            "2000-01-18  0.887375  1.616605  0.333838 -0.426942\n",
            "2000-01-19  0.519046 -1.052185 -1.184983  0.661537\n",
            "2000-01-20 -0.042169  0.961096  0.775143  0.019470\n",
            "2000-01-21 -3.142097  0.303477 -0.759663  0.464406\n",
            "2000-01-24  1.777019  0.670939 -0.131545  0.800579\n",
            "2000-01-25  0.845196  1.373484  0.387318  0.563898\n",
            "2000-01-26  1.146156  1.381911  0.148931  0.284087\n",
            "2000-01-27  0.994807  1.477746  0.896965  1.039131\n",
            "2000-01-28 -0.621707 -0.958080 -1.157591  0.652285\n",
            "2000-01-31 -1.933475 -0.850280  0.041625 -1.250259\n",
            "2000-02-01  0.786926  0.452492  2.029490 -1.906790\n",
            "2000-02-02 -1.726453  1.232669  1.346151  0.433130\n",
            "2000-02-03 -0.122487  1.366406 -0.548517 -0.149666\n",
            "2000-02-04 -2.361845  0.483426 -0.436066  1.729592\n",
            "2000-02-07 -0.307162  0.176617 -1.486053 -0.237794\n",
            "2000-02-08 -0.575676  1.331527  0.777991  0.870993\n",
            "2000-02-09  0.888024 -0.624051  0.336662 -0.977654\n",
            "2000-02-10 -0.837524 -0.662042 -0.269012 -0.471498\n",
            "2000-02-11  1.191136  0.690358 -0.029154  2.182191\n",
            "\n",
            "DataFrame: Contains mixed values:\n",
            "     A    B     C          D\n",
            "0  0.0  0.0  foo1 2009-01-01\n",
            "1  1.0  1.0  foo2 2009-01-02\n",
            "2  2.0  0.0  foo3 2009-01-05\n",
            "3  3.0  1.0  foo4 2009-01-06\n",
            "4  4.0  0.0  foo5 2009-01-07\n"
          ]
        }
      ]
    },
    {
      "cell_type": "code",
      "source": [
        "# Exercise 74\n",
        "# Write a Pandas program to fill missing values in time series data.\n",
        "\n",
        "import pandas as pd\n",
        "import numpy as np\n",
        "sdata = {\"c1\":[120, 130 ,140, 150, np.nan, 170], \"c2\":[7, np.nan, 10, np.nan, 5.5, 16.5]}\n",
        "df = pd.DataFrame(sdata)\n",
        "df.index = pd.util.testing.makeDateIndex()[0:6]\n",
        "print(\"Original DataFrame:\")\n",
        "print(df)\n",
        "print(\"\\nDataFrame after interpolate:\")\n",
        "print(df.interpolate())"
      ],
      "metadata": {
        "colab": {
          "base_uri": "https://localhost:8080/"
        },
        "id": "VB94knkbXsWy",
        "outputId": "0d4c1aad-fe57-4ed3-91fd-f463f7d6dc80"
      },
      "execution_count": null,
      "outputs": [
        {
          "output_type": "stream",
          "name": "stdout",
          "text": [
            "Original DataFrame:\n",
            "               c1    c2\n",
            "2000-01-03  120.0   7.0\n",
            "2000-01-04  130.0   NaN\n",
            "2000-01-05  140.0  10.0\n",
            "2000-01-06  150.0   NaN\n",
            "2000-01-07    NaN   5.5\n",
            "2000-01-10  170.0  16.5\n",
            "\n",
            "DataFrame after interpolate:\n",
            "               c1     c2\n",
            "2000-01-03  120.0   7.00\n",
            "2000-01-04  130.0   8.50\n",
            "2000-01-05  140.0  10.00\n",
            "2000-01-06  150.0   7.75\n",
            "2000-01-07  160.0   5.50\n",
            "2000-01-10  170.0  16.50\n"
          ]
        }
      ]
    },
    {
      "cell_type": "code",
      "source": [
        "# Exercise 75\n",
        "# Write a Pandas program to use a local variable within a query.\n",
        "\n",
        "import pandas as pd\n",
        "df = pd.DataFrame({'W':[68,75,86,80,66],'X':[78,85,96,80,86], 'Y':[84,94,89,83,86],'Z':[86,97,96,72,83]});\n",
        "print(\"Original DataFrame\")\n",
        "print(df)\n",
        "maxx = df[\"W\"].max()\n",
        "print(\"\\nValues which are less than maximum value of 'W' column\")\n",
        "print(df.query(\"W < @maxx\"))"
      ],
      "metadata": {
        "colab": {
          "base_uri": "https://localhost:8080/"
        },
        "id": "ivZOOK5iXts_",
        "outputId": "8b599147-fe7b-4a6c-b0c0-88658ae5b09a"
      },
      "execution_count": null,
      "outputs": [
        {
          "output_type": "stream",
          "name": "stdout",
          "text": [
            "Original DataFrame\n",
            "    W   X   Y   Z\n",
            "0  68  78  84  86\n",
            "1  75  85  94  97\n",
            "2  86  96  89  96\n",
            "3  80  80  83  72\n",
            "4  66  86  86  83\n",
            "\n",
            "Values which are less than maximum value of 'W' column\n",
            "    W   X   Y   Z\n",
            "0  68  78  84  86\n",
            "1  75  85  94  97\n",
            "3  80  80  83  72\n",
            "4  66  86  86  83\n"
          ]
        }
      ]
    },
    {
      "cell_type": "code",
      "source": [
        "# Exercise 76\n",
        "# Write a Pandas program to clean object column with mixed data of a given DataFrame using regular expression.\n",
        "\n",
        "import pandas as pd\n",
        "d = {\"agent\": [\"a001\", \"a002\", \"a003\", \"a003\", \"a004\"], \"purchase\":[4500.00, 7500.00, \"$3000.25\", \"$1250.35\", \"9000.00\"]}\n",
        "df = pd.DataFrame(d)\n",
        "print(\"Original dataframe:\")\n",
        "print(df)\n",
        "print(\"\\nData Types:\")\n",
        "print(df[\"purchase\"].apply(type))\n",
        "df[\"purchase\"] = df[\"purchase\"].replace(\"[$,]\", \"\", regex = True).astype(\"float\")\n",
        "print(\"\\nNew Data Types:\")\n",
        "print(df[\"purchase\"].apply(type))"
      ],
      "metadata": {
        "colab": {
          "base_uri": "https://localhost:8080/"
        },
        "id": "eQGcIOWvXvDK",
        "outputId": "d3c8e70a-461e-4a2c-dc8e-53ea522ebbb7"
      },
      "execution_count": null,
      "outputs": [
        {
          "output_type": "stream",
          "name": "stdout",
          "text": [
            "Original dataframe:\n",
            "  agent  purchase\n",
            "0  a001    4500.0\n",
            "1  a002    7500.0\n",
            "2  a003  $3000.25\n",
            "3  a003  $1250.35\n",
            "4  a004   9000.00\n",
            "\n",
            "Data Types:\n",
            "0    <class 'float'>\n",
            "1    <class 'float'>\n",
            "2      <class 'str'>\n",
            "3      <class 'str'>\n",
            "4      <class 'str'>\n",
            "Name: purchase, dtype: object\n",
            "\n",
            "New Data Types:\n",
            "0    <class 'float'>\n",
            "1    <class 'float'>\n",
            "2    <class 'float'>\n",
            "3    <class 'float'>\n",
            "4    <class 'float'>\n",
            "Name: purchase, dtype: object\n"
          ]
        }
      ]
    },
    {
      "cell_type": "code",
      "source": [
        "# Exercise 77\n",
        "# Write a Pandas program to get the numeric representation of an array by identifying distinct values of a given column of a DataFrame.\n",
        "\n",
        "import pandas as pd\n",
        "df = pd.DataFrame({\n",
        "    'Name': ['Alberto Franco','Gino Mcneill','Ryan Parkes', 'Eesha Hinton', 'Gino Mcneill'],\n",
        "    'Date_Of_Birth ': ['17/05/2002','16/02/1999','25/09/1998','11/05/2002','15/09/1997'],\n",
        "    'Age': [18.5, 21.2, 22.5, 22, 23]\n",
        "})\n",
        "print(\"Original DataFrame:\")\n",
        "print(df)\n",
        "label1, unique1 = pd.factorize(df['Name'])\n",
        "print(\"\\nNumeric representation of an array by identifying distinct values:\")\n",
        "print(label1)\n",
        "print(unique1)"
      ],
      "metadata": {
        "colab": {
          "base_uri": "https://localhost:8080/"
        },
        "id": "Aje0LZbsXwTr",
        "outputId": "65ea750f-5308-4531-8c1a-44f28ab62ce7"
      },
      "execution_count": null,
      "outputs": [
        {
          "output_type": "stream",
          "name": "stdout",
          "text": [
            "Original DataFrame:\n",
            "             Name Date_Of_Birth    Age\n",
            "0  Alberto Franco     17/05/2002  18.5\n",
            "1    Gino Mcneill     16/02/1999  21.2\n",
            "2     Ryan Parkes     25/09/1998  22.5\n",
            "3    Eesha Hinton     11/05/2002  22.0\n",
            "4    Gino Mcneill     15/09/1997  23.0\n",
            "\n",
            "Numeric representation of an array by identifying distinct values:\n",
            "[0 1 2 3 1]\n",
            "Index(['Alberto Franco', 'Gino Mcneill', 'Ryan Parkes', 'Eesha Hinton'], dtype='object')\n"
          ]
        }
      ]
    },
    {
      "cell_type": "code",
      "source": [
        "# Exercise 78\n",
        "# Write a Pandas program to replace the current value in a dataframe column based on last largest value. If the current value is less than last largest value replaces the value with 0.\n",
        "\n",
        "import pandas as pd\n",
        "df1=pd.DataFrame({'rnum':[23, 21, 27, 22, 34, 33, 34, 31, 25, 22, 34, 19, 31, 32, 19]})\n",
        "print(\"Original DataFrame:\")\n",
        "print(df1)\n",
        "df1['rnum']=df1.rnum.where(df1.rnum.eq(df1.rnum.cummax()),0)\n",
        "print(\"\\nReplace current value in a dataframe column based on last largest value:\")\n",
        "print(df1)"
      ],
      "metadata": {
        "colab": {
          "base_uri": "https://localhost:8080/"
        },
        "id": "NmbZS6giXxW3",
        "outputId": "1fad737b-f5e4-4bc8-fd23-48a771acb868"
      },
      "execution_count": null,
      "outputs": [
        {
          "output_type": "stream",
          "name": "stdout",
          "text": [
            "Original DataFrame:\n",
            "    rnum\n",
            "0     23\n",
            "1     21\n",
            "2     27\n",
            "3     22\n",
            "4     34\n",
            "5     33\n",
            "6     34\n",
            "7     31\n",
            "8     25\n",
            "9     22\n",
            "10    34\n",
            "11    19\n",
            "12    31\n",
            "13    32\n",
            "14    19\n",
            "\n",
            "Replace current value in a dataframe column based on last largest value:\n",
            "    rnum\n",
            "0     23\n",
            "1      0\n",
            "2     27\n",
            "3      0\n",
            "4     34\n",
            "5      0\n",
            "6     34\n",
            "7      0\n",
            "8      0\n",
            "9      0\n",
            "10    34\n",
            "11     0\n",
            "12     0\n",
            "13     0\n",
            "14     0\n"
          ]
        }
      ]
    },
    {
      "cell_type": "code",
      "source": [
        "# Exercise 80\n",
        "# Write a Pandas program to check for inequality of two given DataFrames.\n",
        "\n",
        "import pandas as pd\n",
        "df1 = pd.DataFrame({'W':[68,75,86,80,None],'X':[78,85,None,80,86], 'Y':[84,94,89,83,86],'Z':[86,97,96,72,83]});\n",
        "df2 = pd.DataFrame({'W':[78,75,86,80,None],'X':[78,85,96,80,76], 'Y':[84,84,89,83,86],'Z':[86,97,96,72,83]});\n",
        "print(\"Original DataFrames:\")\n",
        "print(df1)\n",
        "print(df2)\n",
        "print(\"\\nCheck for inequality of the said dataframes:\")\n",
        "print(df1.ne(df2))"
      ],
      "metadata": {
        "colab": {
          "base_uri": "https://localhost:8080/"
        },
        "id": "yjLAOiS-X0Fh",
        "outputId": "cc0eeff7-ae6b-4c0d-b9f9-a3784cf5205b"
      },
      "execution_count": null,
      "outputs": [
        {
          "output_type": "stream",
          "name": "stdout",
          "text": [
            "Original DataFrames:\n",
            "      W     X   Y   Z\n",
            "0  68.0  78.0  84  86\n",
            "1  75.0  85.0  94  97\n",
            "2  86.0   NaN  89  96\n",
            "3  80.0  80.0  83  72\n",
            "4   NaN  86.0  86  83\n",
            "      W   X   Y   Z\n",
            "0  78.0  78  84  86\n",
            "1  75.0  85  84  97\n",
            "2  86.0  96  89  96\n",
            "3  80.0  80  83  72\n",
            "4   NaN  76  86  83\n",
            "\n",
            "Check for inequality of the said dataframes:\n",
            "       W      X      Y      Z\n",
            "0   True  False  False  False\n",
            "1  False  False   True  False\n",
            "2  False   True  False  False\n",
            "3  False  False  False  False\n",
            "4   True   True  False  False\n"
          ]
        }
      ]
    },
    {
      "cell_type": "code",
      "source": [
        "# Exercise 81\n",
        "# Write a Pandas program to get lowest n records within each group of a given DataFrame.\n",
        "\n",
        "import pandas as pd\n",
        "d = {'col1': [1, 2, 3, 4, 7, 11], 'col2': [4, 5, 6, 9, 5, 0], 'col3': [7, 5, 8, 12, 1,11]}\n",
        "df = pd.DataFrame(data=d)\n",
        "print(\"Original DataFrame\")\n",
        "print(df)\n",
        "print(\"\\nLowest n records within each group of a DataFrame:\")\n",
        "df1 = df.nsmallest(3, 'col1')\n",
        "print(df1)\n",
        "df2 = df.nsmallest(3, 'col2')\n",
        "print(df2)\n",
        "df3 = df.nsmallest(3, 'col3')\n",
        "print(df3)\n"
      ],
      "metadata": {
        "colab": {
          "base_uri": "https://localhost:8080/"
        },
        "id": "k-9EFbJCX0Og",
        "outputId": "dd27ea9a-f2b2-4f35-da17-2ad43226845d"
      },
      "execution_count": null,
      "outputs": [
        {
          "output_type": "stream",
          "name": "stdout",
          "text": [
            "Original DataFrame\n",
            "   col1  col2  col3\n",
            "0     1     4     7\n",
            "1     2     5     5\n",
            "2     3     6     8\n",
            "3     4     9    12\n",
            "4     7     5     1\n",
            "5    11     0    11\n",
            "\n",
            "Lowest n records within each group of a DataFrame:\n",
            "   col1  col2  col3\n",
            "0     1     4     7\n",
            "1     2     5     5\n",
            "2     3     6     8\n",
            "   col1  col2  col3\n",
            "5    11     0    11\n",
            "0     1     4     7\n",
            "1     2     5     5\n",
            "   col1  col2  col3\n",
            "4     7     5     1\n",
            "1     2     5     5\n",
            "0     1     4     7\n"
          ]
        }
      ]
    }
  ]
}