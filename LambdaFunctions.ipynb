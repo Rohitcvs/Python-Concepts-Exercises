{
  "nbformat": 4,
  "nbformat_minor": 0,
  "metadata": {
    "colab": {
      "provenance": []
    },
    "kernelspec": {
      "name": "python3",
      "display_name": "Python 3"
    },
    "language_info": {
      "name": "python"
    }
  },
  "cells": [
    {
      "cell_type": "code",
      "execution_count": 27,
      "metadata": {
        "colab": {
          "base_uri": "https://localhost:8080/"
        },
        "id": "YT3hjV34ylIQ",
        "outputId": "e4542ab9-7dfc-442a-9088-266392582506"
      },
      "outputs": [
        {
          "output_type": "stream",
          "name": "stdout",
          "text": [
            "My name is Rohit\n"
          ]
        }
      ],
      "source": [
        "print(\"My name is Rohit\")"
      ]
    },
    {
      "cell_type": "code",
      "source": [
        "# Exercise 1\n",
        "# Write a Python program to create a lambda function that adds 15 to a given number passed in as\n",
        "# an argument, also create a lambda function that multiplies argument x with argument y\n",
        "# and prints the result\n",
        "\n",
        "a = lambda t : t + 15\n",
        "print(a(12))\n",
        "b = lambda x , y : x * y\n",
        "print(b(3, 4))"
      ],
      "metadata": {
        "colab": {
          "base_uri": "https://localhost:8080/"
        },
        "id": "i-rJCYn75kPd",
        "outputId": "954bbe23-0099-483d-f167-21b0a82e7668"
      },
      "execution_count": 28,
      "outputs": [
        {
          "output_type": "stream",
          "name": "stdout",
          "text": [
            "27\n",
            "12\n"
          ]
        }
      ]
    },
    {
      "cell_type": "code",
      "source": [
        "# Exercise 2\n",
        "# Write a python program to create a function that takes one argument, and that argument will\n",
        "# be multiplied with a given unknown number\n",
        "\n",
        "def function_compute(n):\n",
        "  return lambda x : x * n\n",
        "result = function_compute(2)\n",
        "print(\"Double the number of 12 =\" , result(12))\n",
        "result = function_compute(3)\n",
        "print(\"Triple the number of 12 =\", result(12))\n",
        "result = function_compute(4)\n",
        "print(\"Quadruple the number of 12 =\", result(12))\n",
        "result = function_compute(5)\n",
        "print(\"Quintuple the number of 12 =\" , result(12))\n"
      ],
      "metadata": {
        "colab": {
          "base_uri": "https://localhost:8080/"
        },
        "id": "7f75vaci6fCc",
        "outputId": "db2adce0-13dd-4c2d-a263-31e80f17aeb7"
      },
      "execution_count": 29,
      "outputs": [
        {
          "output_type": "stream",
          "name": "stdout",
          "text": [
            "Double the number of 12 = 24\n",
            "Triple the number of 12 = 36\n",
            "Quadruple the number of 12 = 48\n",
            "Quintuple the number of 12 = 60\n"
          ]
        }
      ]
    },
    {
      "cell_type": "code",
      "source": [
        "# Exercise 3\n",
        "# Write a python program to sort a list of tuples using Lambda\n",
        "\n",
        "subject_marks = [('English', 88), ('Science', 90), ('Maths', 97), ('Social sciences', 82)]\n",
        "print(\"Original list of tuples:\")\n",
        "print(subject_marks)\n",
        "subject_marks.sort(key = lambda x: x[1])\n",
        "print(\"\\nSorting the List of Tuples:\")\n",
        "print(subject_marks)"
      ],
      "metadata": {
        "colab": {
          "base_uri": "https://localhost:8080/"
        },
        "id": "ECBrj-RO7-x9",
        "outputId": "f41186af-9ec8-4aa0-a7dd-f55cd6a963ac"
      },
      "execution_count": 30,
      "outputs": [
        {
          "output_type": "stream",
          "name": "stdout",
          "text": [
            "Original list of tuples:\n",
            "[('English', 88), ('Science', 90), ('Maths', 97), ('Social sciences', 82)]\n",
            "\n",
            "Sorting the List of Tuples:\n",
            "[('Social sciences', 82), ('English', 88), ('Science', 90), ('Maths', 97)]\n"
          ]
        }
      ]
    },
    {
      "cell_type": "code",
      "source": [
        "# Exercise 4\n",
        "# Write a Python program to sort a list of dictionaries using Lambda\n",
        "\n",
        "models = [{'make':'Nokia', 'model':216, 'color':'Black'}, {'make':'Mi Max', 'model':'2', 'color':'Gold'}, {'make':'Samsung', 'model': 7, 'color':'Blue'}]\n",
        "print(\"Original list of dictionaries :\")\n",
        "print(models)\n",
        "sorted_models = sorted(models, key = lambda x : x['color'])\n",
        "print(\"\\nSorting the List of dictionaries :\")\n",
        "print(sorted_models)"
      ],
      "metadata": {
        "colab": {
          "base_uri": "https://localhost:8080/"
        },
        "id": "rQQKs74A9_Gh",
        "outputId": "017d9601-16cf-49bc-d5e2-40a4e4cce312"
      },
      "execution_count": 31,
      "outputs": [
        {
          "output_type": "stream",
          "name": "stdout",
          "text": [
            "Original list of dictionaries :\n",
            "[{'make': 'Nokia', 'model': 216, 'color': 'Black'}, {'make': 'Mi Max', 'model': '2', 'color': 'Gold'}, {'make': 'Samsung', 'model': 7, 'color': 'Blue'}]\n",
            "\n",
            "Sorting the List of dictionaries :\n",
            "[{'make': 'Nokia', 'model': 216, 'color': 'Black'}, {'make': 'Samsung', 'model': 7, 'color': 'Blue'}, {'make': 'Mi Max', 'model': '2', 'color': 'Gold'}]\n"
          ]
        }
      ]
    },
    {
      "cell_type": "code",
      "source": [
        "# Exercise 5\n",
        "# Write a Python program to filter a list of integers using Lambda\n",
        "\n",
        "integers = [1,2,3,4,5,6,7,8,9,10]\n",
        "print(\"Original list of integers:\")\n",
        "print(integers)\n",
        "print(\"\\nEven numbers from the said list:\")\n",
        "even_integers = list(filter(lambda x : x%2 == 0, integers))\n",
        "print(even_integers)\n",
        "print(\"\\nOdd numbers from the said list:\")\n",
        "odd_integers = list(filter(lambda y : y%2 != 0, integers))\n",
        "print(odd_integers)\n"
      ],
      "metadata": {
        "colab": {
          "base_uri": "https://localhost:8080/"
        },
        "id": "T358d6vWAp43",
        "outputId": "fe5b7af9-b827-46ef-9439-5c35bacce22a"
      },
      "execution_count": 32,
      "outputs": [
        {
          "output_type": "stream",
          "name": "stdout",
          "text": [
            "Original list of integers:\n",
            "[1, 2, 3, 4, 5, 6, 7, 8, 9, 10]\n",
            "\n",
            "Even numbers from the said list:\n",
            "[2, 4, 6, 8, 10]\n",
            "\n",
            "Odd numbers from the said list:\n",
            "[1, 3, 5, 7, 9]\n"
          ]
        }
      ]
    },
    {
      "cell_type": "code",
      "source": [
        "# Exercise 6\n",
        "# Write a Python program to find palindromes in a given list of string using Lamda\n",
        "\n",
        "text = [\"php\", \"w3r\", \"Python\", \"abcd\", \"Java\", \"aaa\"]\n",
        "print(\"Orginal list of strings:\")\n",
        "print(text)\n",
        "result = list(filter(lambda x: (x == \"\".join(reversed(x))), text))\n",
        "print(\"\\nList of palindromes:\")\n",
        "print(result)\n"
      ],
      "metadata": {
        "colab": {
          "base_uri": "https://localhost:8080/"
        },
        "id": "_-3O8u9QCZlD",
        "outputId": "57a4ae94-30bf-4258-a611-550cb9bf9d48"
      },
      "execution_count": 33,
      "outputs": [
        {
          "output_type": "stream",
          "name": "stdout",
          "text": [
            "Orginal list of strings:\n",
            "['php', 'w3r', 'Python', 'abcd', 'Java', 'aaa']\n",
            "\n",
            "List of palindromes:\n",
            "['php', 'aaa']\n"
          ]
        }
      ]
    },
    {
      "cell_type": "code",
      "source": [
        "# Exercise 7\n",
        "# Write a python program to add two given lists using map and lambda\n",
        "\n",
        "numbers1 = [1, 2, 3]\n",
        "numbers2 = [4, 5, 6]\n",
        "print(\"Original list:\")\n",
        "print(numbers1)\n",
        "print(numbers2)\n",
        "result = map(lambda x, y : x + y, numbers1, numbers2)\n",
        "print(\"\\nResult: after adding two list\")\n",
        "print(list(result))\n"
      ],
      "metadata": {
        "colab": {
          "base_uri": "https://localhost:8080/"
        },
        "id": "bGuP6-64DNZJ",
        "outputId": "c8e0def7-9d21-4639-cb62-d950bc6374f7"
      },
      "execution_count": 34,
      "outputs": [
        {
          "output_type": "stream",
          "name": "stdout",
          "text": [
            "Original list:\n",
            "[1, 2, 3]\n",
            "[4, 5, 6]\n",
            "\n",
            "Result: after adding two list\n",
            "[5, 7, 9]\n"
          ]
        }
      ]
    },
    {
      "cell_type": "code",
      "source": [
        "# Exercise 8\n",
        "# Write a Python program to filter a given list to determine if the values in the list have a length of 6 using Lambda.\n",
        "weekdays = ['Monday', 'Tuesday', 'Wednesday', 'Thursday', 'Friday', 'Saturday', 'Sunday']\n",
        "days = filter(lambda day: day if len(day)==6 else '', weekdays)\n",
        "for d in days:\n",
        "  print(d)"
      ],
      "metadata": {
        "colab": {
          "base_uri": "https://localhost:8080/"
        },
        "id": "CtFbLmnrEOwn",
        "outputId": "f9573547-ebe9-4b6a-8c80-b7a54088be17"
      },
      "execution_count": 35,
      "outputs": [
        {
          "output_type": "stream",
          "name": "stdout",
          "text": [
            "Monday\n",
            "Friday\n",
            "Sunday\n"
          ]
        }
      ]
    },
    {
      "cell_type": "code",
      "source": [
        "# Exercise 9\n",
        "# Write a Python program to square and cube every number in a given list of integers using Lambda\n",
        "\n",
        "nums = [1, 2, 3, 4, 5, 6, 7, 8, 9, 10]\n",
        "print(\"Original list of integers:\")\n",
        "print(nums)\n",
        "print(\"\\nSquare every number of the said list:\")\n",
        "square_nums = list(map(lambda x: x **2, nums))\n",
        "print(square_nums)\n",
        "print(\"\\nCube every number of the said list:\")\n",
        "cube_nums = list(map(lambda x : x **3, nums))\n",
        "print(cube_nums)"
      ],
      "metadata": {
        "colab": {
          "base_uri": "https://localhost:8080/"
        },
        "id": "kZbjGKdPFcer",
        "outputId": "c05068e7-c983-4efd-f72e-2c0e6400a1b0"
      },
      "execution_count": 36,
      "outputs": [
        {
          "output_type": "stream",
          "name": "stdout",
          "text": [
            "Original list of integers:\n",
            "[1, 2, 3, 4, 5, 6, 7, 8, 9, 10]\n",
            "\n",
            "Square every number of the said list:\n",
            "[1, 4, 9, 16, 25, 36, 49, 64, 81, 100]\n",
            "\n",
            "Cube every number of the said list:\n",
            "[1, 8, 27, 64, 125, 216, 343, 512, 729, 1000]\n"
          ]
        }
      ]
    },
    {
      "cell_type": "code",
      "source": [
        " # Exercise 10\n",
        " # Write a Python program to find whether a given string starts with a given character using Lambda\n",
        "\n",
        "starts_with = lambda x: True if x.startswith('P') else False\n",
        "print(starts_with('Python'))\n",
        "starts_with = lambda x: True if x.startswith('P') else False\n",
        "print(starts_with('Java'))\n"
      ],
      "metadata": {
        "colab": {
          "base_uri": "https://localhost:8080/"
        },
        "id": "jU7kcZvwGxOd",
        "outputId": "c3289eb9-33d6-4360-ac21-b3dfd10ac07d"
      },
      "execution_count": 37,
      "outputs": [
        {
          "output_type": "stream",
          "name": "stdout",
          "text": [
            "True\n",
            "False\n"
          ]
        }
      ]
    },
    {
      "cell_type": "code",
      "source": [
        "# Exercise 11\n",
        "# Write a Python program to find numbers divisible by nineteen or thirteen from a list of numbers using Lambda.\n",
        "\n",
        "numbers = [19, 65, 57, 39, 152, 639, 121, 44, 90, 190]\n",
        "print(\"Original list:\")\n",
        "print(numbers)\n",
        "result = list(filter(lambda x : (x % 19 == 0 or x % 13 == 0), numbers))\n",
        "print(\"\\nNumbers of the above list divisible by nineteen or thirteen:\")\n",
        "print((result))"
      ],
      "metadata": {
        "colab": {
          "base_uri": "https://localhost:8080/"
        },
        "id": "08iu6fYlHjwO",
        "outputId": "bc9b276e-f60c-4460-88eb-4bed1e374838"
      },
      "execution_count": 38,
      "outputs": [
        {
          "output_type": "stream",
          "name": "stdout",
          "text": [
            "Original list:\n",
            "[19, 65, 57, 39, 152, 639, 121, 44, 90, 190]\n",
            "\n",
            "Numbers of the above list divisible by nineteen or thirteen:\n",
            "[19, 65, 57, 39, 152, 190]\n"
          ]
        }
      ]
    },
    {
      "cell_type": "code",
      "source": [
        "# Exercise 12\n",
        "# Write a Python program that multiplies each number in a list with a given number\n",
        "# using lambda functions. Print the results\n",
        "nums = [2, 4, 6, 9 , 11]\n",
        "n = 2\n",
        "print(\"Original list: \", nums)\n",
        "print(\"Given number: \", n)\n",
        "filtered_numbers=list(map(lambda number:number*n,nums))\n",
        "print(\"Result:\")\n",
        "print(' '.join(map(str,filtered_numbers)))"
      ],
      "metadata": {
        "colab": {
          "base_uri": "https://localhost:8080/"
        },
        "id": "rkux9kx9Icsn",
        "outputId": "78c3cb5d-e9c6-4c6f-b7bb-d2f5a5880b04"
      },
      "execution_count": 39,
      "outputs": [
        {
          "output_type": "stream",
          "name": "stdout",
          "text": [
            "Original list:  [2, 4, 6, 9, 11]\n",
            "Given number:  2\n",
            "Result:\n",
            "4 8 12 18 22\n"
          ]
        }
      ]
    },
    {
      "cell_type": "code",
      "source": [
        "# Exercise 13\n",
        "# Write a Python program to triple all numbers in a given list of integers. Use Python map.\n",
        "numbers = (1, 2, 3, 4, 5, 6, 7)\n",
        "print(\"Original list: \", numbers)\n",
        "result = map(lambda x : x + x + x, numbers)\n",
        "print(\"Triple of said list numbers:\")\n",
        "print(list(result))"
      ],
      "metadata": {
        "colab": {
          "base_uri": "https://localhost:8080/"
        },
        "id": "uOAwb8CskHzp",
        "outputId": "68a24e29-8d05-4fb4-bcfb-42f167f884f7"
      },
      "execution_count": 40,
      "outputs": [
        {
          "output_type": "stream",
          "name": "stdout",
          "text": [
            "Original list:  (1, 2, 3, 4, 5, 6, 7)\n",
            "Triple of said list numbers:\n",
            "[3, 6, 9, 12, 15, 18, 21]\n"
          ]
        }
      ]
    },
    {
      "cell_type": "code",
      "source": [
        "# Exercise 14\n",
        "# Write a Python program to add three given lists using Python map and lambda\n",
        "\n",
        "numbers1 = [1, 2, 3]\n",
        "numbers2 = [4, 5, 6]\n",
        "numbers3 = [7, 8, 9]\n",
        "print(\"Original list: \")\n",
        "print(numbers1)\n",
        "print(numbers2)\n",
        "print(numbers3)\n",
        "result = map(lambda x, y, z: x + y + z, numbers1, numbers2, numbers3)\n",
        "print(\"\\nNew list after adding above three lists:\")\n",
        "print(list(result))"
      ],
      "metadata": {
        "colab": {
          "base_uri": "https://localhost:8080/"
        },
        "id": "NeWHcTRNk9fn",
        "outputId": "6efeca87-4ba7-4afc-a1c5-837c9d3df630"
      },
      "execution_count": 41,
      "outputs": [
        {
          "output_type": "stream",
          "name": "stdout",
          "text": [
            "Original list: \n",
            "[1, 2, 3]\n",
            "[4, 5, 6]\n",
            "[7, 8, 9]\n",
            "\n",
            "New list after adding above three lists:\n",
            "[12, 15, 18]\n"
          ]
        }
      ]
    },
    {
      "cell_type": "code",
      "source": [
        "# Exercise 15\n",
        "# Write a python program to listify the list of given strings individually using Python map\n",
        "colors = ['Red', 'Blue', 'Black', 'White', 'Pink']\n",
        "print(\"Original list: \")\n",
        "print(colors)\n",
        "print(\"\\nAfter listify the list of strings are:\")\n",
        "result = list(map(list, colors))\n",
        "print(result)"
      ],
      "metadata": {
        "colab": {
          "base_uri": "https://localhost:8080/"
        },
        "id": "RkqsgXehlrVm",
        "outputId": "05dbe5b4-26ed-4ec2-b161-718ccaf069f8"
      },
      "execution_count": 42,
      "outputs": [
        {
          "output_type": "stream",
          "name": "stdout",
          "text": [
            "Original list: \n",
            "['Red', 'Blue', 'Black', 'White', 'Pink']\n",
            "\n",
            "After listify the list of strings are:\n",
            "[['R', 'e', 'd'], ['B', 'l', 'u', 'e'], ['B', 'l', 'a', 'c', 'k'], ['W', 'h', 'i', 't', 'e'], ['P', 'i', 'n', 'k']]\n"
          ]
        }
      ]
    },
    {
      "cell_type": "code",
      "source": [
        "# Exercise 16\n",
        "# Write a Python program to create a list containing the power of said number in bases raised to the corresponding number in the index using Python map.\n",
        "\n",
        "#pow() is given to map two list objects, one for each base and index parameter.\n",
        "\n",
        "bases_numbers = [10, 20, 30, 40, 50, 60, 70, 80, 90, 100]\n",
        "indexes = [1, 2, 3, 4, 5, 6, 7, 8, 9, 10]\n",
        "print(\"Base numbers abd index: \")\n",
        "print(bases_numbers)\n",
        "print(indexes)\n",
        "result = list(map(pow, bases_numbers, indexes))\n",
        "print(\"\\nPower of said number in bases raised to the corresponding number in the index:\")\n",
        "print(result)"
      ],
      "metadata": {
        "colab": {
          "base_uri": "https://localhost:8080/"
        },
        "id": "1lr6VPlzmcMc",
        "outputId": "c3f4a0ee-159c-4990-ea8c-cdffb129a8d9"
      },
      "execution_count": 43,
      "outputs": [
        {
          "output_type": "stream",
          "name": "stdout",
          "text": [
            "Base numbers abd index: \n",
            "[10, 20, 30, 40, 50, 60, 70, 80, 90, 100]\n",
            "[1, 2, 3, 4, 5, 6, 7, 8, 9, 10]\n",
            "\n",
            "Power of said number in bases raised to the corresponding number in the index:\n",
            "[10, 400, 27000, 2560000, 312500000, 46656000000, 8235430000000, 1677721600000000, 387420489000000000, 100000000000000000000]\n"
          ]
        }
      ]
    },
    {
      "cell_type": "code",
      "source": [
        "# Exercise 17\n",
        "# Write a Python program to square the elements of a list using the map() function\n",
        "\n",
        "def square_num(n):\n",
        "  return n * n\n",
        "numbers = [4, 5, 2, 9]\n",
        "print(\"Original List: \", numbers)\n",
        "result = map(square_num, numbers)\n",
        "print(\"Square the elements of the said list using map():\")\n",
        "print(list(result))"
      ],
      "metadata": {
        "colab": {
          "base_uri": "https://localhost:8080/"
        },
        "id": "x2n76peUmmmB",
        "outputId": "c7a34796-53b8-4091-d6c5-5883bbdacefb"
      },
      "execution_count": 44,
      "outputs": [
        {
          "output_type": "stream",
          "name": "stdout",
          "text": [
            "Original List:  [4, 5, 2, 9]\n",
            "Square the elements of the said list using map():\n",
            "[16, 25, 4, 81]\n"
          ]
        }
      ]
    },
    {
      "cell_type": "code",
      "source": [
        "# Exercise 18\n",
        "# Write a Python program to convert all the characters into uppercase and lowercase and eliminate duplicate letters from a given sequence. Use the map() function.\n",
        "\n",
        "def change_cases(s):\n",
        "  return str(s).upper(), str(s).lower()\n",
        "\n",
        "chrars = {'a', 'b', 'E', 'f', 'a', 'i', 'o', 'U', 'a'}\n",
        "print(\"Original Characters:\\n\",chrars)\n",
        "\n",
        "result = map(change_cases, chrars)\n",
        "print(\"\\nAfter converting above characters in upper and lower cases\\nand eliminating duplicate letters:\")\n",
        "print(set(result))"
      ],
      "metadata": {
        "colab": {
          "base_uri": "https://localhost:8080/"
        },
        "id": "GvoNFFuFnY0Y",
        "outputId": "c71cc640-443a-44bf-dae5-185c0feeec36"
      },
      "execution_count": 45,
      "outputs": [
        {
          "output_type": "stream",
          "name": "stdout",
          "text": [
            "Original Characters:\n",
            " {'f', 'U', 'o', 'E', 'i', 'a', 'b'}\n",
            "\n",
            "After converting above characters in upper and lower cases\n",
            "and eliminating duplicate letters:\n",
            "{('A', 'a'), ('U', 'u'), ('O', 'o'), ('B', 'b'), ('F', 'f'), ('E', 'e'), ('I', 'i')}\n"
          ]
        }
      ]
    },
    {
      "cell_type": "code",
      "source": [
        "# Exercise 19\n",
        "# Write a Python program to add two given lists and find the difference between them. Use the map() function\n",
        "\n",
        "def addition_subtraction(x, y):\n",
        "  return x + y, x - y\n",
        "\n",
        "numbers1 = [6, 5, 3, 9]\n",
        "numbers2 = [0, 1, 7, 7]\n",
        "print(\"Original lists:\")\n",
        "print(numbers1)\n",
        "print(numbers2)\n",
        "result = map(addition_subtraction, numbers1, numbers2)\n",
        "print(\"\\nResult:\")\n",
        "print(list(result))"
      ],
      "metadata": {
        "colab": {
          "base_uri": "https://localhost:8080/"
        },
        "id": "K_SWjC8nnl_N",
        "outputId": "1d72313a-5a0e-4bd9-e7d8-dbc219a40b7d"
      },
      "execution_count": 46,
      "outputs": [
        {
          "output_type": "stream",
          "name": "stdout",
          "text": [
            "Original lists:\n",
            "[6, 5, 3, 9]\n",
            "[0, 1, 7, 7]\n",
            "\n",
            "Result:\n",
            "[(6, 6), (6, 4), (10, -4), (16, 2)]\n"
          ]
        }
      ]
    },
    {
      "cell_type": "code",
      "source": [
        "# Exercise 20\n",
        "# Write a Python program to convert a given list of integers and a tuple of integers into\n",
        "# a list of strings\n",
        "\n",
        "numbers_list = [1, 2, 3, 4]\n",
        "numbers_tuple = (0, 1, 2, 3)\n",
        "print(\"Original list and tuple:\")\n",
        "print(numbers_list)\n",
        "print(numbers_tuple)\n",
        "results_list = list(map(str, numbers_list))\n",
        "results_tuple = tuple(map(str, numbers_tuple))\n",
        "print(\"\\nList of strings:\")\n",
        "print(results_list)\n",
        "print(\"\\nTuple of strings:\")\n",
        "print(results_tuple)"
      ],
      "metadata": {
        "colab": {
          "base_uri": "https://localhost:8080/"
        },
        "id": "2Ol2hu86oKqY",
        "outputId": "3309cb23-fe74-4842-bbde-9e49d84b7bce"
      },
      "execution_count": 47,
      "outputs": [
        {
          "output_type": "stream",
          "name": "stdout",
          "text": [
            "Original list and tuple:\n",
            "[1, 2, 3, 4]\n",
            "(0, 1, 2, 3)\n",
            "\n",
            "List of strings:\n",
            "['1', '2', '3', '4']\n",
            "\n",
            "Tuple of strings:\n",
            "('0', '1', '2', '3')\n"
          ]
        }
      ]
    },
    {
      "cell_type": "code",
      "source": [
        "# Exercise 21\n",
        "# Write a Python program to create a new list taking specific elements from a tuple and convert a string value to an integer.\n",
        "\n",
        "student_data  = [('Alberto Franco','15/05/2002','35kg'), ('Gino Mcneill','17/05/2002','37kg'), ('Ryan Parkes','16/02/1999', '39kg'), ('Eesha Hinton','25/09/1998', '35kg')]\n",
        "print(\"Original data:\")\n",
        "print(student_data)\n",
        "students_data_name = list(map(lambda x:x[0], student_data))\n",
        "students_data_dob = list(map(lambda x:x[1], student_data))\n",
        "students_data_weight = list(map(lambda x:int(x[2][:-2]), student_data))\n",
        "print(\"\\nStudent name:\")\n",
        "print(students_data_name)\n",
        "print(\"Student name:\")\n",
        "print(students_data_dob)\n",
        "print(\"Student weight:\")\n",
        "print(students_data_weight)"
      ],
      "metadata": {
        "colab": {
          "base_uri": "https://localhost:8080/"
        },
        "id": "a01zJ9cko7dr",
        "outputId": "1c715f0c-106f-428e-da0a-15baf1c144df"
      },
      "execution_count": 48,
      "outputs": [
        {
          "output_type": "stream",
          "name": "stdout",
          "text": [
            "Original data:\n",
            "[('Alberto Franco', '15/05/2002', '35kg'), ('Gino Mcneill', '17/05/2002', '37kg'), ('Ryan Parkes', '16/02/1999', '39kg'), ('Eesha Hinton', '25/09/1998', '35kg')]\n",
            "\n",
            "Student name:\n",
            "['Alberto Franco', 'Gino Mcneill', 'Ryan Parkes', 'Eesha Hinton']\n",
            "Student name:\n",
            "['15/05/2002', '17/05/2002', '16/02/1999', '25/09/1998']\n",
            "Student weight:\n",
            "[35, 37, 39, 35]\n"
          ]
        }
      ]
    },
    {
      "cell_type": "code",
      "source": [
        "# Exercise 22\n",
        "#Write a Python program to find the ratio of positive numbers, negative numbers and zeroes in an array of integers.\n",
        "\n",
        "from array import array\n",
        "\n",
        "def plusMinus(nums):\n",
        "    n = len(nums)\n",
        "    n1 = n2 = n3 = 0\n",
        "\n",
        "    for x in nums:\n",
        "        if x > 0:\n",
        "            n1 += 1\n",
        "        elif x < 0:\n",
        "            n2 += 1\n",
        "        else:\n",
        "            n3 += 1\n",
        "\n",
        "    return round(n1/n,2), round(n2/n,2), round(n3/n,2)\n",
        "\n",
        "nums = array('i', [0, 1, 2, -1, -5, 6, 0, -3, -2, 3, 4, 6, 8])\n",
        "print(\"Original array:\",nums)\n",
        "nums_arr = list(map(int, nums))\n",
        "result = plusMinus(nums_arr)\n",
        "print(\"Ratio of positive numbers, negative numbers and zeroes:\")\n",
        "print(result)\n",
        "nums = array('i', [2, 1, 2, -1, -5, 6, 4, -3, -2, 3, 4, 6, 8])\n",
        "print(\"\\nOriginal array:\",nums)\n",
        "nums_arr = list(map(int, nums))\n",
        "result = plusMinus(nums_arr)\n",
        "print(\"Ratio of positive numbers, negative numbers and zeroes:\")\n",
        "print(result)"
      ],
      "metadata": {
        "colab": {
          "base_uri": "https://localhost:8080/"
        },
        "id": "8ZiPvRKJpHNp",
        "outputId": "97d8aac2-ca35-4f52-c10b-f14a833afb7f"
      },
      "execution_count": 49,
      "outputs": [
        {
          "output_type": "stream",
          "name": "stdout",
          "text": [
            "Original array: array('i', [0, 1, 2, -1, -5, 6, 0, -3, -2, 3, 4, 6, 8])\n",
            "Ratio of positive numbers, negative numbers and zeroes:\n",
            "(0.54, 0.31, 0.15)\n",
            "\n",
            "Original array: array('i', [2, 1, 2, -1, -5, 6, 4, -3, -2, 3, 4, 6, 8])\n",
            "Ratio of positive numbers, negative numbers and zeroes:\n",
            "(0.69, 0.31, 0.0)\n"
          ]
        }
      ]
    },
    {
      "cell_type": "code",
      "source": [
        "# Exercise 23\n",
        "# Write a Python program to interleave two lists into another list randomly. Use the map() function.\n",
        "\n",
        "import random\n",
        "def randomly_interleave(nums1, nums2):\n",
        "    result =  list(map(next, random.sample([iter(nums1)]*len(nums1) + [iter(nums2)]*len(nums2), len(nums1)+len(nums2))))\n",
        "    return result\n",
        "numbers1 = [1,2,7,8,3,7]\n",
        "numbers2 = [4,3,8,9,4,3,8,9]\n",
        "print(\"Original lists:\")\n",
        "print(numbers1)\n",
        "print(numbers2)\n",
        "print(\"\\nInterleave two given list into another list randomly:\")\n",
        "print(randomly_interleave(numbers1, numbers2))"
      ],
      "metadata": {
        "colab": {
          "base_uri": "https://localhost:8080/"
        },
        "id": "GGS5A6CIpWq3",
        "outputId": "2280229d-17cc-4775-8c72-d411301735c7"
      },
      "execution_count": 50,
      "outputs": [
        {
          "output_type": "stream",
          "name": "stdout",
          "text": [
            "Original lists:\n",
            "[1, 2, 7, 8, 3, 7]\n",
            "[4, 3, 8, 9, 4, 3, 8, 9]\n",
            "\n",
            "Interleave two given list into another list randomly:\n",
            "[4, 1, 3, 8, 9, 4, 2, 3, 7, 8, 8, 9, 3, 7]\n"
          ]
        }
      ]
    },
    {
      "cell_type": "code",
      "source": [
        "# Exercise 24\n",
        "# Write a Python program to convert a given list of strings into a list of lists using the map function.\n",
        "\n",
        "def strings_to_listOflists(str):\n",
        "    result = map(list, str)\n",
        "    return list(result)\n",
        "\n",
        "colors = [\"Red\", \"Green\", \"Black\", \"Orange\"]\n",
        "print('Original list of strings:')\n",
        "print(colors)\n",
        "print(\"\\nConvert the said list of strings into list of lists:\")\n",
        "print(strings_to_listOflists(colors))"
      ],
      "metadata": {
        "colab": {
          "base_uri": "https://localhost:8080/"
        },
        "id": "OgvXoJWNpodf",
        "outputId": "266a970b-fc5b-4185-a686-ae5462a040c0"
      },
      "execution_count": 51,
      "outputs": [
        {
          "output_type": "stream",
          "name": "stdout",
          "text": [
            "Original list of strings:\n",
            "['Red', 'Green', 'Black', 'Orange']\n",
            "\n",
            "Convert the said list of strings into list of lists:\n",
            "[['R', 'e', 'd'], ['G', 'r', 'e', 'e', 'n'], ['B', 'l', 'a', 'c', 'k'], ['O', 'r', 'a', 'n', 'g', 'e']]\n"
          ]
        }
      ]
    },
    {
      "cell_type": "code",
      "source": [
        "# Exercise 25\n",
        "# Write a Python program to convert a given list of tuples to a list of strings using the map function.\n",
        "\n",
        "def tuples_to_list_string(lst):\n",
        "    result = list(map(' '.join, lst))\n",
        "    return result\n",
        "colors = [('red', 'pink'), ('white', 'black'), ('orange', 'green')]\n",
        "print(\"Original list of tuples:\")\n",
        "print(colors)\n",
        "print(\"\\nConvert the said list of tuples to a list of strings:\")\n",
        "print(tuples_to_list_string(colors))\n",
        "names = [('Sheridan','Gentry'), ('Laila','Mckee'), ('Ahsan','Rivas'), ('Conna','Gonzalez')]\n",
        "print(\"\\nOriginal list of tuples:\")\n",
        "print(names)\n",
        "print(\"\\nConvert the said list of tuples to a list of strings:\")\n",
        "print(tuples_to_list_string(names))"
      ],
      "metadata": {
        "colab": {
          "base_uri": "https://localhost:8080/"
        },
        "id": "pcisfpzTpxsZ",
        "outputId": "4cbb998d-1dcc-451d-ec90-0aef93ee284d"
      },
      "execution_count": 52,
      "outputs": [
        {
          "output_type": "stream",
          "name": "stdout",
          "text": [
            "Original list of tuples:\n",
            "[('red', 'pink'), ('white', 'black'), ('orange', 'green')]\n",
            "\n",
            "Convert the said list of tuples to a list of strings:\n",
            "['red pink', 'white black', 'orange green']\n",
            "\n",
            "Original list of tuples:\n",
            "[('Sheridan', 'Gentry'), ('Laila', 'Mckee'), ('Ahsan', 'Rivas'), ('Conna', 'Gonzalez')]\n",
            "\n",
            "Convert the said list of tuples to a list of strings:\n",
            "['Sheridan Gentry', 'Laila Mckee', 'Ahsan Rivas', 'Conna Gonzalez']\n"
          ]
        }
      ]
    },
    {
      "cell_type": "code",
      "source": [],
      "metadata": {
        "id": "f_L-Ab_5p4yQ"
      },
      "execution_count": 52,
      "outputs": []
    }
  ]
}